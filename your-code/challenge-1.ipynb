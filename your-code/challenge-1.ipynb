{
 "cells": [
  {
   "cell_type": "code",
   "execution_count": 2,
   "metadata": {},
   "outputs": [],
   "source": [
    "import json\n",
    "import requests"
   ]
  },
  {
   "cell_type": "markdown",
   "metadata": {},
   "source": [
    "Only if you're using your environmental variable eith the `.env` file, import/install the following modules. Otherwise it is not necessary:\n",
    "\n",
    "https://pypi.org/project/python-dotenv/"
   ]
  },
  {
   "cell_type": "code",
   "execution_count": 3,
   "metadata": {
    "scrolled": true
   },
   "outputs": [],
   "source": [
    "import os\n",
    "from dotenv import load_dotenv"
   ]
  },
  {
   "cell_type": "code",
   "execution_count": 4,
   "metadata": {},
   "outputs": [
    {
     "data": {
      "text/plain": [
       "True"
      ]
     },
     "execution_count": 4,
     "metadata": {},
     "output_type": "execute_result"
    }
   ],
   "source": [
    "load_dotenv()"
   ]
  },
  {
   "cell_type": "code",
   "execution_count": 5,
   "metadata": {},
   "outputs": [
    {
     "name": "stdout",
     "output_type": "stream",
     "text": [
      "Requirement already satisfied: python-dotenv in /home/silviarico/anaconda3/envs/ironhack/lib/python3.8/site-packages (0.19.1)\r\n"
     ]
    }
   ],
   "source": [
    "!pip install python-dotenv"
   ]
  },
  {
   "cell_type": "code",
   "execution_count": 6,
   "metadata": {},
   "outputs": [],
   "source": [
    "github = os.getenv(\"token\")"
   ]
  },
  {
   "cell_type": "markdown",
   "metadata": {},
   "source": [
    "# Challenge 1: Fork Languages\n",
    "\n",
    "You will find out how many programming languages are used among all the forks created from the main lab repo of your bootcamp. Assuming the main lab repo is ironhack-datalabs/datamad1020-rev, you will:\n",
    "\n",
    "1. Obtain the full list of forks created from the main lab repo via Github API.\n",
    "\n",
    "2. Loop the JSON response to find out the language attribute of each fork. Use an array to store the language attributes of each fork.\n",
    "\n",
    "Hint: Each language should appear only once in your array.\n",
    "\n",
    "3. Print the language array. It should be something like:\n",
    "\n",
    "[\"Python\", \"Jupyter Notebook\", \"HTML\"]\n"
   ]
  },
  {
   "cell_type": "markdown",
   "metadata": {},
   "source": [
    "**HINT:**: Create a list with every **language_url** you find in every fork "
   ]
  },
  {
   "cell_type": "markdown",
   "metadata": {},
   "source": [
    "⚠️ **Remember to limit your output before submission**."
   ]
  },
  {
   "cell_type": "code",
   "execution_count": 7,
   "metadata": {},
   "outputs": [],
   "source": [
    "parameters = {\"Authorization\": f\"token {github}\"}"
   ]
  },
  {
   "cell_type": "code",
   "execution_count": 8,
   "metadata": {},
   "outputs": [],
   "source": [
    "act = requests.get(\"https://api.github.com/repos/ironhack-datalabs/datamad1020-rev\", params=parameters).json()"
   ]
  },
  {
   "cell_type": "code",
   "execution_count": 9,
   "metadata": {},
   "outputs": [],
   "source": [
    "forks = requests.get('https://api.github.com/repos/ironhack-datalabs/datamad1020-rev/forks', params=parameters).json()"
   ]
  },
  {
   "cell_type": "code",
   "execution_count": 10,
   "metadata": {},
   "outputs": [],
   "source": [
    "import pandas as pd"
   ]
  },
  {
   "cell_type": "code",
   "execution_count": 11,
   "metadata": {},
   "outputs": [
    {
     "data": {
      "text/html": [
       "<div>\n",
       "<style scoped>\n",
       "    .dataframe tbody tr th:only-of-type {\n",
       "        vertical-align: middle;\n",
       "    }\n",
       "\n",
       "    .dataframe tbody tr th {\n",
       "        vertical-align: top;\n",
       "    }\n",
       "\n",
       "    .dataframe thead th {\n",
       "        text-align: right;\n",
       "    }\n",
       "</style>\n",
       "<table border=\"1\" class=\"dataframe\">\n",
       "  <thead>\n",
       "    <tr style=\"text-align: right;\">\n",
       "      <th></th>\n",
       "      <th>id</th>\n",
       "      <th>node_id</th>\n",
       "      <th>name</th>\n",
       "      <th>full_name</th>\n",
       "      <th>private</th>\n",
       "      <th>owner</th>\n",
       "      <th>html_url</th>\n",
       "      <th>description</th>\n",
       "      <th>fork</th>\n",
       "      <th>url</th>\n",
       "      <th>...</th>\n",
       "      <th>open_issues_count</th>\n",
       "      <th>license</th>\n",
       "      <th>allow_forking</th>\n",
       "      <th>is_template</th>\n",
       "      <th>topics</th>\n",
       "      <th>visibility</th>\n",
       "      <th>forks</th>\n",
       "      <th>open_issues</th>\n",
       "      <th>watchers</th>\n",
       "      <th>default_branch</th>\n",
       "    </tr>\n",
       "  </thead>\n",
       "  <tbody>\n",
       "    <tr>\n",
       "      <th>0</th>\n",
       "      <td>424649171</td>\n",
       "      <td>R_kgDOGU-h0w</td>\n",
       "      <td>datamad1020-rev</td>\n",
       "      <td>LuisSerranoCerame/datamad1020-rev</td>\n",
       "      <td>False</td>\n",
       "      <td>{'login': 'LuisSerranoCerame', 'id': 91785337,...</td>\n",
       "      <td>https://github.com/LuisSerranoCerame/datamad10...</td>\n",
       "      <td>None</td>\n",
       "      <td>True</td>\n",
       "      <td>https://api.github.com/repos/LuisSerranoCerame...</td>\n",
       "      <td>...</td>\n",
       "      <td>0</td>\n",
       "      <td>{'key': 'agpl-3.0', 'name': 'GNU Affero Genera...</td>\n",
       "      <td>True</td>\n",
       "      <td>False</td>\n",
       "      <td>[]</td>\n",
       "      <td>public</td>\n",
       "      <td>0</td>\n",
       "      <td>0</td>\n",
       "      <td>0</td>\n",
       "      <td>master</td>\n",
       "    </tr>\n",
       "    <tr>\n",
       "      <th>1</th>\n",
       "      <td>424645536</td>\n",
       "      <td>R_kgDOGU-ToA</td>\n",
       "      <td>datamad1020-rev</td>\n",
       "      <td>silviarico/datamad1020-rev</td>\n",
       "      <td>False</td>\n",
       "      <td>{'login': 'silviarico', 'id': 92275247, 'node_...</td>\n",
       "      <td>https://github.com/silviarico/datamad1020-rev</td>\n",
       "      <td>None</td>\n",
       "      <td>True</td>\n",
       "      <td>https://api.github.com/repos/silviarico/datama...</td>\n",
       "      <td>...</td>\n",
       "      <td>0</td>\n",
       "      <td>{'key': 'agpl-3.0', 'name': 'GNU Affero Genera...</td>\n",
       "      <td>True</td>\n",
       "      <td>False</td>\n",
       "      <td>[]</td>\n",
       "      <td>public</td>\n",
       "      <td>0</td>\n",
       "      <td>0</td>\n",
       "      <td>0</td>\n",
       "      <td>master</td>\n",
       "    </tr>\n",
       "    <tr>\n",
       "      <th>2</th>\n",
       "      <td>364261883</td>\n",
       "      <td>MDEwOlJlcG9zaXRvcnkzNjQyNjE4ODM=</td>\n",
       "      <td>datamad1020-rev</td>\n",
       "      <td>BlancaRibas/datamad1020-rev</td>\n",
       "      <td>False</td>\n",
       "      <td>{'login': 'BlancaRibas', 'id': 82451770, 'node...</td>\n",
       "      <td>https://github.com/BlancaRibas/datamad1020-rev</td>\n",
       "      <td>None</td>\n",
       "      <td>True</td>\n",
       "      <td>https://api.github.com/repos/BlancaRibas/datam...</td>\n",
       "      <td>...</td>\n",
       "      <td>0</td>\n",
       "      <td>{'key': 'agpl-3.0', 'name': 'GNU Affero Genera...</td>\n",
       "      <td>True</td>\n",
       "      <td>False</td>\n",
       "      <td>[]</td>\n",
       "      <td>public</td>\n",
       "      <td>0</td>\n",
       "      <td>0</td>\n",
       "      <td>0</td>\n",
       "      <td>master</td>\n",
       "    </tr>\n",
       "    <tr>\n",
       "      <th>3</th>\n",
       "      <td>351190494</td>\n",
       "      <td>MDEwOlJlcG9zaXRvcnkzNTExOTA0OTQ=</td>\n",
       "      <td>datamad1020-rev</td>\n",
       "      <td>acamposla/datamad1020-rev</td>\n",
       "      <td>False</td>\n",
       "      <td>{'login': 'acamposla', 'id': 38134753, 'node_i...</td>\n",
       "      <td>https://github.com/acamposla/datamad1020-rev</td>\n",
       "      <td>None</td>\n",
       "      <td>True</td>\n",
       "      <td>https://api.github.com/repos/acamposla/datamad...</td>\n",
       "      <td>...</td>\n",
       "      <td>0</td>\n",
       "      <td>{'key': 'agpl-3.0', 'name': 'GNU Affero Genera...</td>\n",
       "      <td>True</td>\n",
       "      <td>False</td>\n",
       "      <td>[]</td>\n",
       "      <td>public</td>\n",
       "      <td>0</td>\n",
       "      <td>0</td>\n",
       "      <td>0</td>\n",
       "      <td>master</td>\n",
       "    </tr>\n",
       "    <tr>\n",
       "      <th>4</th>\n",
       "      <td>333169333</td>\n",
       "      <td>MDEwOlJlcG9zaXRvcnkzMzMxNjkzMzM=</td>\n",
       "      <td>datamad1020-rev</td>\n",
       "      <td>PaolaKarina/datamad1020-rev</td>\n",
       "      <td>False</td>\n",
       "      <td>{'login': 'PaolaKarina', 'id': 72129520, 'node...</td>\n",
       "      <td>https://github.com/PaolaKarina/datamad1020-rev</td>\n",
       "      <td>None</td>\n",
       "      <td>True</td>\n",
       "      <td>https://api.github.com/repos/PaolaKarina/datam...</td>\n",
       "      <td>...</td>\n",
       "      <td>0</td>\n",
       "      <td>{'key': 'agpl-3.0', 'name': 'GNU Affero Genera...</td>\n",
       "      <td>True</td>\n",
       "      <td>False</td>\n",
       "      <td>[]</td>\n",
       "      <td>public</td>\n",
       "      <td>0</td>\n",
       "      <td>0</td>\n",
       "      <td>0</td>\n",
       "      <td>master</td>\n",
       "    </tr>\n",
       "  </tbody>\n",
       "</table>\n",
       "<p>5 rows × 77 columns</p>\n",
       "</div>"
      ],
      "text/plain": [
       "          id                           node_id             name  \\\n",
       "0  424649171                      R_kgDOGU-h0w  datamad1020-rev   \n",
       "1  424645536                      R_kgDOGU-ToA  datamad1020-rev   \n",
       "2  364261883  MDEwOlJlcG9zaXRvcnkzNjQyNjE4ODM=  datamad1020-rev   \n",
       "3  351190494  MDEwOlJlcG9zaXRvcnkzNTExOTA0OTQ=  datamad1020-rev   \n",
       "4  333169333  MDEwOlJlcG9zaXRvcnkzMzMxNjkzMzM=  datamad1020-rev   \n",
       "\n",
       "                           full_name  private  \\\n",
       "0  LuisSerranoCerame/datamad1020-rev    False   \n",
       "1         silviarico/datamad1020-rev    False   \n",
       "2        BlancaRibas/datamad1020-rev    False   \n",
       "3          acamposla/datamad1020-rev    False   \n",
       "4        PaolaKarina/datamad1020-rev    False   \n",
       "\n",
       "                                               owner  \\\n",
       "0  {'login': 'LuisSerranoCerame', 'id': 91785337,...   \n",
       "1  {'login': 'silviarico', 'id': 92275247, 'node_...   \n",
       "2  {'login': 'BlancaRibas', 'id': 82451770, 'node...   \n",
       "3  {'login': 'acamposla', 'id': 38134753, 'node_i...   \n",
       "4  {'login': 'PaolaKarina', 'id': 72129520, 'node...   \n",
       "\n",
       "                                            html_url description  fork  \\\n",
       "0  https://github.com/LuisSerranoCerame/datamad10...        None  True   \n",
       "1      https://github.com/silviarico/datamad1020-rev        None  True   \n",
       "2     https://github.com/BlancaRibas/datamad1020-rev        None  True   \n",
       "3       https://github.com/acamposla/datamad1020-rev        None  True   \n",
       "4     https://github.com/PaolaKarina/datamad1020-rev        None  True   \n",
       "\n",
       "                                                 url  ... open_issues_count  \\\n",
       "0  https://api.github.com/repos/LuisSerranoCerame...  ...                 0   \n",
       "1  https://api.github.com/repos/silviarico/datama...  ...                 0   \n",
       "2  https://api.github.com/repos/BlancaRibas/datam...  ...                 0   \n",
       "3  https://api.github.com/repos/acamposla/datamad...  ...                 0   \n",
       "4  https://api.github.com/repos/PaolaKarina/datam...  ...                 0   \n",
       "\n",
       "                                             license allow_forking  \\\n",
       "0  {'key': 'agpl-3.0', 'name': 'GNU Affero Genera...          True   \n",
       "1  {'key': 'agpl-3.0', 'name': 'GNU Affero Genera...          True   \n",
       "2  {'key': 'agpl-3.0', 'name': 'GNU Affero Genera...          True   \n",
       "3  {'key': 'agpl-3.0', 'name': 'GNU Affero Genera...          True   \n",
       "4  {'key': 'agpl-3.0', 'name': 'GNU Affero Genera...          True   \n",
       "\n",
       "  is_template topics visibility forks open_issues watchers default_branch  \n",
       "0       False     []     public     0           0        0         master  \n",
       "1       False     []     public     0           0        0         master  \n",
       "2       False     []     public     0           0        0         master  \n",
       "3       False     []     public     0           0        0         master  \n",
       "4       False     []     public     0           0        0         master  \n",
       "\n",
       "[5 rows x 77 columns]"
      ]
     },
     "execution_count": 11,
     "metadata": {},
     "output_type": "execute_result"
    }
   ],
   "source": [
    "df_forks = pd.DataFrame(forks)\n",
    "df_forks.head()"
   ]
  },
  {
   "cell_type": "code",
   "execution_count": 12,
   "metadata": {},
   "outputs": [
    {
     "name": "stdout",
     "output_type": "stream",
     "text": [
      "['LuisSerranoCerame', 'silviarico', 'BlancaRibas', 'acamposla', 'PaolaKarina', 'VictorRodriguezIronhack', 'sonia-quintanar', 'jperezllorente', 'AnaMA96', 'datamad-instructor', 'rafadedubra', 'Nuria-Pe', 'SergioCaler0', 'LucianaLescano', 'Mario-Sainz', 'juanmarin00', 'JoseManuel-G', 'jesus-perez-366', 'sgonzalainen', 'Pptrv', 'Marxess', 'patri-carrasco', 'BlueJotas', 'jvazquezgalvezlp', 'leticia-sobrino', 'JaimeCalcedo']\n"
     ]
    }
   ],
   "source": [
    "usuarios = [diccio[\"owner\"][\"login\"] for diccio in forks]\n",
    "print(usuarios)\n",
    "\n",
    "\n",
    "    "
   ]
  },
  {
   "cell_type": "code",
   "execution_count": 13,
   "metadata": {},
   "outputs": [
    {
     "data": {
      "text/plain": [
       "Index(['id', 'node_id', 'name', 'full_name', 'private', 'owner', 'html_url',\n",
       "       'description', 'fork', 'url', 'forks_url', 'keys_url',\n",
       "       'collaborators_url', 'teams_url', 'hooks_url', 'issue_events_url',\n",
       "       'events_url', 'assignees_url', 'branches_url', 'tags_url', 'blobs_url',\n",
       "       'git_tags_url', 'git_refs_url', 'trees_url', 'statuses_url',\n",
       "       'languages_url', 'stargazers_url', 'contributors_url',\n",
       "       'subscribers_url', 'subscription_url', 'commits_url', 'git_commits_url',\n",
       "       'comments_url', 'issue_comment_url', 'contents_url', 'compare_url',\n",
       "       'merges_url', 'archive_url', 'downloads_url', 'issues_url', 'pulls_url',\n",
       "       'milestones_url', 'notifications_url', 'labels_url', 'releases_url',\n",
       "       'deployments_url', 'created_at', 'updated_at', 'pushed_at', 'git_url',\n",
       "       'ssh_url', 'clone_url', 'svn_url', 'homepage', 'size',\n",
       "       'stargazers_count', 'watchers_count', 'language', 'has_issues',\n",
       "       'has_projects', 'has_downloads', 'has_wiki', 'has_pages', 'forks_count',\n",
       "       'mirror_url', 'archived', 'disabled', 'open_issues_count', 'license',\n",
       "       'allow_forking', 'is_template', 'topics', 'visibility', 'forks',\n",
       "       'open_issues', 'watchers', 'default_branch'],\n",
       "      dtype='object')"
      ]
     },
     "execution_count": 13,
     "metadata": {},
     "output_type": "execute_result"
    }
   ],
   "source": [
    "df_forks.keys()\n",
    "\n"
   ]
  },
  {
   "cell_type": "code",
   "execution_count": 19,
   "metadata": {},
   "outputs": [
    {
     "data": {
      "text/html": [
       "<div>\n",
       "<style scoped>\n",
       "    .dataframe tbody tr th:only-of-type {\n",
       "        vertical-align: middle;\n",
       "    }\n",
       "\n",
       "    .dataframe tbody tr th {\n",
       "        vertical-align: top;\n",
       "    }\n",
       "\n",
       "    .dataframe thead th {\n",
       "        text-align: right;\n",
       "    }\n",
       "</style>\n",
       "<table border=\"1\" class=\"dataframe\">\n",
       "  <thead>\n",
       "    <tr style=\"text-align: right;\">\n",
       "      <th></th>\n",
       "      <th>id</th>\n",
       "      <th>language</th>\n",
       "    </tr>\n",
       "  </thead>\n",
       "  <tbody>\n",
       "    <tr>\n",
       "      <th>0</th>\n",
       "      <td>424649171</td>\n",
       "      <td>None</td>\n",
       "    </tr>\n",
       "    <tr>\n",
       "      <th>1</th>\n",
       "      <td>424645536</td>\n",
       "      <td>None</td>\n",
       "    </tr>\n",
       "    <tr>\n",
       "      <th>2</th>\n",
       "      <td>364261883</td>\n",
       "      <td>None</td>\n",
       "    </tr>\n",
       "    <tr>\n",
       "      <th>3</th>\n",
       "      <td>351190494</td>\n",
       "      <td>None</td>\n",
       "    </tr>\n",
       "    <tr>\n",
       "      <th>4</th>\n",
       "      <td>333169333</td>\n",
       "      <td>None</td>\n",
       "    </tr>\n",
       "  </tbody>\n",
       "</table>\n",
       "</div>"
      ],
      "text/plain": [
       "          id language\n",
       "0  424649171     None\n",
       "1  424645536     None\n",
       "2  364261883     None\n",
       "3  351190494     None\n",
       "4  333169333     None"
      ]
     },
     "execution_count": 19,
     "metadata": {},
     "output_type": "execute_result"
    }
   ],
   "source": [
    "language_id = (df_forks.loc[:,[\"id\",\"language\"]])\n",
    "language_id.head()\n"
   ]
  },
  {
   "cell_type": "code",
   "execution_count": 15,
   "metadata": {},
   "outputs": [
    {
     "data": {
      "text/plain": [
       "array([None, 'Jupyter Notebook'], dtype=object)"
      ]
     },
     "execution_count": 15,
     "metadata": {},
     "output_type": "execute_result"
    }
   ],
   "source": [
    "df_forks.language.unique()"
   ]
  }
 ],
 "metadata": {
  "kernelspec": {
   "display_name": "ironhack",
   "language": "python",
   "name": "ironhack"
  },
  "language_info": {
   "codemirror_mode": {
    "name": "ipython",
    "version": 3
   },
   "file_extension": ".py",
   "mimetype": "text/x-python",
   "name": "python",
   "nbconvert_exporter": "python",
   "pygments_lexer": "ipython3",
   "version": "3.8.5"
  },
  "toc": {
   "base_numbering": 1,
   "nav_menu": {},
   "number_sections": true,
   "sideBar": true,
   "skip_h1_title": true,
   "title_cell": "Table of Contents",
   "title_sidebar": "Contents",
   "toc_cell": false,
   "toc_position": {},
   "toc_section_display": true,
   "toc_window_display": false
  }
 },
 "nbformat": 4,
 "nbformat_minor": 2
}
