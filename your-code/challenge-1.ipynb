{
 "cells": [
  {
   "cell_type": "code",
   "execution_count": 22,
   "metadata": {},
   "outputs": [],
   "source": [
    "import json\n",
    "import requests"
   ]
  },
  {
   "cell_type": "markdown",
   "metadata": {},
   "source": [
    "Only if you're using your environmental variable eith the `.env` file, import/install the following modules. Otherwise it is not necessary:\n",
    "\n",
    "https://pypi.org/project/python-dotenv/"
   ]
  },
  {
   "cell_type": "code",
   "execution_count": 7,
   "metadata": {},
   "outputs": [],
   "source": [
    "import os\n",
    "from dotenv import load_dotenv"
   ]
  },
  {
   "cell_type": "code",
   "execution_count": null,
   "metadata": {},
   "outputs": [],
   "source": [
    "#pip install python-dotenv"
   ]
  },
  {
   "cell_type": "code",
   "execution_count": 6,
   "metadata": {
    "scrolled": true
   },
   "outputs": [
    {
     "name": "stdout",
     "output_type": "stream",
     "text": [
      "Requirement already satisfied: python-dotenv in /home/lydia/anaconda3/lib/python3.8/site-packages (0.19.1)\r\n"
     ]
    }
   ],
   "source": [
    "!pip install python-dotenv"
   ]
  },
  {
   "cell_type": "code",
   "execution_count": 16,
   "metadata": {},
   "outputs": [
    {
     "data": {
      "text/plain": [
       "True"
      ]
     },
     "execution_count": 16,
     "metadata": {},
     "output_type": "execute_result"
    }
   ],
   "source": [
    "load_dotenv()"
   ]
  },
  {
   "cell_type": "code",
   "execution_count": 17,
   "metadata": {},
   "outputs": [],
   "source": [
    "github = os.getenv(\"token\")"
   ]
  },
  {
   "cell_type": "markdown",
   "metadata": {},
   "source": [
    "# Challenge 1: Fork Languages\n",
    "\n",
    "You will find out how many programming languages are used among all the forks created from the main lab repo of your bootcamp. Assuming the main lab repo is ironhack-datalabs/datamad1020-rev, you will:\n",
    "\n",
    "1. Obtain the full list of forks created from the main lab repo via Github API.\n",
    "\n",
    "2. Loop the JSON response to find out the language attribute of each fork. Use an array to store the language attributes of each fork.\n",
    "\n",
    "Hint: Each language should appear only once in your array.\n",
    "\n",
    "3. Print the language array. It should be something like:\n",
    "\n",
    "[\"Python\", \"Jupyter Notebook\", \"HTML\"]\n"
   ]
  },
  {
   "cell_type": "markdown",
   "metadata": {},
   "source": [
    "**HINT:**: Create a list with every **language_url** you find in every fork "
   ]
  },
  {
   "cell_type": "markdown",
   "metadata": {},
   "source": [
    "⚠️ **Remember to limit your output before submission**."
   ]
  },
  {
   "cell_type": "code",
   "execution_count": 20,
   "metadata": {},
   "outputs": [],
   "source": [
    "url_github = \"https://api.github.com/repos/ironhack-datalabs/datamad1020-rev/forks\""
   ]
  },
  {
   "cell_type": "code",
   "execution_count": 24,
   "metadata": {},
   "outputs": [],
   "source": [
    "forks = requests.get(url_github)"
   ]
  },
  {
   "cell_type": "code",
   "execution_count": 25,
   "metadata": {},
   "outputs": [
    {
     "data": {
      "text/plain": [
       "<Response [200]>"
      ]
     },
     "execution_count": 25,
     "metadata": {},
     "output_type": "execute_result"
    }
   ],
   "source": [
    "forks"
   ]
  },
  {
   "cell_type": "code",
   "execution_count": 29,
   "metadata": {},
   "outputs": [
    {
     "data": {
      "text/plain": [
       "{'Server': 'GitHub.com', 'Date': 'Thu, 04 Nov 2021 15:28:05 GMT', 'Content-Type': 'application/json; charset=utf-8', 'Cache-Control': 'public, max-age=60, s-maxage=60', 'Vary': 'Accept, Accept-Encoding, Accept, X-Requested-With', 'ETag': 'W/\"8f88522a7957b868b984c87b47e654b861f4dde38c6d1be30373bd9d98167c81\"', 'X-GitHub-Media-Type': 'github.v3; format=json', 'Access-Control-Expose-Headers': 'ETag, Link, Location, Retry-After, X-GitHub-OTP, X-RateLimit-Limit, X-RateLimit-Remaining, X-RateLimit-Used, X-RateLimit-Resource, X-RateLimit-Reset, X-OAuth-Scopes, X-Accepted-OAuth-Scopes, X-Poll-Interval, X-GitHub-Media-Type, Deprecation, Sunset', 'Access-Control-Allow-Origin': '*', 'Strict-Transport-Security': 'max-age=31536000; includeSubdomains; preload', 'X-Frame-Options': 'deny', 'X-Content-Type-Options': 'nosniff', 'X-XSS-Protection': '0', 'Referrer-Policy': 'origin-when-cross-origin, strict-origin-when-cross-origin', 'Content-Security-Policy': \"default-src 'none'\", 'Content-Encoding': 'gzip', 'X-RateLimit-Limit': '60', 'X-RateLimit-Remaining': '22', 'X-RateLimit-Reset': '1636040042', 'X-RateLimit-Resource': 'core', 'X-RateLimit-Used': '38', 'Accept-Ranges': 'bytes', 'Transfer-Encoding': 'chunked', 'X-GitHub-Request-Id': 'C1BD:7C4D:37BB121:38DE57E:6183FC05'}"
      ]
     },
     "execution_count": 29,
     "metadata": {},
     "output_type": "execute_result"
    }
   ],
   "source": [
    "forks.headers"
   ]
  },
  {
   "cell_type": "code",
   "execution_count": 33,
   "metadata": {},
   "outputs": [],
   "source": [
    "forks_j=forks.json()"
   ]
  },
  {
   "cell_type": "code",
   "execution_count": 34,
   "metadata": {},
   "outputs": [
    {
     "data": {
      "text/plain": [
       "24"
      ]
     },
     "execution_count": 34,
     "metadata": {},
     "output_type": "execute_result"
    }
   ],
   "source": [
    "len(forks_j) #Me devuelve una lista de 24 diccionarios."
   ]
  },
  {
   "cell_type": "code",
   "execution_count": 56,
   "metadata": {},
   "outputs": [
    {
     "data": {
      "text/plain": [
       "{'id': 364261883,\n",
       " 'node_id': 'MDEwOlJlcG9zaXRvcnkzNjQyNjE4ODM=',\n",
       " 'name': 'datamad1020-rev',\n",
       " 'full_name': 'BlancaRibas/datamad1020-rev',\n",
       " 'private': False,\n",
       " 'owner': {'login': 'BlancaRibas',\n",
       "  'id': 82451770,\n",
       "  'node_id': 'MDQ6VXNlcjgyNDUxNzcw',\n",
       "  'avatar_url': 'https://avatars.githubusercontent.com/u/82451770?v=4',\n",
       "  'gravatar_id': '',\n",
       "  'url': 'https://api.github.com/users/BlancaRibas',\n",
       "  'html_url': 'https://github.com/BlancaRibas',\n",
       "  'followers_url': 'https://api.github.com/users/BlancaRibas/followers',\n",
       "  'following_url': 'https://api.github.com/users/BlancaRibas/following{/other_user}',\n",
       "  'gists_url': 'https://api.github.com/users/BlancaRibas/gists{/gist_id}',\n",
       "  'starred_url': 'https://api.github.com/users/BlancaRibas/starred{/owner}{/repo}',\n",
       "  'subscriptions_url': 'https://api.github.com/users/BlancaRibas/subscriptions',\n",
       "  'organizations_url': 'https://api.github.com/users/BlancaRibas/orgs',\n",
       "  'repos_url': 'https://api.github.com/users/BlancaRibas/repos',\n",
       "  'events_url': 'https://api.github.com/users/BlancaRibas/events{/privacy}',\n",
       "  'received_events_url': 'https://api.github.com/users/BlancaRibas/received_events',\n",
       "  'type': 'User',\n",
       "  'site_admin': False},\n",
       " 'html_url': 'https://github.com/BlancaRibas/datamad1020-rev',\n",
       " 'description': None,\n",
       " 'fork': True,\n",
       " 'url': 'https://api.github.com/repos/BlancaRibas/datamad1020-rev',\n",
       " 'forks_url': 'https://api.github.com/repos/BlancaRibas/datamad1020-rev/forks',\n",
       " 'keys_url': 'https://api.github.com/repos/BlancaRibas/datamad1020-rev/keys{/key_id}',\n",
       " 'collaborators_url': 'https://api.github.com/repos/BlancaRibas/datamad1020-rev/collaborators{/collaborator}',\n",
       " 'teams_url': 'https://api.github.com/repos/BlancaRibas/datamad1020-rev/teams',\n",
       " 'hooks_url': 'https://api.github.com/repos/BlancaRibas/datamad1020-rev/hooks',\n",
       " 'issue_events_url': 'https://api.github.com/repos/BlancaRibas/datamad1020-rev/issues/events{/number}',\n",
       " 'events_url': 'https://api.github.com/repos/BlancaRibas/datamad1020-rev/events',\n",
       " 'assignees_url': 'https://api.github.com/repos/BlancaRibas/datamad1020-rev/assignees{/user}',\n",
       " 'branches_url': 'https://api.github.com/repos/BlancaRibas/datamad1020-rev/branches{/branch}',\n",
       " 'tags_url': 'https://api.github.com/repos/BlancaRibas/datamad1020-rev/tags',\n",
       " 'blobs_url': 'https://api.github.com/repos/BlancaRibas/datamad1020-rev/git/blobs{/sha}',\n",
       " 'git_tags_url': 'https://api.github.com/repos/BlancaRibas/datamad1020-rev/git/tags{/sha}',\n",
       " 'git_refs_url': 'https://api.github.com/repos/BlancaRibas/datamad1020-rev/git/refs{/sha}',\n",
       " 'trees_url': 'https://api.github.com/repos/BlancaRibas/datamad1020-rev/git/trees{/sha}',\n",
       " 'statuses_url': 'https://api.github.com/repos/BlancaRibas/datamad1020-rev/statuses/{sha}',\n",
       " 'languages_url': 'https://api.github.com/repos/BlancaRibas/datamad1020-rev/languages',\n",
       " 'stargazers_url': 'https://api.github.com/repos/BlancaRibas/datamad1020-rev/stargazers',\n",
       " 'contributors_url': 'https://api.github.com/repos/BlancaRibas/datamad1020-rev/contributors',\n",
       " 'subscribers_url': 'https://api.github.com/repos/BlancaRibas/datamad1020-rev/subscribers',\n",
       " 'subscription_url': 'https://api.github.com/repos/BlancaRibas/datamad1020-rev/subscription',\n",
       " 'commits_url': 'https://api.github.com/repos/BlancaRibas/datamad1020-rev/commits{/sha}',\n",
       " 'git_commits_url': 'https://api.github.com/repos/BlancaRibas/datamad1020-rev/git/commits{/sha}',\n",
       " 'comments_url': 'https://api.github.com/repos/BlancaRibas/datamad1020-rev/comments{/number}',\n",
       " 'issue_comment_url': 'https://api.github.com/repos/BlancaRibas/datamad1020-rev/issues/comments{/number}',\n",
       " 'contents_url': 'https://api.github.com/repos/BlancaRibas/datamad1020-rev/contents/{+path}',\n",
       " 'compare_url': 'https://api.github.com/repos/BlancaRibas/datamad1020-rev/compare/{base}...{head}',\n",
       " 'merges_url': 'https://api.github.com/repos/BlancaRibas/datamad1020-rev/merges',\n",
       " 'archive_url': 'https://api.github.com/repos/BlancaRibas/datamad1020-rev/{archive_format}{/ref}',\n",
       " 'downloads_url': 'https://api.github.com/repos/BlancaRibas/datamad1020-rev/downloads',\n",
       " 'issues_url': 'https://api.github.com/repos/BlancaRibas/datamad1020-rev/issues{/number}',\n",
       " 'pulls_url': 'https://api.github.com/repos/BlancaRibas/datamad1020-rev/pulls{/number}',\n",
       " 'milestones_url': 'https://api.github.com/repos/BlancaRibas/datamad1020-rev/milestones{/number}',\n",
       " 'notifications_url': 'https://api.github.com/repos/BlancaRibas/datamad1020-rev/notifications{?since,all,participating}',\n",
       " 'labels_url': 'https://api.github.com/repos/BlancaRibas/datamad1020-rev/labels{/name}',\n",
       " 'releases_url': 'https://api.github.com/repos/BlancaRibas/datamad1020-rev/releases{/id}',\n",
       " 'deployments_url': 'https://api.github.com/repos/BlancaRibas/datamad1020-rev/deployments',\n",
       " 'created_at': '2021-05-04T13:17:24Z',\n",
       " 'updated_at': '2021-05-04T13:17:25Z',\n",
       " 'pushed_at': '2021-03-24T18:55:43Z',\n",
       " 'git_url': 'git://github.com/BlancaRibas/datamad1020-rev.git',\n",
       " 'ssh_url': 'git@github.com:BlancaRibas/datamad1020-rev.git',\n",
       " 'clone_url': 'https://github.com/BlancaRibas/datamad1020-rev.git',\n",
       " 'svn_url': 'https://github.com/BlancaRibas/datamad1020-rev',\n",
       " 'homepage': None,\n",
       " 'size': 164264,\n",
       " 'stargazers_count': 0,\n",
       " 'watchers_count': 0,\n",
       " 'language': None,\n",
       " 'has_issues': False,\n",
       " 'has_projects': True,\n",
       " 'has_downloads': True,\n",
       " 'has_wiki': True,\n",
       " 'has_pages': False,\n",
       " 'forks_count': 0,\n",
       " 'mirror_url': None,\n",
       " 'archived': False,\n",
       " 'disabled': False,\n",
       " 'open_issues_count': 0,\n",
       " 'license': {'key': 'agpl-3.0',\n",
       "  'name': 'GNU Affero General Public License v3.0',\n",
       "  'spdx_id': 'AGPL-3.0',\n",
       "  'url': 'https://api.github.com/licenses/agpl-3.0',\n",
       "  'node_id': 'MDc6TGljZW5zZTE='},\n",
       " 'allow_forking': True,\n",
       " 'is_template': False,\n",
       " 'topics': [],\n",
       " 'visibility': 'public',\n",
       " 'forks': 0,\n",
       " 'open_issues': 0,\n",
       " 'watchers': 0,\n",
       " 'default_branch': 'master'}"
      ]
     },
     "execution_count": 56,
     "metadata": {},
     "output_type": "execute_result"
    }
   ],
   "source": [
    "forks_j[0] #Primer elemento de la lista que es un diccionario."
   ]
  },
  {
   "cell_type": "code",
   "execution_count": 57,
   "metadata": {},
   "outputs": [
    {
     "data": {
      "text/plain": [
       "dict_keys(['id', 'node_id', 'name', 'full_name', 'private', 'owner', 'html_url', 'description', 'fork', 'url', 'forks_url', 'keys_url', 'collaborators_url', 'teams_url', 'hooks_url', 'issue_events_url', 'events_url', 'assignees_url', 'branches_url', 'tags_url', 'blobs_url', 'git_tags_url', 'git_refs_url', 'trees_url', 'statuses_url', 'languages_url', 'stargazers_url', 'contributors_url', 'subscribers_url', 'subscription_url', 'commits_url', 'git_commits_url', 'comments_url', 'issue_comment_url', 'contents_url', 'compare_url', 'merges_url', 'archive_url', 'downloads_url', 'issues_url', 'pulls_url', 'milestones_url', 'notifications_url', 'labels_url', 'releases_url', 'deployments_url', 'created_at', 'updated_at', 'pushed_at', 'git_url', 'ssh_url', 'clone_url', 'svn_url', 'homepage', 'size', 'stargazers_count', 'watchers_count', 'language', 'has_issues', 'has_projects', 'has_downloads', 'has_wiki', 'has_pages', 'forks_count', 'mirror_url', 'archived', 'disabled', 'open_issues_count', 'license', 'allow_forking', 'is_template', 'topics', 'visibility', 'forks', 'open_issues', 'watchers', 'default_branch'])"
      ]
     },
     "execution_count": 57,
     "metadata": {},
     "output_type": "execute_result"
    }
   ],
   "source": [
    "forks_j[0].keys() #Me devuelve todas las keys del diccionario (primer elemento de la lista)."
   ]
  },
  {
   "cell_type": "code",
   "execution_count": 62,
   "metadata": {},
   "outputs": [],
   "source": [
    "forks_j[0]['language'] #me devuelve el value de la key \"language\" que en este caso es none."
   ]
  },
  {
   "cell_type": "code",
   "execution_count": 65,
   "metadata": {},
   "outputs": [
    {
     "data": {
      "text/plain": [
       "{'id': 364261883,\n",
       " 'node_id': 'MDEwOlJlcG9zaXRvcnkzNjQyNjE4ODM=',\n",
       " 'name': 'datamad1020-rev',\n",
       " 'full_name': 'BlancaRibas/datamad1020-rev',\n",
       " 'private': False,\n",
       " 'owner': {'login': 'BlancaRibas',\n",
       "  'id': 82451770,\n",
       "  'node_id': 'MDQ6VXNlcjgyNDUxNzcw',\n",
       "  'avatar_url': 'https://avatars.githubusercontent.com/u/82451770?v=4',\n",
       "  'gravatar_id': '',\n",
       "  'url': 'https://api.github.com/users/BlancaRibas',\n",
       "  'html_url': 'https://github.com/BlancaRibas',\n",
       "  'followers_url': 'https://api.github.com/users/BlancaRibas/followers',\n",
       "  'following_url': 'https://api.github.com/users/BlancaRibas/following{/other_user}',\n",
       "  'gists_url': 'https://api.github.com/users/BlancaRibas/gists{/gist_id}',\n",
       "  'starred_url': 'https://api.github.com/users/BlancaRibas/starred{/owner}{/repo}',\n",
       "  'subscriptions_url': 'https://api.github.com/users/BlancaRibas/subscriptions',\n",
       "  'organizations_url': 'https://api.github.com/users/BlancaRibas/orgs',\n",
       "  'repos_url': 'https://api.github.com/users/BlancaRibas/repos',\n",
       "  'events_url': 'https://api.github.com/users/BlancaRibas/events{/privacy}',\n",
       "  'received_events_url': 'https://api.github.com/users/BlancaRibas/received_events',\n",
       "  'type': 'User',\n",
       "  'site_admin': False},\n",
       " 'html_url': 'https://github.com/BlancaRibas/datamad1020-rev',\n",
       " 'description': None,\n",
       " 'fork': True,\n",
       " 'url': 'https://api.github.com/repos/BlancaRibas/datamad1020-rev',\n",
       " 'forks_url': 'https://api.github.com/repos/BlancaRibas/datamad1020-rev/forks',\n",
       " 'keys_url': 'https://api.github.com/repos/BlancaRibas/datamad1020-rev/keys{/key_id}',\n",
       " 'collaborators_url': 'https://api.github.com/repos/BlancaRibas/datamad1020-rev/collaborators{/collaborator}',\n",
       " 'teams_url': 'https://api.github.com/repos/BlancaRibas/datamad1020-rev/teams',\n",
       " 'hooks_url': 'https://api.github.com/repos/BlancaRibas/datamad1020-rev/hooks',\n",
       " 'issue_events_url': 'https://api.github.com/repos/BlancaRibas/datamad1020-rev/issues/events{/number}',\n",
       " 'events_url': 'https://api.github.com/repos/BlancaRibas/datamad1020-rev/events',\n",
       " 'assignees_url': 'https://api.github.com/repos/BlancaRibas/datamad1020-rev/assignees{/user}',\n",
       " 'branches_url': 'https://api.github.com/repos/BlancaRibas/datamad1020-rev/branches{/branch}',\n",
       " 'tags_url': 'https://api.github.com/repos/BlancaRibas/datamad1020-rev/tags',\n",
       " 'blobs_url': 'https://api.github.com/repos/BlancaRibas/datamad1020-rev/git/blobs{/sha}',\n",
       " 'git_tags_url': 'https://api.github.com/repos/BlancaRibas/datamad1020-rev/git/tags{/sha}',\n",
       " 'git_refs_url': 'https://api.github.com/repos/BlancaRibas/datamad1020-rev/git/refs{/sha}',\n",
       " 'trees_url': 'https://api.github.com/repos/BlancaRibas/datamad1020-rev/git/trees{/sha}',\n",
       " 'statuses_url': 'https://api.github.com/repos/BlancaRibas/datamad1020-rev/statuses/{sha}',\n",
       " 'languages_url': 'https://api.github.com/repos/BlancaRibas/datamad1020-rev/languages',\n",
       " 'stargazers_url': 'https://api.github.com/repos/BlancaRibas/datamad1020-rev/stargazers',\n",
       " 'contributors_url': 'https://api.github.com/repos/BlancaRibas/datamad1020-rev/contributors',\n",
       " 'subscribers_url': 'https://api.github.com/repos/BlancaRibas/datamad1020-rev/subscribers',\n",
       " 'subscription_url': 'https://api.github.com/repos/BlancaRibas/datamad1020-rev/subscription',\n",
       " 'commits_url': 'https://api.github.com/repos/BlancaRibas/datamad1020-rev/commits{/sha}',\n",
       " 'git_commits_url': 'https://api.github.com/repos/BlancaRibas/datamad1020-rev/git/commits{/sha}',\n",
       " 'comments_url': 'https://api.github.com/repos/BlancaRibas/datamad1020-rev/comments{/number}',\n",
       " 'issue_comment_url': 'https://api.github.com/repos/BlancaRibas/datamad1020-rev/issues/comments{/number}',\n",
       " 'contents_url': 'https://api.github.com/repos/BlancaRibas/datamad1020-rev/contents/{+path}',\n",
       " 'compare_url': 'https://api.github.com/repos/BlancaRibas/datamad1020-rev/compare/{base}...{head}',\n",
       " 'merges_url': 'https://api.github.com/repos/BlancaRibas/datamad1020-rev/merges',\n",
       " 'archive_url': 'https://api.github.com/repos/BlancaRibas/datamad1020-rev/{archive_format}{/ref}',\n",
       " 'downloads_url': 'https://api.github.com/repos/BlancaRibas/datamad1020-rev/downloads',\n",
       " 'issues_url': 'https://api.github.com/repos/BlancaRibas/datamad1020-rev/issues{/number}',\n",
       " 'pulls_url': 'https://api.github.com/repos/BlancaRibas/datamad1020-rev/pulls{/number}',\n",
       " 'milestones_url': 'https://api.github.com/repos/BlancaRibas/datamad1020-rev/milestones{/number}',\n",
       " 'notifications_url': 'https://api.github.com/repos/BlancaRibas/datamad1020-rev/notifications{?since,all,participating}',\n",
       " 'labels_url': 'https://api.github.com/repos/BlancaRibas/datamad1020-rev/labels{/name}',\n",
       " 'releases_url': 'https://api.github.com/repos/BlancaRibas/datamad1020-rev/releases{/id}',\n",
       " 'deployments_url': 'https://api.github.com/repos/BlancaRibas/datamad1020-rev/deployments',\n",
       " 'created_at': '2021-05-04T13:17:24Z',\n",
       " 'updated_at': '2021-05-04T13:17:25Z',\n",
       " 'pushed_at': '2021-03-24T18:55:43Z',\n",
       " 'git_url': 'git://github.com/BlancaRibas/datamad1020-rev.git',\n",
       " 'ssh_url': 'git@github.com:BlancaRibas/datamad1020-rev.git',\n",
       " 'clone_url': 'https://github.com/BlancaRibas/datamad1020-rev.git',\n",
       " 'svn_url': 'https://github.com/BlancaRibas/datamad1020-rev',\n",
       " 'homepage': None,\n",
       " 'size': 164264,\n",
       " 'stargazers_count': 0,\n",
       " 'watchers_count': 0,\n",
       " 'language': None,\n",
       " 'has_issues': False,\n",
       " 'has_projects': True,\n",
       " 'has_downloads': True,\n",
       " 'has_wiki': True,\n",
       " 'has_pages': False,\n",
       " 'forks_count': 0,\n",
       " 'mirror_url': None,\n",
       " 'archived': False,\n",
       " 'disabled': False,\n",
       " 'open_issues_count': 0,\n",
       " 'license': {'key': 'agpl-3.0',\n",
       "  'name': 'GNU Affero General Public License v3.0',\n",
       "  'spdx_id': 'AGPL-3.0',\n",
       "  'url': 'https://api.github.com/licenses/agpl-3.0',\n",
       "  'node_id': 'MDc6TGljZW5zZTE='},\n",
       " 'allow_forking': True,\n",
       " 'is_template': False,\n",
       " 'topics': [],\n",
       " 'visibility': 'public',\n",
       " 'forks': 0,\n",
       " 'open_issues': 0,\n",
       " 'watchers': 0,\n",
       " 'default_branch': 'master'}"
      ]
     },
     "execution_count": 65,
     "metadata": {},
     "output_type": "execute_result"
    }
   ],
   "source": [
    "forks_j[0]"
   ]
  },
  {
   "cell_type": "code",
   "execution_count": 55,
   "metadata": {},
   "outputs": [],
   "source": [
    "lista_fork="
   ]
  },
  {
   "cell_type": "code",
   "execution_count": 69,
   "metadata": {},
   "outputs": [
    {
     "name": "stdout",
     "output_type": "stream",
     "text": [
      "{None, 'Jupyter Notebook'}\n"
     ]
    }
   ],
   "source": [
    "#Itero por los ELEMENTOS de la lista (diccionarios). Por eso, cuando uso append añado la value del cada elemento de la lista (que es un diccionario):\n",
    "\n",
    "listaforks=[]\n",
    "for n in forks_j:\n",
    "    listaforks.append(n['language'])\n",
    "print (set(listaforks)) #convierto la lista que me devuelve con valores repetidos en un set (que se caracteriza por tener solo valores únicos)."
   ]
  },
  {
   "cell_type": "code",
   "execution_count": 70,
   "metadata": {},
   "outputs": [
    {
     "name": "stdout",
     "output_type": "stream",
     "text": [
      "{None, 'Jupyter Notebook'}\n"
     ]
    }
   ],
   "source": [
    "#Itero por las POSICIONES de la lista, es decir, por los índices:\n",
    "for n in range(len(forks_j)):\n",
    "    listaforks.append(forks_j[n]['language'])\n",
    "print (set(listaforks))"
   ]
  }
 ],
 "metadata": {
  "kernelspec": {
   "display_name": "Python 3",
   "language": "python",
   "name": "python3"
  },
  "language_info": {
   "codemirror_mode": {
    "name": "ipython",
    "version": 3
   },
   "file_extension": ".py",
   "mimetype": "text/x-python",
   "name": "python",
   "nbconvert_exporter": "python",
   "pygments_lexer": "ipython3",
   "version": "3.8.8"
  },
  "toc": {
   "base_numbering": 1,
   "nav_menu": {},
   "number_sections": true,
   "sideBar": true,
   "skip_h1_title": true,
   "title_cell": "Table of Contents",
   "title_sidebar": "Contents",
   "toc_cell": false,
   "toc_position": {},
   "toc_section_display": true,
   "toc_window_display": false
  }
 },
 "nbformat": 4,
 "nbformat_minor": 2
}
