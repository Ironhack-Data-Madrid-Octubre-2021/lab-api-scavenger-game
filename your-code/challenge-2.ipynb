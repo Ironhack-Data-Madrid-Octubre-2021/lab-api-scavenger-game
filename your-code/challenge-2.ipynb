{
 "cells": [
  {
   "cell_type": "code",
   "execution_count": 1,
   "id": "developing-printing",
   "metadata": {},
   "outputs": [],
   "source": [
    "import json\n",
    "import requests"
   ]
  },
  {
   "cell_type": "code",
   "execution_count": 2,
   "id": "b02b8513",
   "metadata": {},
   "outputs": [],
   "source": [
    "import os\n",
    "from dotenv import load_dotenv"
   ]
  },
  {
   "cell_type": "code",
   "execution_count": 3,
   "id": "5dd4bf1f",
   "metadata": {},
   "outputs": [
    {
     "data": {
      "text/plain": [
       "True"
      ]
     },
     "execution_count": 3,
     "metadata": {},
     "output_type": "execute_result"
    }
   ],
   "source": [
    "load_dotenv()"
   ]
  },
  {
   "cell_type": "code",
   "execution_count": 4,
   "id": "cb4e8dd2",
   "metadata": {},
   "outputs": [],
   "source": [
    "github = os.getenv(\"tok\")"
   ]
  },
  {
   "cell_type": "markdown",
   "id": "threaded-asbestos",
   "metadata": {},
   "source": [
    "# Challenge 2: Count Commits\n",
    "\n",
    "Count how many commits were made in the past week.\n",
    "\n",
    "Obtain all the commits made in the past week via API, which is a JSON array that contains multiple commit objects.\n",
    "\n",
    "Count how many commit objects are contained in the array."
   ]
  },
  {
   "cell_type": "markdown",
   "id": "norwegian-praise",
   "metadata": {},
   "source": [
    "⚠️ **Remember to limit your output before submission**."
   ]
  },
  {
   "cell_type": "code",
   "execution_count": 5,
   "id": "217571bb",
   "metadata": {},
   "outputs": [],
   "source": [
    "#https://github.com/Ironhack-Data-Madrid-Octubre-2021/apuntes_clase\n",
    "url_com = \"https://api.github.com/repos/Ironhack-Data-Madrid-Octubre-2021/apuntes_clase/commits\""
   ]
  },
  {
   "cell_type": "code",
   "execution_count": 6,
   "id": "dbad0c50",
   "metadata": {},
   "outputs": [],
   "source": [
    "parameters = {\"Authorization\": f\"token {github}\",\"since\" :\"2021-10-28\" } #parámetro since"
   ]
  },
  {
   "cell_type": "code",
   "execution_count": 7,
   "id": "ongoing-taylor",
   "metadata": {},
   "outputs": [
    {
     "data": {
      "text/plain": [
       "30"
      ]
     },
     "execution_count": 7,
     "metadata": {},
     "output_type": "execute_result"
    }
   ],
   "source": [
    "# forks = requests.get(url_github, headers=parameters).json()\n",
    "commits = requests.get(url_com,headers=parameters).json()\n",
    "len(commits)"
   ]
  },
  {
   "cell_type": "code",
   "execution_count": 8,
   "id": "58765c63",
   "metadata": {},
   "outputs": [
    {
     "name": "stdout",
     "output_type": "stream",
     "text": [
      "la semana pasada Ras se lió a hacer 30 parribas en el repo de los apuntes\n"
     ]
    }
   ],
   "source": [
    "how_many_comits = len(commits)\n",
    "print(f\"la semana pasada Ras se lió a hacer {how_many_comits} parribas en el repo de los apuntes\")"
   ]
  },
  {
   "cell_type": "code",
   "execution_count": null,
   "id": "14ffc2de",
   "metadata": {},
   "outputs": [],
   "source": []
  }
 ],
 "metadata": {
  "kernelspec": {
   "display_name": "ironhack",
   "language": "python",
   "name": "ironhack"
  },
  "language_info": {
   "codemirror_mode": {
    "name": "ipython",
    "version": 3
   },
   "file_extension": ".py",
   "mimetype": "text/x-python",
   "name": "python",
   "nbconvert_exporter": "python",
   "pygments_lexer": "ipython3",
   "version": "3.8.5"
  },
  "toc": {
   "base_numbering": 1,
   "nav_menu": {},
   "number_sections": true,
   "sideBar": true,
   "skip_h1_title": true,
   "title_cell": "Table of Contents",
   "title_sidebar": "Contents",
   "toc_cell": false,
   "toc_position": {
    "height": "calc(100% - 180px)",
    "left": "10px",
    "top": "150px",
    "width": "288px"
   },
   "toc_section_display": true,
   "toc_window_display": true
  }
 },
 "nbformat": 4,
 "nbformat_minor": 5
}
