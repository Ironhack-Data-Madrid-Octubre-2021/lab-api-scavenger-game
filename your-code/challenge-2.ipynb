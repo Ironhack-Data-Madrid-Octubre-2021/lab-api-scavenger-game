{
 "cells": [
  {
   "cell_type": "markdown",
   "id": "threaded-asbestos",
   "metadata": {},
   "source": [
    "# Challenge 2: Count Commits\n",
    "\n",
    "Count how many commits were made in the past week.\n",
    "\n",
    "Obtain all the commits made in the past week via API, which is a JSON array that contains multiple commit objects.\n",
    "\n",
    "Count how many commit objects are contained in the array."
   ]
  },
  {
   "cell_type": "markdown",
   "id": "norwegian-praise",
   "metadata": {},
   "source": [
    "⚠️ **Remember to limit your output before submission**."
   ]
  },
  {
   "cell_type": "code",
   "execution_count": 24,
   "id": "144621a0",
   "metadata": {},
   "outputs": [],
   "source": [
    "import json\n",
    "import requests"
   ]
  },
  {
   "cell_type": "code",
   "execution_count": 25,
   "id": "b4575387",
   "metadata": {},
   "outputs": [],
   "source": [
    "import os\n",
    "from dotenv import load_dotenv"
   ]
  },
  {
   "cell_type": "code",
   "execution_count": 26,
   "id": "a10cc4f8",
   "metadata": {},
   "outputs": [
    {
     "name": "stdout",
     "output_type": "stream",
     "text": [
      "Requirement already satisfied: python-dotenv in /home/lydia/anaconda3/lib/python3.8/site-packages (0.19.1)\r\n"
     ]
    }
   ],
   "source": [
    "!pip install python-dotenv"
   ]
  },
  {
   "cell_type": "code",
   "execution_count": 27,
   "id": "developing-printing",
   "metadata": {},
   "outputs": [],
   "source": [
    "url_github2 = \"https://api.github.com/repos/ironhack-datalabs/datamad1020-rev/commits\""
   ]
  },
  {
   "cell_type": "code",
   "execution_count": 28,
   "id": "e84aa7c2",
   "metadata": {},
   "outputs": [],
   "source": [
    "github = os.getenv(\"token\")"
   ]
  },
  {
   "cell_type": "code",
   "execution_count": 31,
   "id": "01d40eff",
   "metadata": {},
   "outputs": [],
   "source": [
    "parameters = {\"Authorization\": f\"token {github}\"}"
   ]
  },
  {
   "cell_type": "code",
   "execution_count": 43,
   "id": "creative-stable",
   "metadata": {},
   "outputs": [],
   "source": [
    "commits=requests.get(url_github2, headers=parameters)"
   ]
  },
  {
   "cell_type": "code",
   "execution_count": 44,
   "id": "ongoing-taylor",
   "metadata": {},
   "outputs": [
    {
     "data": {
      "text/plain": [
       "<Response [401]>"
      ]
     },
     "execution_count": 44,
     "metadata": {},
     "output_type": "execute_result"
    }
   ],
   "source": [
    "commits"
   ]
  },
  {
   "cell_type": "code",
   "execution_count": 45,
   "id": "9d9000e5",
   "metadata": {},
   "outputs": [
    {
     "data": {
      "text/plain": [
       "{'Server': 'GitHub.com', 'Date': 'Thu, 04 Nov 2021 16:30:17 GMT', 'Content-Type': 'application/json; charset=utf-8', 'Content-Length': '80', 'X-GitHub-Media-Type': 'github.v3; format=json', 'X-RateLimit-Limit': '60', 'X-RateLimit-Remaining': '59', 'X-RateLimit-Reset': '1636047017', 'X-RateLimit-Used': '1', 'X-RateLimit-Resource': 'core', 'Access-Control-Expose-Headers': 'ETag, Link, Location, Retry-After, X-GitHub-OTP, X-RateLimit-Limit, X-RateLimit-Remaining, X-RateLimit-Used, X-RateLimit-Resource, X-RateLimit-Reset, X-OAuth-Scopes, X-Accepted-OAuth-Scopes, X-Poll-Interval, X-GitHub-Media-Type, Deprecation, Sunset', 'Access-Control-Allow-Origin': '*', 'Strict-Transport-Security': 'max-age=31536000; includeSubdomains; preload', 'X-Frame-Options': 'deny', 'X-Content-Type-Options': 'nosniff', 'X-XSS-Protection': '0', 'Referrer-Policy': 'origin-when-cross-origin, strict-origin-when-cross-origin', 'Content-Security-Policy': \"default-src 'none'\", 'Vary': 'Accept-Encoding, Accept, X-Requested-With', 'X-GitHub-Request-Id': 'EEB1:8797:1C7B451:1D5F95F:61840A99'}"
      ]
     },
     "execution_count": 45,
     "metadata": {},
     "output_type": "execute_result"
    }
   ],
   "source": [
    "commits.headers"
   ]
  },
  {
   "cell_type": "code",
   "execution_count": 46,
   "id": "bda796e5",
   "metadata": {},
   "outputs": [],
   "source": [
    "commit_j=commits.json()"
   ]
  },
  {
   "cell_type": "code",
   "execution_count": 47,
   "id": "ca5eac9d",
   "metadata": {},
   "outputs": [
    {
     "data": {
      "text/plain": [
       "{'message': 'Bad credentials',\n",
       " 'documentation_url': 'https://docs.github.com/rest'}"
      ]
     },
     "execution_count": 47,
     "metadata": {},
     "output_type": "execute_result"
    }
   ],
   "source": [
    "commit_j #Lista de diccionarios."
   ]
  },
  {
   "cell_type": "code",
   "execution_count": 38,
   "id": "1b269d75",
   "metadata": {},
   "outputs": [
    {
     "data": {
      "text/plain": [
       "2"
      ]
     },
     "execution_count": 38,
     "metadata": {},
     "output_type": "execute_result"
    }
   ],
   "source": [
    "len(commit_j)"
   ]
  },
  {
   "cell_type": "code",
   "execution_count": 39,
   "id": "b6c3a37e",
   "metadata": {},
   "outputs": [
    {
     "ename": "KeyError",
     "evalue": "0",
     "output_type": "error",
     "traceback": [
      "\u001b[0;31m---------------------------------------------------------------------------\u001b[0m",
      "\u001b[0;31mKeyError\u001b[0m                                  Traceback (most recent call last)",
      "\u001b[0;32m<ipython-input-39-d672948ee03d>\u001b[0m in \u001b[0;36m<module>\u001b[0;34m\u001b[0m\n\u001b[0;32m----> 1\u001b[0;31m \u001b[0mcommit_j\u001b[0m\u001b[0;34m[\u001b[0m\u001b[0;36m0\u001b[0m\u001b[0;34m]\u001b[0m\u001b[0;34m.\u001b[0m\u001b[0mkeys\u001b[0m\u001b[0;34m(\u001b[0m\u001b[0;34m)\u001b[0m\u001b[0;34m\u001b[0m\u001b[0;34m\u001b[0m\u001b[0m\n\u001b[0m",
      "\u001b[0;31mKeyError\u001b[0m: 0"
     ]
    }
   ],
   "source": [
    "commit_j[0].keys()"
   ]
  },
  {
   "cell_type": "code",
   "execution_count": 40,
   "id": "51008191",
   "metadata": {},
   "outputs": [
    {
     "ename": "KeyError",
     "evalue": "0",
     "output_type": "error",
     "traceback": [
      "\u001b[0;31m---------------------------------------------------------------------------\u001b[0m",
      "\u001b[0;31mKeyError\u001b[0m                                  Traceback (most recent call last)",
      "\u001b[0;32m<ipython-input-40-65b4495951bb>\u001b[0m in \u001b[0;36m<module>\u001b[0;34m\u001b[0m\n\u001b[0;32m----> 1\u001b[0;31m \u001b[0mcommit_j\u001b[0m\u001b[0;34m[\u001b[0m\u001b[0;36m0\u001b[0m\u001b[0;34m]\u001b[0m\u001b[0;34m[\u001b[0m\u001b[0;34m'commit'\u001b[0m\u001b[0;34m]\u001b[0m\u001b[0;34m\u001b[0m\u001b[0;34m\u001b[0m\u001b[0m\n\u001b[0m",
      "\u001b[0;31mKeyError\u001b[0m: 0"
     ]
    }
   ],
   "source": [
    "commit_j[0]['commit']"
   ]
  },
  {
   "cell_type": "code",
   "execution_count": 20,
   "id": "9a45438e",
   "metadata": {},
   "outputs": [
    {
     "data": {
      "text/plain": [
       "{'author': {'name': 'ironhack-datalabs',\n",
       "  'email': 'agalvezcorell@gmail.com',\n",
       "  'date': '2020-10-29T15:59:17Z'},\n",
       " 'committer': {'name': 'ironhack-datalabs',\n",
       "  'email': 'agalvezcorell@gmail.com',\n",
       "  'date': '2020-10-29T15:59:17Z'},\n",
       " 'message': 'fixing pandas-project',\n",
       " 'tree': {'sha': '61ab898ed9c7fcfa136670d69061c412f4e8b488',\n",
       "  'url': 'https://api.github.com/repos/ironhack-datalabs/datamad1020-rev/git/trees/61ab898ed9c7fcfa136670d69061c412f4e8b488'},\n",
       " 'url': 'https://api.github.com/repos/ironhack-datalabs/datamad1020-rev/git/commits/8a934386e14d73d739eb7bfe188513ed6a675540',\n",
       " 'comment_count': 0,\n",
       " 'verification': {'verified': False,\n",
       "  'reason': 'unsigned',\n",
       "  'signature': None,\n",
       "  'payload': None}}"
      ]
     },
     "execution_count": 20,
     "metadata": {},
     "output_type": "execute_result"
    }
   ],
   "source": [
    "commit_j[25]['commit']"
   ]
  },
  {
   "cell_type": "code",
   "execution_count": null,
   "id": "5805012a",
   "metadata": {},
   "outputs": [],
   "source": []
  }
 ],
 "metadata": {
  "kernelspec": {
   "display_name": "Python 3",
   "language": "python",
   "name": "python3"
  },
  "language_info": {
   "codemirror_mode": {
    "name": "ipython",
    "version": 3
   },
   "file_extension": ".py",
   "mimetype": "text/x-python",
   "name": "python",
   "nbconvert_exporter": "python",
   "pygments_lexer": "ipython3",
   "version": "3.8.8"
  },
  "toc": {
   "base_numbering": 1,
   "nav_menu": {},
   "number_sections": true,
   "sideBar": true,
   "skip_h1_title": true,
   "title_cell": "Table of Contents",
   "title_sidebar": "Contents",
   "toc_cell": false,
   "toc_position": {
    "height": "calc(100% - 180px)",
    "left": "10px",
    "top": "150px",
    "width": "288px"
   },
   "toc_section_display": true,
   "toc_window_display": true
  }
 },
 "nbformat": 4,
 "nbformat_minor": 5
}
