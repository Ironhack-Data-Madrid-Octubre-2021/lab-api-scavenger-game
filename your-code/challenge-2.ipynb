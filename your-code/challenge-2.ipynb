{
 "cells": [
  {
   "cell_type": "markdown",
   "id": "threaded-asbestos",
   "metadata": {},
   "source": [
    "# Challenge 2: Count Commits\n",
    "\n",
    "Count how many commits were made in the past week.\n",
    "\n",
    "Obtain all the commits made in the past week via API, which is a JSON array that contains multiple commit objects.\n",
    "\n",
    "Count how many commit objects are contained in the array."
   ]
  },
  {
   "cell_type": "markdown",
   "id": "norwegian-praise",
   "metadata": {},
   "source": [
    "⚠️ **Remember to limit your output before submission**."
   ]
  },
  {
   "cell_type": "code",
   "execution_count": 1,
   "id": "74b1b1e6",
   "metadata": {},
   "outputs": [],
   "source": [
    "import json\n",
    "import requests\n",
    "import pandas as pd"
   ]
  },
  {
   "cell_type": "code",
   "execution_count": 2,
   "id": "65f4f2fb",
   "metadata": {},
   "outputs": [],
   "source": [
    "import os\n",
    "from dotenv import load_dotenv"
   ]
  },
  {
   "cell_type": "code",
   "execution_count": 1,
   "id": "developing-printing",
   "metadata": {},
   "outputs": [],
   "source": [
    "#Your code\n",
    "\n",
    "\n",
    "\n",
    "\n",
    "\n",
    "\n",
    "\n"
   ]
  },
  {
   "cell_type": "code",
   "execution_count": 2,
   "id": "creative-stable",
   "metadata": {},
   "outputs": [],
   "source": [
    "# Example: print(variable[:10]) "
   ]
  },
  {
   "cell_type": "code",
   "execution_count": 3,
   "id": "b827afa3",
   "metadata": {},
   "outputs": [
    {
     "data": {
      "text/plain": [
       "True"
      ]
     },
     "execution_count": 3,
     "metadata": {},
     "output_type": "execute_result"
    }
   ],
   "source": [
    "load_dotenv()"
   ]
  },
  {
   "cell_type": "code",
   "execution_count": 4,
   "id": "495f9c8a",
   "metadata": {},
   "outputs": [],
   "source": [
    "token = os.getenv(\"github\")"
   ]
  },
  {
   "cell_type": "code",
   "execution_count": 5,
   "id": "53acbe90",
   "metadata": {},
   "outputs": [],
   "source": [
    "parameters = {\"Authorization\": f\"token {github}\"}"
   ]
  },
  {
   "cell_type": "code",
   "execution_count": 27,
   "id": "1d7b28e8",
   "metadata": {},
   "outputs": [],
   "source": [
    "iron = \"https://api.github.com/repos/Ironhack-Data-Madrid-Octubre-2021/apuntes_clase/commits?since='2021-10-30'\""
   ]
  },
  {
   "cell_type": "code",
   "execution_count": 30,
   "id": "50dc1300",
   "metadata": {},
   "outputs": [],
   "source": [
    "commits = requests.get(iron,params=parameters).json()\n",
    "#commits"
   ]
  },
  {
   "cell_type": "code",
   "execution_count": 34,
   "id": "89fc3350",
   "metadata": {},
   "outputs": [
    {
     "data": {
      "text/html": [
       "<div>\n",
       "<style scoped>\n",
       "    .dataframe tbody tr th:only-of-type {\n",
       "        vertical-align: middle;\n",
       "    }\n",
       "\n",
       "    .dataframe tbody tr th {\n",
       "        vertical-align: top;\n",
       "    }\n",
       "\n",
       "    .dataframe thead th {\n",
       "        text-align: right;\n",
       "    }\n",
       "</style>\n",
       "<table border=\"1\" class=\"dataframe\">\n",
       "  <thead>\n",
       "    <tr style=\"text-align: right;\">\n",
       "      <th></th>\n",
       "      <th>sha</th>\n",
       "      <th>node_id</th>\n",
       "      <th>commit</th>\n",
       "      <th>url</th>\n",
       "      <th>html_url</th>\n",
       "      <th>comments_url</th>\n",
       "      <th>author</th>\n",
       "      <th>committer</th>\n",
       "      <th>parents</th>\n",
       "    </tr>\n",
       "  </thead>\n",
       "  <tbody>\n",
       "    <tr>\n",
       "      <th>12</th>\n",
       "      <td>4fc145649a49526a05dd08bac14996306872e0e3</td>\n",
       "      <td>C_kwDOGMmVDNoAKDRmYzE0NTY0OWE0OTUyNmEwNWRkMDhi...</td>\n",
       "      <td>{'author': {'name': 'ras', 'email': 'agalvezco...</td>\n",
       "      <td>https://api.github.com/repos/Ironhack-Data-Mad...</td>\n",
       "      <td>https://github.com/Ironhack-Data-Madrid-Octubr...</td>\n",
       "      <td>https://api.github.com/repos/Ironhack-Data-Mad...</td>\n",
       "      <td>{'login': 'agalvezcorell', 'id': 57899051, 'no...</td>\n",
       "      <td>{'login': 'agalvezcorell', 'id': 57899051, 'no...</td>\n",
       "      <td>[{'sha': 'ef05d795b4014719f7515fb4ed844e878eee...</td>\n",
       "    </tr>\n",
       "    <tr>\n",
       "      <th>13</th>\n",
       "      <td>ef05d795b4014719f7515fb4ed844e878eee83dd</td>\n",
       "      <td>C_kwDOGMmVDNoAKGVmMDVkNzk1YjQwMTQ3MTlmNzUxNWZi...</td>\n",
       "      <td>{'author': {'name': 'ras', 'email': 'agalvezco...</td>\n",
       "      <td>https://api.github.com/repos/Ironhack-Data-Mad...</td>\n",
       "      <td>https://github.com/Ironhack-Data-Madrid-Octubr...</td>\n",
       "      <td>https://api.github.com/repos/Ironhack-Data-Mad...</td>\n",
       "      <td>{'login': 'agalvezcorell', 'id': 57899051, 'no...</td>\n",
       "      <td>{'login': 'agalvezcorell', 'id': 57899051, 'no...</td>\n",
       "      <td>[{'sha': '69e7a59bc2b7023a42e9d717401e5fd0b1a9...</td>\n",
       "    </tr>\n",
       "    <tr>\n",
       "      <th>14</th>\n",
       "      <td>69e7a59bc2b7023a42e9d717401e5fd0b1a91bf3</td>\n",
       "      <td>C_kwDOGMmVDNoAKDY5ZTdhNTliYzJiNzAyM2E0MmU5ZDcx...</td>\n",
       "      <td>{'author': {'name': 'ras', 'email': 'agalvezco...</td>\n",
       "      <td>https://api.github.com/repos/Ironhack-Data-Mad...</td>\n",
       "      <td>https://github.com/Ironhack-Data-Madrid-Octubr...</td>\n",
       "      <td>https://api.github.com/repos/Ironhack-Data-Mad...</td>\n",
       "      <td>{'login': 'agalvezcorell', 'id': 57899051, 'no...</td>\n",
       "      <td>{'login': 'agalvezcorell', 'id': 57899051, 'no...</td>\n",
       "      <td>[{'sha': '3ea350cf7c3ec5dfbbbd1700950375f05b4e...</td>\n",
       "    </tr>\n",
       "    <tr>\n",
       "      <th>15</th>\n",
       "      <td>3ea350cf7c3ec5dfbbbd1700950375f05b4e40e5</td>\n",
       "      <td>C_kwDOGMmVDNoAKDNlYTM1MGNmN2MzZWM1ZGZiYmJkMTcw...</td>\n",
       "      <td>{'author': {'name': 'ras', 'email': 'agalvezco...</td>\n",
       "      <td>https://api.github.com/repos/Ironhack-Data-Mad...</td>\n",
       "      <td>https://github.com/Ironhack-Data-Madrid-Octubr...</td>\n",
       "      <td>https://api.github.com/repos/Ironhack-Data-Mad...</td>\n",
       "      <td>{'login': 'agalvezcorell', 'id': 57899051, 'no...</td>\n",
       "      <td>{'login': 'agalvezcorell', 'id': 57899051, 'no...</td>\n",
       "      <td>[{'sha': 'b38dc82bb22413f094df6372c64dd12b4118...</td>\n",
       "    </tr>\n",
       "    <tr>\n",
       "      <th>16</th>\n",
       "      <td>b38dc82bb22413f094df6372c64dd12b4118850b</td>\n",
       "      <td>C_kwDOGMmVDNoAKGIzOGRjODJiYjIyNDEzZjA5NGRmNjM3...</td>\n",
       "      <td>{'author': {'name': 'ras', 'email': 'agalvezco...</td>\n",
       "      <td>https://api.github.com/repos/Ironhack-Data-Mad...</td>\n",
       "      <td>https://github.com/Ironhack-Data-Madrid-Octubr...</td>\n",
       "      <td>https://api.github.com/repos/Ironhack-Data-Mad...</td>\n",
       "      <td>{'login': 'agalvezcorell', 'id': 57899051, 'no...</td>\n",
       "      <td>{'login': 'agalvezcorell', 'id': 57899051, 'no...</td>\n",
       "      <td>[{'sha': '939e8dae82a4dff5428f559ab2f0d6fccc96...</td>\n",
       "    </tr>\n",
       "  </tbody>\n",
       "</table>\n",
       "</div>"
      ],
      "text/plain": [
       "                                         sha  \\\n",
       "12  4fc145649a49526a05dd08bac14996306872e0e3   \n",
       "13  ef05d795b4014719f7515fb4ed844e878eee83dd   \n",
       "14  69e7a59bc2b7023a42e9d717401e5fd0b1a91bf3   \n",
       "15  3ea350cf7c3ec5dfbbbd1700950375f05b4e40e5   \n",
       "16  b38dc82bb22413f094df6372c64dd12b4118850b   \n",
       "\n",
       "                                              node_id  \\\n",
       "12  C_kwDOGMmVDNoAKDRmYzE0NTY0OWE0OTUyNmEwNWRkMDhi...   \n",
       "13  C_kwDOGMmVDNoAKGVmMDVkNzk1YjQwMTQ3MTlmNzUxNWZi...   \n",
       "14  C_kwDOGMmVDNoAKDY5ZTdhNTliYzJiNzAyM2E0MmU5ZDcx...   \n",
       "15  C_kwDOGMmVDNoAKDNlYTM1MGNmN2MzZWM1ZGZiYmJkMTcw...   \n",
       "16  C_kwDOGMmVDNoAKGIzOGRjODJiYjIyNDEzZjA5NGRmNjM3...   \n",
       "\n",
       "                                               commit  \\\n",
       "12  {'author': {'name': 'ras', 'email': 'agalvezco...   \n",
       "13  {'author': {'name': 'ras', 'email': 'agalvezco...   \n",
       "14  {'author': {'name': 'ras', 'email': 'agalvezco...   \n",
       "15  {'author': {'name': 'ras', 'email': 'agalvezco...   \n",
       "16  {'author': {'name': 'ras', 'email': 'agalvezco...   \n",
       "\n",
       "                                                  url  \\\n",
       "12  https://api.github.com/repos/Ironhack-Data-Mad...   \n",
       "13  https://api.github.com/repos/Ironhack-Data-Mad...   \n",
       "14  https://api.github.com/repos/Ironhack-Data-Mad...   \n",
       "15  https://api.github.com/repos/Ironhack-Data-Mad...   \n",
       "16  https://api.github.com/repos/Ironhack-Data-Mad...   \n",
       "\n",
       "                                             html_url  \\\n",
       "12  https://github.com/Ironhack-Data-Madrid-Octubr...   \n",
       "13  https://github.com/Ironhack-Data-Madrid-Octubr...   \n",
       "14  https://github.com/Ironhack-Data-Madrid-Octubr...   \n",
       "15  https://github.com/Ironhack-Data-Madrid-Octubr...   \n",
       "16  https://github.com/Ironhack-Data-Madrid-Octubr...   \n",
       "\n",
       "                                         comments_url  \\\n",
       "12  https://api.github.com/repos/Ironhack-Data-Mad...   \n",
       "13  https://api.github.com/repos/Ironhack-Data-Mad...   \n",
       "14  https://api.github.com/repos/Ironhack-Data-Mad...   \n",
       "15  https://api.github.com/repos/Ironhack-Data-Mad...   \n",
       "16  https://api.github.com/repos/Ironhack-Data-Mad...   \n",
       "\n",
       "                                               author  \\\n",
       "12  {'login': 'agalvezcorell', 'id': 57899051, 'no...   \n",
       "13  {'login': 'agalvezcorell', 'id': 57899051, 'no...   \n",
       "14  {'login': 'agalvezcorell', 'id': 57899051, 'no...   \n",
       "15  {'login': 'agalvezcorell', 'id': 57899051, 'no...   \n",
       "16  {'login': 'agalvezcorell', 'id': 57899051, 'no...   \n",
       "\n",
       "                                            committer  \\\n",
       "12  {'login': 'agalvezcorell', 'id': 57899051, 'no...   \n",
       "13  {'login': 'agalvezcorell', 'id': 57899051, 'no...   \n",
       "14  {'login': 'agalvezcorell', 'id': 57899051, 'no...   \n",
       "15  {'login': 'agalvezcorell', 'id': 57899051, 'no...   \n",
       "16  {'login': 'agalvezcorell', 'id': 57899051, 'no...   \n",
       "\n",
       "                                              parents  \n",
       "12  [{'sha': 'ef05d795b4014719f7515fb4ed844e878eee...  \n",
       "13  [{'sha': '69e7a59bc2b7023a42e9d717401e5fd0b1a9...  \n",
       "14  [{'sha': '3ea350cf7c3ec5dfbbbd1700950375f05b4e...  \n",
       "15  [{'sha': 'b38dc82bb22413f094df6372c64dd12b4118...  \n",
       "16  [{'sha': '939e8dae82a4dff5428f559ab2f0d6fccc96...  "
      ]
     },
     "execution_count": 34,
     "metadata": {},
     "output_type": "execute_result"
    }
   ],
   "source": [
    "df = pd.DataFrame(commits)\n",
    "df.tail()"
   ]
  },
  {
   "cell_type": "code",
   "execution_count": null,
   "id": "ongoing-taylor",
   "metadata": {},
   "outputs": [],
   "source": []
  }
 ],
 "metadata": {
  "kernelspec": {
   "display_name": "Python 3 (ipykernel)",
   "language": "python",
   "name": "python3"
  },
  "language_info": {
   "codemirror_mode": {
    "name": "ipython",
    "version": 3
   },
   "file_extension": ".py",
   "mimetype": "text/x-python",
   "name": "python",
   "nbconvert_exporter": "python",
   "pygments_lexer": "ipython3",
   "version": "3.8.10"
  },
  "toc": {
   "base_numbering": 1,
   "nav_menu": {},
   "number_sections": true,
   "sideBar": true,
   "skip_h1_title": true,
   "title_cell": "Table of Contents",
   "title_sidebar": "Contents",
   "toc_cell": false,
   "toc_position": {
    "height": "calc(100% - 180px)",
    "left": "10px",
    "top": "150px",
    "width": "288px"
   },
   "toc_section_display": true,
   "toc_window_display": true
  }
 },
 "nbformat": 4,
 "nbformat_minor": 5
}
