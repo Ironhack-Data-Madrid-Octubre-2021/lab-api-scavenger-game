{
 "cells": [
  {
   "cell_type": "markdown",
   "id": "threaded-asbestos",
   "metadata": {},
   "source": [
    "# Challenge 2: Count Commits\n",
    "\n",
    "Count how many commits were made in the past week.\n",
    "\n",
    "Obtain all the commits made in the past week via API, which is a JSON array that contains multiple commit objects.\n",
    "\n",
    "Count how many commit objects are contained in the array."
   ]
  },
  {
   "cell_type": "code",
   "execution_count": 1,
   "id": "5a7b20c7",
   "metadata": {},
   "outputs": [],
   "source": [
    "import json\n",
    "import requests\n",
    "import os\n",
    "from dotenv import load_dotenv\n",
    "import pandas as pd"
   ]
  },
  {
   "cell_type": "code",
   "execution_count": 2,
   "id": "0ad0f9a3",
   "metadata": {},
   "outputs": [
    {
     "data": {
      "text/plain": [
       "True"
      ]
     },
     "execution_count": 2,
     "metadata": {},
     "output_type": "execute_result"
    }
   ],
   "source": [
    "load_dotenv()"
   ]
  },
  {
   "cell_type": "code",
   "execution_count": 3,
   "id": "6dc74d78",
   "metadata": {},
   "outputs": [],
   "source": [
    "token = os.getenv(\"token\")"
   ]
  },
  {
   "cell_type": "code",
   "execution_count": 4,
   "id": "cc5ab101",
   "metadata": {},
   "outputs": [],
   "source": [
    "url = 'https://api.github.com/repos/ironhack-datalabs/datamad1020-rev/commits?2021-11-01'\n",
    "#Cambiamos la fecha hecha al final"
   ]
  },
  {
   "cell_type": "code",
   "execution_count": 5,
   "id": "d7bce8e4",
   "metadata": {},
   "outputs": [
    {
     "data": {
      "text/plain": [
       "<Response [200]>"
      ]
     },
     "execution_count": 5,
     "metadata": {},
     "output_type": "execute_result"
    }
   ],
   "source": [
    "requests.get(url)"
   ]
  },
  {
   "cell_type": "code",
   "execution_count": 6,
   "id": "c3de87c6",
   "metadata": {},
   "outputs": [],
   "source": [
    "parameters = {\"Authorization\": f\"token {token}\"}"
   ]
  },
  {
   "cell_type": "code",
   "execution_count": 7,
   "id": "fa282616",
   "metadata": {},
   "outputs": [],
   "source": [
    "commits = requests.get(url, params=parameters).json()"
   ]
  },
  {
   "cell_type": "code",
   "execution_count": 16,
   "id": "c93ba039",
   "metadata": {},
   "outputs": [],
   "source": [
    "ironhack = requests.get(url)"
   ]
  },
  {
   "cell_type": "code",
   "execution_count": 19,
   "id": "ab69d779",
   "metadata": {},
   "outputs": [],
   "source": [
    "res = ironhack.json"
   ]
  },
  {
   "cell_type": "code",
   "execution_count": 20,
   "id": "917f49ee",
   "metadata": {},
   "outputs": [
    {
     "data": {
      "text/plain": [
       "{'Date': 'Thu, 04 Nov 2021 17:48:29 GMT', 'Server': 'Varnish', 'Strict-Transport-Security': 'max-age=31536000; includeSubdomains; preload', 'X-Content-Type-Options': 'nosniff', 'X-Frame-Options': 'deny', 'X-XSS-Protection': '1; mode=block', 'Content-Security-Policy': \"default-src 'none'; style-src 'unsafe-inline'\", 'Access-Control-Allow-Origin': '*', 'Access-Control-Expose-Headers': 'ETag, Link, Location, Retry-After, X-GitHub-OTP, X-RateLimit-Limit, X-RateLimit-Remaining, X-RateLimit-Reset, X-RateLimit-Used, X-RateLimit-Resource, X-OAuth-Scopes, X-Accepted-OAuth-Scopes, X-Poll-Interval, X-GitHub-Media-Type, Deprecation, Sunset', 'Content-Type': 'application/json; charset=utf-8', 'Referrer-Policy': 'origin-when-cross-origin, strict-origin-when-cross-origin', 'X-GitHub-Media-Type': 'github.v3; format=json', 'X-RateLimit-Limit': '60', 'X-RateLimit-Remaining': '0', 'X-RateLimit-Reset': '1636048124', 'X-RateLimit-Resource': 'core', 'X-RateLimit-Used': '60', 'Content-Length': '278', 'X-GitHub-Request-Id': '81E5:6B2D:366992E:3796384:61841CED'}"
      ]
     },
     "execution_count": 20,
     "metadata": {},
     "output_type": "execute_result"
    }
   ],
   "source": [
    "ironhack.headers"
   ]
  },
  {
   "cell_type": "code",
   "execution_count": 21,
   "id": "87733f8e",
   "metadata": {},
   "outputs": [],
   "source": [
    "df = pd.DataFrame(commits)"
   ]
  },
  {
   "cell_type": "code",
   "execution_count": 22,
   "id": "efa72c5a",
   "metadata": {},
   "outputs": [
    {
     "data": {
      "text/html": [
       "<div>\n",
       "<style scoped>\n",
       "    .dataframe tbody tr th:only-of-type {\n",
       "        vertical-align: middle;\n",
       "    }\n",
       "\n",
       "    .dataframe tbody tr th {\n",
       "        vertical-align: top;\n",
       "    }\n",
       "\n",
       "    .dataframe thead th {\n",
       "        text-align: right;\n",
       "    }\n",
       "</style>\n",
       "<table border=\"1\" class=\"dataframe\">\n",
       "  <thead>\n",
       "    <tr style=\"text-align: right;\">\n",
       "      <th></th>\n",
       "      <th>sha</th>\n",
       "      <th>node_id</th>\n",
       "      <th>commit</th>\n",
       "      <th>url</th>\n",
       "      <th>html_url</th>\n",
       "      <th>comments_url</th>\n",
       "      <th>author</th>\n",
       "      <th>committer</th>\n",
       "      <th>parents</th>\n",
       "    </tr>\n",
       "  </thead>\n",
       "  <tbody>\n",
       "    <tr>\n",
       "      <th>25</th>\n",
       "      <td>8a934386e14d73d739eb7bfe188513ed6a675540</td>\n",
       "      <td>MDY6Q29tbWl0MzA0MjQ4NTM5OjhhOTM0Mzg2ZTE0ZDczZD...</td>\n",
       "      <td>{'author': {'name': 'ironhack-datalabs', 'emai...</td>\n",
       "      <td>https://api.github.com/repos/ironhack-datalabs...</td>\n",
       "      <td>https://github.com/ironhack-datalabs/datamad10...</td>\n",
       "      <td>https://api.github.com/repos/ironhack-datalabs...</td>\n",
       "      <td>{'login': 'agalvezcorell', 'id': 57899051, 'no...</td>\n",
       "      <td>{'login': 'agalvezcorell', 'id': 57899051, 'no...</td>\n",
       "      <td>[{'sha': '316d00933d20a5dbbdf6bb93e25bb3ce3e51...</td>\n",
       "    </tr>\n",
       "    <tr>\n",
       "      <th>26</th>\n",
       "      <td>316d00933d20a5dbbdf6bb93e25bb3ce3e51d40a</td>\n",
       "      <td>MDY6Q29tbWl0MzA0MjQ4NTM5OjMxNmQwMDkzM2QyMGE1ZG...</td>\n",
       "      <td>{'author': {'name': 'ironhack-datalabs', 'emai...</td>\n",
       "      <td>https://api.github.com/repos/ironhack-datalabs...</td>\n",
       "      <td>https://github.com/ironhack-datalabs/datamad10...</td>\n",
       "      <td>https://api.github.com/repos/ironhack-datalabs...</td>\n",
       "      <td>{'login': 'agalvezcorell', 'id': 57899051, 'no...</td>\n",
       "      <td>{'login': 'agalvezcorell', 'id': 57899051, 'no...</td>\n",
       "      <td>[{'sha': '52f82d21a7445f61c0d05cc9558631ac8fbd...</td>\n",
       "    </tr>\n",
       "    <tr>\n",
       "      <th>27</th>\n",
       "      <td>52f82d21a7445f61c0d05cc9558631ac8fbddacf</td>\n",
       "      <td>MDY6Q29tbWl0MzA0MjQ4NTM5OjUyZjgyZDIxYTc0NDVmNj...</td>\n",
       "      <td>{'author': {'name': 'ironhack-datalabs', 'emai...</td>\n",
       "      <td>https://api.github.com/repos/ironhack-datalabs...</td>\n",
       "      <td>https://github.com/ironhack-datalabs/datamad10...</td>\n",
       "      <td>https://api.github.com/repos/ironhack-datalabs...</td>\n",
       "      <td>{'login': 'agalvezcorell', 'id': 57899051, 'no...</td>\n",
       "      <td>{'login': 'agalvezcorell', 'id': 57899051, 'no...</td>\n",
       "      <td>[{'sha': 'c4d2f6abc43bb144b5d9ab5997c700426b05...</td>\n",
       "    </tr>\n",
       "    <tr>\n",
       "      <th>28</th>\n",
       "      <td>c4d2f6abc43bb144b5d9ab5997c700426b05510f</td>\n",
       "      <td>MDY6Q29tbWl0MzA0MjQ4NTM5OmM0ZDJmNmFiYzQzYmIxND...</td>\n",
       "      <td>{'author': {'name': 'ironhack-datalabs', 'emai...</td>\n",
       "      <td>https://api.github.com/repos/ironhack-datalabs...</td>\n",
       "      <td>https://github.com/ironhack-datalabs/datamad10...</td>\n",
       "      <td>https://api.github.com/repos/ironhack-datalabs...</td>\n",
       "      <td>{'login': 'agalvezcorell', 'id': 57899051, 'no...</td>\n",
       "      <td>{'login': 'agalvezcorell', 'id': 57899051, 'no...</td>\n",
       "      <td>[{'sha': 'aa643e8af5f8b68879e08eb7c609d2512eed...</td>\n",
       "    </tr>\n",
       "    <tr>\n",
       "      <th>29</th>\n",
       "      <td>76826484b3c10a4e1b00b26e62edcadfdb1e8f06</td>\n",
       "      <td>MDY6Q29tbWl0MzA0MjQ4NTM5Ojc2ODI2NDg0YjNjMTBhNG...</td>\n",
       "      <td>{'author': {'name': 'sheriffff', 'email': 'man...</td>\n",
       "      <td>https://api.github.com/repos/ironhack-datalabs...</td>\n",
       "      <td>https://github.com/ironhack-datalabs/datamad10...</td>\n",
       "      <td>https://api.github.com/repos/ironhack-datalabs...</td>\n",
       "      <td>{'login': 'sheriffff', 'id': 23318929, 'node_i...</td>\n",
       "      <td>{'login': 'sheriffff', 'id': 23318929, 'node_i...</td>\n",
       "      <td>[{'sha': 'b6fe5417a24a291c87896055f4a5f9c47977...</td>\n",
       "    </tr>\n",
       "  </tbody>\n",
       "</table>\n",
       "</div>"
      ],
      "text/plain": [
       "                                         sha  \\\n",
       "25  8a934386e14d73d739eb7bfe188513ed6a675540   \n",
       "26  316d00933d20a5dbbdf6bb93e25bb3ce3e51d40a   \n",
       "27  52f82d21a7445f61c0d05cc9558631ac8fbddacf   \n",
       "28  c4d2f6abc43bb144b5d9ab5997c700426b05510f   \n",
       "29  76826484b3c10a4e1b00b26e62edcadfdb1e8f06   \n",
       "\n",
       "                                              node_id  \\\n",
       "25  MDY6Q29tbWl0MzA0MjQ4NTM5OjhhOTM0Mzg2ZTE0ZDczZD...   \n",
       "26  MDY6Q29tbWl0MzA0MjQ4NTM5OjMxNmQwMDkzM2QyMGE1ZG...   \n",
       "27  MDY6Q29tbWl0MzA0MjQ4NTM5OjUyZjgyZDIxYTc0NDVmNj...   \n",
       "28  MDY6Q29tbWl0MzA0MjQ4NTM5OmM0ZDJmNmFiYzQzYmIxND...   \n",
       "29  MDY6Q29tbWl0MzA0MjQ4NTM5Ojc2ODI2NDg0YjNjMTBhNG...   \n",
       "\n",
       "                                               commit  \\\n",
       "25  {'author': {'name': 'ironhack-datalabs', 'emai...   \n",
       "26  {'author': {'name': 'ironhack-datalabs', 'emai...   \n",
       "27  {'author': {'name': 'ironhack-datalabs', 'emai...   \n",
       "28  {'author': {'name': 'ironhack-datalabs', 'emai...   \n",
       "29  {'author': {'name': 'sheriffff', 'email': 'man...   \n",
       "\n",
       "                                                  url  \\\n",
       "25  https://api.github.com/repos/ironhack-datalabs...   \n",
       "26  https://api.github.com/repos/ironhack-datalabs...   \n",
       "27  https://api.github.com/repos/ironhack-datalabs...   \n",
       "28  https://api.github.com/repos/ironhack-datalabs...   \n",
       "29  https://api.github.com/repos/ironhack-datalabs...   \n",
       "\n",
       "                                             html_url  \\\n",
       "25  https://github.com/ironhack-datalabs/datamad10...   \n",
       "26  https://github.com/ironhack-datalabs/datamad10...   \n",
       "27  https://github.com/ironhack-datalabs/datamad10...   \n",
       "28  https://github.com/ironhack-datalabs/datamad10...   \n",
       "29  https://github.com/ironhack-datalabs/datamad10...   \n",
       "\n",
       "                                         comments_url  \\\n",
       "25  https://api.github.com/repos/ironhack-datalabs...   \n",
       "26  https://api.github.com/repos/ironhack-datalabs...   \n",
       "27  https://api.github.com/repos/ironhack-datalabs...   \n",
       "28  https://api.github.com/repos/ironhack-datalabs...   \n",
       "29  https://api.github.com/repos/ironhack-datalabs...   \n",
       "\n",
       "                                               author  \\\n",
       "25  {'login': 'agalvezcorell', 'id': 57899051, 'no...   \n",
       "26  {'login': 'agalvezcorell', 'id': 57899051, 'no...   \n",
       "27  {'login': 'agalvezcorell', 'id': 57899051, 'no...   \n",
       "28  {'login': 'agalvezcorell', 'id': 57899051, 'no...   \n",
       "29  {'login': 'sheriffff', 'id': 23318929, 'node_i...   \n",
       "\n",
       "                                            committer  \\\n",
       "25  {'login': 'agalvezcorell', 'id': 57899051, 'no...   \n",
       "26  {'login': 'agalvezcorell', 'id': 57899051, 'no...   \n",
       "27  {'login': 'agalvezcorell', 'id': 57899051, 'no...   \n",
       "28  {'login': 'agalvezcorell', 'id': 57899051, 'no...   \n",
       "29  {'login': 'sheriffff', 'id': 23318929, 'node_i...   \n",
       "\n",
       "                                              parents  \n",
       "25  [{'sha': '316d00933d20a5dbbdf6bb93e25bb3ce3e51...  \n",
       "26  [{'sha': '52f82d21a7445f61c0d05cc9558631ac8fbd...  \n",
       "27  [{'sha': 'c4d2f6abc43bb144b5d9ab5997c700426b05...  \n",
       "28  [{'sha': 'aa643e8af5f8b68879e08eb7c609d2512eed...  \n",
       "29  [{'sha': 'b6fe5417a24a291c87896055f4a5f9c47977...  "
      ]
     },
     "execution_count": 22,
     "metadata": {},
     "output_type": "execute_result"
    }
   ],
   "source": [
    "df.tail()"
   ]
  },
  {
   "cell_type": "markdown",
   "id": "norwegian-praise",
   "metadata": {},
   "source": [
    "⚠️ **Remember to limit your output before submission**."
   ]
  },
  {
   "cell_type": "code",
   "execution_count": 8,
   "id": "developing-printing",
   "metadata": {},
   "outputs": [
    {
     "data": {
      "text/plain": [
       "'https://api.github.com/repos/ironhack-datalabs/datamad1020-rev/commits?2021-11-01'"
      ]
     },
     "execution_count": 8,
     "metadata": {},
     "output_type": "execute_result"
    }
   ],
   "source": [
    "#Proceso hecho anterior sin plantear bien el ejercicio\n",
    "\n",
    "url"
   ]
  },
  {
   "cell_type": "code",
   "execution_count": 9,
   "id": "e306ee04",
   "metadata": {},
   "outputs": [
    {
     "data": {
      "text/plain": [
       "30"
      ]
     },
     "execution_count": 9,
     "metadata": {},
     "output_type": "execute_result"
    }
   ],
   "source": [
    "len(commits)"
   ]
  },
  {
   "cell_type": "code",
   "execution_count": 10,
   "id": "creative-stable",
   "metadata": {},
   "outputs": [
    {
     "data": {
      "text/plain": [
       "dict_keys(['sha', 'node_id', 'commit', 'url', 'html_url', 'comments_url', 'author', 'committer', 'parents'])"
      ]
     },
     "execution_count": 10,
     "metadata": {},
     "output_type": "execute_result"
    }
   ],
   "source": [
    "# Example: print(variable[:10]) \n",
    "commits[10].keys()"
   ]
  },
  {
   "cell_type": "code",
   "execution_count": 15,
   "id": "ongoing-taylor",
   "metadata": {},
   "outputs": [
    {
     "data": {
      "text/plain": [
       "{'author': {'name': 'breogann',\n",
       "  'email': 'fernandocostapradillo@gmail.com',\n",
       "  'date': '2020-11-12T23:22:51Z'},\n",
       " 'committer': {'name': 'breogann',\n",
       "  'email': 'fernandocostapradillo@gmail.com',\n",
       "  'date': '2020-11-12T23:22:51Z'},\n",
       " 'message': 'readme geoquerries project',\n",
       " 'tree': {'sha': '8ba0548e3c0e7d67c65228d6c47654edf9c7c968',\n",
       "  'url': 'https://api.github.com/repos/ironhack-datalabs/datamad1020-rev/git/trees/8ba0548e3c0e7d67c65228d6c47654edf9c7c968'},\n",
       " 'url': 'https://api.github.com/repos/ironhack-datalabs/datamad1020-rev/git/commits/c727923468773a7eae3c89235a306609f9700bf0',\n",
       " 'comment_count': 0,\n",
       " 'verification': {'verified': False,\n",
       "  'reason': 'unsigned',\n",
       "  'signature': None,\n",
       "  'payload': None}}"
      ]
     },
     "execution_count": 15,
     "metadata": {},
     "output_type": "execute_result"
    }
   ],
   "source": [
    "commits[10]['commit']"
   ]
  },
  {
   "cell_type": "code",
   "execution_count": null,
   "id": "e74013a6",
   "metadata": {},
   "outputs": [],
   "source": []
  },
  {
   "cell_type": "code",
   "execution_count": null,
   "id": "60941cf4",
   "metadata": {},
   "outputs": [],
   "source": []
  },
  {
   "cell_type": "code",
   "execution_count": null,
   "id": "61754e11",
   "metadata": {},
   "outputs": [],
   "source": []
  },
  {
   "cell_type": "code",
   "execution_count": null,
   "id": "72b1909c",
   "metadata": {},
   "outputs": [],
   "source": []
  }
 ],
 "metadata": {
  "kernelspec": {
   "display_name": "ironhack",
   "language": "python",
   "name": "ironhack"
  },
  "language_info": {
   "codemirror_mode": {
    "name": "ipython",
    "version": 3
   },
   "file_extension": ".py",
   "mimetype": "text/x-python",
   "name": "python",
   "nbconvert_exporter": "python",
   "pygments_lexer": "ipython3",
   "version": "3.8.8"
  },
  "toc": {
   "base_numbering": 1,
   "nav_menu": {},
   "number_sections": true,
   "sideBar": true,
   "skip_h1_title": true,
   "title_cell": "Table of Contents",
   "title_sidebar": "Contents",
   "toc_cell": false,
   "toc_position": {
    "height": "calc(100% - 180px)",
    "left": "10px",
    "top": "150px",
    "width": "288px"
   },
   "toc_section_display": true,
   "toc_window_display": true
  }
 },
 "nbformat": 4,
 "nbformat_minor": 5
}
