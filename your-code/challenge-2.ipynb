{
 "cells": [
  {
   "cell_type": "markdown",
   "id": "threaded-asbestos",
   "metadata": {},
   "source": [
    "# Challenge 2: Count Commits\n",
    "\n",
    "Count how many commits were made in the past week.\n",
    "\n",
    "Obtain all the commits made in the past week via API, which is a JSON array that contains multiple commit objects.\n",
    "\n",
    "Count how many commit objects are contained in the array."
   ]
  },
  {
   "cell_type": "markdown",
   "id": "norwegian-praise",
   "metadata": {},
   "source": [
    "⚠️ **Remember to limit your output before submission**."
   ]
  },
  {
   "cell_type": "code",
   "execution_count": 2,
   "id": "developing-printing",
   "metadata": {},
   "outputs": [],
   "source": [
    "import json\n",
    "import requests\n",
    "import pandas as pd"
   ]
  },
  {
   "cell_type": "code",
   "execution_count": 3,
   "id": "creative-stable",
   "metadata": {},
   "outputs": [],
   "source": [
    "import os\n",
    "from dotenv import load_dotenv"
   ]
  },
  {
   "cell_type": "code",
   "execution_count": 4,
   "id": "4e542930",
   "metadata": {},
   "outputs": [
    {
     "data": {
      "text/plain": [
       "True"
      ]
     },
     "execution_count": 4,
     "metadata": {},
     "output_type": "execute_result"
    }
   ],
   "source": [
    "load_dotenv()"
   ]
  },
  {
   "cell_type": "code",
   "execution_count": 5,
   "id": "ongoing-taylor",
   "metadata": {},
   "outputs": [],
   "source": [
    "github = os.getenv(\"token\")"
   ]
  },
  {
   "cell_type": "code",
   "execution_count": 6,
   "id": "bcb95a3d",
   "metadata": {},
   "outputs": [],
   "source": [
    "parameters = {\"Authorization\": f\"token {github}\"}"
   ]
  },
  {
   "cell_type": "code",
   "execution_count": 7,
   "id": "6378aaa9",
   "metadata": {},
   "outputs": [],
   "source": [
    "act = requests.get(\"https://api.github.com/repos/ironhack-datalabs/datamad1020-rev\", params=parameters).json()"
   ]
  },
  {
   "cell_type": "code",
   "execution_count": 29,
   "id": "2ce4d58e",
   "metadata": {},
   "outputs": [],
   "source": [
    "commits = requests.get('https://api.github.com/repos/ironhack-datalabs/datamad1020-rev/commits', params=parameters).json()"
   ]
  },
  {
   "cell_type": "code",
   "execution_count": 62,
   "id": "e66526d2",
   "metadata": {},
   "outputs": [
    {
     "data": {
      "text/html": [
       "<div>\n",
       "<style scoped>\n",
       "    .dataframe tbody tr th:only-of-type {\n",
       "        vertical-align: middle;\n",
       "    }\n",
       "\n",
       "    .dataframe tbody tr th {\n",
       "        vertical-align: top;\n",
       "    }\n",
       "\n",
       "    .dataframe thead th {\n",
       "        text-align: right;\n",
       "    }\n",
       "</style>\n",
       "<table border=\"1\" class=\"dataframe\">\n",
       "  <thead>\n",
       "    <tr style=\"text-align: right;\">\n",
       "      <th></th>\n",
       "      <th>sha</th>\n",
       "      <th>node_id</th>\n",
       "      <th>commit</th>\n",
       "      <th>url</th>\n",
       "      <th>html_url</th>\n",
       "      <th>comments_url</th>\n",
       "      <th>author</th>\n",
       "      <th>committer</th>\n",
       "      <th>parents</th>\n",
       "    </tr>\n",
       "  </thead>\n",
       "  <tbody>\n",
       "    <tr>\n",
       "      <th>0</th>\n",
       "      <td>f61a35d1016bfc11bb53e8d844db395fc6c4933d</td>\n",
       "      <td>MDY6Q29tbWl0MzA0MjQ4NTM5OmY2MWEzNWQxMDE2YmZjMT...</td>\n",
       "      <td>{'author': {'name': 'ras', 'email': 'agalvezco...</td>\n",
       "      <td>https://api.github.com/repos/ironhack-datalabs...</td>\n",
       "      <td>https://github.com/ironhack-datalabs/datamad10...</td>\n",
       "      <td>https://api.github.com/repos/ironhack-datalabs...</td>\n",
       "      <td>{'login': 'agalvezcorell', 'id': 57899051, 'no...</td>\n",
       "      <td>{'login': 'agalvezcorell', 'id': 57899051, 'no...</td>\n",
       "      <td>[{'sha': '79efcf150e34bc5eb982fde74dc5446bafc3...</td>\n",
       "    </tr>\n",
       "    <tr>\n",
       "      <th>1</th>\n",
       "      <td>79efcf150e34bc5eb982fde74dc5446bafc39bad</td>\n",
       "      <td>MDY6Q29tbWl0MzA0MjQ4NTM5Ojc5ZWZjZjE1MGUzNGJjNW...</td>\n",
       "      <td>{'author': {'name': 'agalvezcorell', 'email': ...</td>\n",
       "      <td>https://api.github.com/repos/ironhack-datalabs...</td>\n",
       "      <td>https://github.com/ironhack-datalabs/datamad10...</td>\n",
       "      <td>https://api.github.com/repos/ironhack-datalabs...</td>\n",
       "      <td>{'login': 'agalvezcorell', 'id': 57899051, 'no...</td>\n",
       "      <td>{'login': 'agalvezcorell', 'id': 57899051, 'no...</td>\n",
       "      <td>[{'sha': '04bc51c0a75f3e6604fe7ac41da8b3c69919...</td>\n",
       "    </tr>\n",
       "    <tr>\n",
       "      <th>2</th>\n",
       "      <td>04bc51c0a75f3e6604fe7ac41da8b3c69919f7c3</td>\n",
       "      <td>MDY6Q29tbWl0MzA0MjQ4NTM5OjA0YmM1MWMwYTc1ZjNlNj...</td>\n",
       "      <td>{'author': {'name': 'Ras Soyungalgo', 'email':...</td>\n",
       "      <td>https://api.github.com/repos/ironhack-datalabs...</td>\n",
       "      <td>https://github.com/ironhack-datalabs/datamad10...</td>\n",
       "      <td>https://api.github.com/repos/ironhack-datalabs...</td>\n",
       "      <td>{'login': 'agalvezcorell', 'id': 57899051, 'no...</td>\n",
       "      <td>{'login': 'agalvezcorell', 'id': 57899051, 'no...</td>\n",
       "      <td>[{'sha': '62ccb107c540872cb332b10768b890040fb5...</td>\n",
       "    </tr>\n",
       "    <tr>\n",
       "      <th>3</th>\n",
       "      <td>62ccb107c540872cb332b10768b890040fb50c1f</td>\n",
       "      <td>MDY6Q29tbWl0MzA0MjQ4NTM5OjYyY2NiMTA3YzU0MDg3Mm...</td>\n",
       "      <td>{'author': {'name': 'Ras Soyungalgo', 'email':...</td>\n",
       "      <td>https://api.github.com/repos/ironhack-datalabs...</td>\n",
       "      <td>https://github.com/ironhack-datalabs/datamad10...</td>\n",
       "      <td>https://api.github.com/repos/ironhack-datalabs...</td>\n",
       "      <td>{'login': 'agalvezcorell', 'id': 57899051, 'no...</td>\n",
       "      <td>{'login': 'agalvezcorell', 'id': 57899051, 'no...</td>\n",
       "      <td>[{'sha': 'f3a48ac39f43cb8130695180360f5644eeef...</td>\n",
       "    </tr>\n",
       "    <tr>\n",
       "      <th>4</th>\n",
       "      <td>f3a48ac39f43cb8130695180360f5644eeefd309</td>\n",
       "      <td>MDY6Q29tbWl0MzA0MjQ4NTM5OmYzYTQ4YWMzOWY0M2NiOD...</td>\n",
       "      <td>{'author': {'name': '“breogann”', 'email': 'fe...</td>\n",
       "      <td>https://api.github.com/repos/ironhack-datalabs...</td>\n",
       "      <td>https://github.com/ironhack-datalabs/datamad10...</td>\n",
       "      <td>https://api.github.com/repos/ironhack-datalabs...</td>\n",
       "      <td>{'login': 'breogann', 'id': 54676992, 'node_id...</td>\n",
       "      <td>{'login': 'breogann', 'id': 54676992, 'node_id...</td>\n",
       "      <td>[{'sha': 'ef275bdbc37bb650f1457ada8304be91ac24...</td>\n",
       "    </tr>\n",
       "  </tbody>\n",
       "</table>\n",
       "</div>"
      ],
      "text/plain": [
       "                                        sha  \\\n",
       "0  f61a35d1016bfc11bb53e8d844db395fc6c4933d   \n",
       "1  79efcf150e34bc5eb982fde74dc5446bafc39bad   \n",
       "2  04bc51c0a75f3e6604fe7ac41da8b3c69919f7c3   \n",
       "3  62ccb107c540872cb332b10768b890040fb50c1f   \n",
       "4  f3a48ac39f43cb8130695180360f5644eeefd309   \n",
       "\n",
       "                                             node_id  \\\n",
       "0  MDY6Q29tbWl0MzA0MjQ4NTM5OmY2MWEzNWQxMDE2YmZjMT...   \n",
       "1  MDY6Q29tbWl0MzA0MjQ4NTM5Ojc5ZWZjZjE1MGUzNGJjNW...   \n",
       "2  MDY6Q29tbWl0MzA0MjQ4NTM5OjA0YmM1MWMwYTc1ZjNlNj...   \n",
       "3  MDY6Q29tbWl0MzA0MjQ4NTM5OjYyY2NiMTA3YzU0MDg3Mm...   \n",
       "4  MDY6Q29tbWl0MzA0MjQ4NTM5OmYzYTQ4YWMzOWY0M2NiOD...   \n",
       "\n",
       "                                              commit  \\\n",
       "0  {'author': {'name': 'ras', 'email': 'agalvezco...   \n",
       "1  {'author': {'name': 'agalvezcorell', 'email': ...   \n",
       "2  {'author': {'name': 'Ras Soyungalgo', 'email':...   \n",
       "3  {'author': {'name': 'Ras Soyungalgo', 'email':...   \n",
       "4  {'author': {'name': '“breogann”', 'email': 'fe...   \n",
       "\n",
       "                                                 url  \\\n",
       "0  https://api.github.com/repos/ironhack-datalabs...   \n",
       "1  https://api.github.com/repos/ironhack-datalabs...   \n",
       "2  https://api.github.com/repos/ironhack-datalabs...   \n",
       "3  https://api.github.com/repos/ironhack-datalabs...   \n",
       "4  https://api.github.com/repos/ironhack-datalabs...   \n",
       "\n",
       "                                            html_url  \\\n",
       "0  https://github.com/ironhack-datalabs/datamad10...   \n",
       "1  https://github.com/ironhack-datalabs/datamad10...   \n",
       "2  https://github.com/ironhack-datalabs/datamad10...   \n",
       "3  https://github.com/ironhack-datalabs/datamad10...   \n",
       "4  https://github.com/ironhack-datalabs/datamad10...   \n",
       "\n",
       "                                        comments_url  \\\n",
       "0  https://api.github.com/repos/ironhack-datalabs...   \n",
       "1  https://api.github.com/repos/ironhack-datalabs...   \n",
       "2  https://api.github.com/repos/ironhack-datalabs...   \n",
       "3  https://api.github.com/repos/ironhack-datalabs...   \n",
       "4  https://api.github.com/repos/ironhack-datalabs...   \n",
       "\n",
       "                                              author  \\\n",
       "0  {'login': 'agalvezcorell', 'id': 57899051, 'no...   \n",
       "1  {'login': 'agalvezcorell', 'id': 57899051, 'no...   \n",
       "2  {'login': 'agalvezcorell', 'id': 57899051, 'no...   \n",
       "3  {'login': 'agalvezcorell', 'id': 57899051, 'no...   \n",
       "4  {'login': 'breogann', 'id': 54676992, 'node_id...   \n",
       "\n",
       "                                           committer  \\\n",
       "0  {'login': 'agalvezcorell', 'id': 57899051, 'no...   \n",
       "1  {'login': 'agalvezcorell', 'id': 57899051, 'no...   \n",
       "2  {'login': 'agalvezcorell', 'id': 57899051, 'no...   \n",
       "3  {'login': 'agalvezcorell', 'id': 57899051, 'no...   \n",
       "4  {'login': 'breogann', 'id': 54676992, 'node_id...   \n",
       "\n",
       "                                             parents  \n",
       "0  [{'sha': '79efcf150e34bc5eb982fde74dc5446bafc3...  \n",
       "1  [{'sha': '04bc51c0a75f3e6604fe7ac41da8b3c69919...  \n",
       "2  [{'sha': '62ccb107c540872cb332b10768b890040fb5...  \n",
       "3  [{'sha': 'f3a48ac39f43cb8130695180360f5644eeef...  \n",
       "4  [{'sha': 'ef275bdbc37bb650f1457ada8304be91ac24...  "
      ]
     },
     "execution_count": 62,
     "metadata": {},
     "output_type": "execute_result"
    }
   ],
   "source": [
    "df_com = pd.DataFrame(commits)\n",
    "df_com.head()"
   ]
  },
  {
   "cell_type": "code",
   "execution_count": 48,
   "id": "90012e45",
   "metadata": {},
   "outputs": [],
   "source": [
    "df=df_com[\"commit\"]\n"
   ]
  },
  {
   "cell_type": "code",
   "execution_count": 53,
   "id": "b4bc3152",
   "metadata": {},
   "outputs": [
    {
     "data": {
      "text/html": [
       "<div>\n",
       "<style scoped>\n",
       "    .dataframe tbody tr th:only-of-type {\n",
       "        vertical-align: middle;\n",
       "    }\n",
       "\n",
       "    .dataframe tbody tr th {\n",
       "        vertical-align: top;\n",
       "    }\n",
       "\n",
       "    .dataframe thead th {\n",
       "        text-align: right;\n",
       "    }\n",
       "</style>\n",
       "<table border=\"1\" class=\"dataframe\">\n",
       "  <thead>\n",
       "    <tr style=\"text-align: right;\">\n",
       "      <th></th>\n",
       "      <th>name</th>\n",
       "      <th>email</th>\n",
       "      <th>date</th>\n",
       "    </tr>\n",
       "  </thead>\n",
       "  <tbody>\n",
       "    <tr>\n",
       "      <th>0</th>\n",
       "      <td>ras</td>\n",
       "      <td>agalvezcorell@gmail.com</td>\n",
       "      <td>2021-08-26T14:17:20Z</td>\n",
       "    </tr>\n",
       "    <tr>\n",
       "      <th>1</th>\n",
       "      <td>agalvezcorell</td>\n",
       "      <td>agalvezcorell@gmail.com</td>\n",
       "      <td>2021-06-17T14:03:57Z</td>\n",
       "    </tr>\n",
       "    <tr>\n",
       "      <th>2</th>\n",
       "      <td>Ras Soyungalgo</td>\n",
       "      <td>agalvezcorell@gmail.com</td>\n",
       "      <td>2021-03-24T18:55:39Z</td>\n",
       "    </tr>\n",
       "    <tr>\n",
       "      <th>3</th>\n",
       "      <td>Ras Soyungalgo</td>\n",
       "      <td>agalvezcorell@gmail.com</td>\n",
       "      <td>2021-01-26T13:00:09Z</td>\n",
       "    </tr>\n",
       "    <tr>\n",
       "      <th>4</th>\n",
       "      <td>“breogann”</td>\n",
       "      <td>fernandocostapradillo@gmail.com</td>\n",
       "      <td>2020-12-07T14:44:17Z</td>\n",
       "    </tr>\n",
       "  </tbody>\n",
       "</table>\n",
       "</div>"
      ],
      "text/plain": [
       "             name                            email                  date\n",
       "0             ras          agalvezcorell@gmail.com  2021-08-26T14:17:20Z\n",
       "1   agalvezcorell          agalvezcorell@gmail.com  2021-06-17T14:03:57Z\n",
       "2  Ras Soyungalgo          agalvezcorell@gmail.com  2021-03-24T18:55:39Z\n",
       "3  Ras Soyungalgo          agalvezcorell@gmail.com  2021-01-26T13:00:09Z\n",
       "4      “breogann”  fernandocostapradillo@gmail.com  2020-12-07T14:44:17Z"
      ]
     },
     "execution_count": 53,
     "metadata": {},
     "output_type": "execute_result"
    }
   ],
   "source": [
    "aut=[diccio[\"author\"] for diccio in df]\n",
    "df_date = pd.DataFrame(aut)\n",
    "df_date.head()"
   ]
  },
  {
   "cell_type": "code",
   "execution_count": 56,
   "id": "c780b879",
   "metadata": {},
   "outputs": [],
   "source": [
    "df_date[\"fecha\"]=df_date[\"date\"].str.extract(r\"(\\d{4}.\\d{2}.\\d{2})\",)"
   ]
  },
  {
   "cell_type": "code",
   "execution_count": 57,
   "id": "91cf7e94",
   "metadata": {},
   "outputs": [
    {
     "data": {
      "text/html": [
       "<div>\n",
       "<style scoped>\n",
       "    .dataframe tbody tr th:only-of-type {\n",
       "        vertical-align: middle;\n",
       "    }\n",
       "\n",
       "    .dataframe tbody tr th {\n",
       "        vertical-align: top;\n",
       "    }\n",
       "\n",
       "    .dataframe thead th {\n",
       "        text-align: right;\n",
       "    }\n",
       "</style>\n",
       "<table border=\"1\" class=\"dataframe\">\n",
       "  <thead>\n",
       "    <tr style=\"text-align: right;\">\n",
       "      <th></th>\n",
       "      <th>name</th>\n",
       "      <th>email</th>\n",
       "      <th>date</th>\n",
       "      <th>fecha</th>\n",
       "    </tr>\n",
       "  </thead>\n",
       "  <tbody>\n",
       "    <tr>\n",
       "      <th>0</th>\n",
       "      <td>ras</td>\n",
       "      <td>agalvezcorell@gmail.com</td>\n",
       "      <td>2021-08-26T14:17:20Z</td>\n",
       "      <td>2021-08-26</td>\n",
       "    </tr>\n",
       "    <tr>\n",
       "      <th>1</th>\n",
       "      <td>agalvezcorell</td>\n",
       "      <td>agalvezcorell@gmail.com</td>\n",
       "      <td>2021-06-17T14:03:57Z</td>\n",
       "      <td>2021-06-17</td>\n",
       "    </tr>\n",
       "    <tr>\n",
       "      <th>2</th>\n",
       "      <td>Ras Soyungalgo</td>\n",
       "      <td>agalvezcorell@gmail.com</td>\n",
       "      <td>2021-03-24T18:55:39Z</td>\n",
       "      <td>2021-03-24</td>\n",
       "    </tr>\n",
       "    <tr>\n",
       "      <th>3</th>\n",
       "      <td>Ras Soyungalgo</td>\n",
       "      <td>agalvezcorell@gmail.com</td>\n",
       "      <td>2021-01-26T13:00:09Z</td>\n",
       "      <td>2021-01-26</td>\n",
       "    </tr>\n",
       "    <tr>\n",
       "      <th>4</th>\n",
       "      <td>“breogann”</td>\n",
       "      <td>fernandocostapradillo@gmail.com</td>\n",
       "      <td>2020-12-07T14:44:17Z</td>\n",
       "      <td>2020-12-07</td>\n",
       "    </tr>\n",
       "  </tbody>\n",
       "</table>\n",
       "</div>"
      ],
      "text/plain": [
       "             name                            email                  date  \\\n",
       "0             ras          agalvezcorell@gmail.com  2021-08-26T14:17:20Z   \n",
       "1   agalvezcorell          agalvezcorell@gmail.com  2021-06-17T14:03:57Z   \n",
       "2  Ras Soyungalgo          agalvezcorell@gmail.com  2021-03-24T18:55:39Z   \n",
       "3  Ras Soyungalgo          agalvezcorell@gmail.com  2021-01-26T13:00:09Z   \n",
       "4      “breogann”  fernandocostapradillo@gmail.com  2020-12-07T14:44:17Z   \n",
       "\n",
       "        fecha  \n",
       "0  2021-08-26  \n",
       "1  2021-06-17  \n",
       "2  2021-03-24  \n",
       "3  2021-01-26  \n",
       "4  2020-12-07  "
      ]
     },
     "execution_count": 57,
     "metadata": {},
     "output_type": "execute_result"
    }
   ],
   "source": [
    "df_date.head()"
   ]
  },
  {
   "cell_type": "code",
   "execution_count": 60,
   "id": "61e1c095",
   "metadata": {},
   "outputs": [
    {
     "data": {
      "text/html": [
       "<div>\n",
       "<style scoped>\n",
       "    .dataframe tbody tr th:only-of-type {\n",
       "        vertical-align: middle;\n",
       "    }\n",
       "\n",
       "    .dataframe tbody tr th {\n",
       "        vertical-align: top;\n",
       "    }\n",
       "\n",
       "    .dataframe thead th {\n",
       "        text-align: right;\n",
       "    }\n",
       "</style>\n",
       "<table border=\"1\" class=\"dataframe\">\n",
       "  <thead>\n",
       "    <tr style=\"text-align: right;\">\n",
       "      <th></th>\n",
       "      <th>name</th>\n",
       "      <th>email</th>\n",
       "      <th>date</th>\n",
       "      <th>fecha</th>\n",
       "    </tr>\n",
       "  </thead>\n",
       "  <tbody>\n",
       "  </tbody>\n",
       "</table>\n",
       "</div>"
      ],
      "text/plain": [
       "Empty DataFrame\n",
       "Columns: [name, email, date, fecha]\n",
       "Index: []"
      ]
     },
     "execution_count": 60,
     "metadata": {},
     "output_type": "execute_result"
    }
   ],
   "source": [
    "lastwcom=df_date.loc[(df_date[\"fecha\"]>\"2021-10-28\")]\n",
    "lastwcom"
   ]
  },
  {
   "cell_type": "code",
   "execution_count": null,
   "id": "210bf180",
   "metadata": {},
   "outputs": [],
   "source": []
  }
 ],
 "metadata": {
  "kernelspec": {
   "display_name": "ironhack",
   "language": "python",
   "name": "ironhack"
  },
  "language_info": {
   "codemirror_mode": {
    "name": "ipython",
    "version": 3
   },
   "file_extension": ".py",
   "mimetype": "text/x-python",
   "name": "python",
   "nbconvert_exporter": "python",
   "pygments_lexer": "ipython3",
   "version": "3.8.5"
  },
  "toc": {
   "base_numbering": 1,
   "nav_menu": {},
   "number_sections": true,
   "sideBar": true,
   "skip_h1_title": true,
   "title_cell": "Table of Contents",
   "title_sidebar": "Contents",
   "toc_cell": false,
   "toc_position": {
    "height": "calc(100% - 180px)",
    "left": "10px",
    "top": "150px",
    "width": "288px"
   },
   "toc_section_display": true,
   "toc_window_display": true
  }
 },
 "nbformat": 4,
 "nbformat_minor": 5
}
