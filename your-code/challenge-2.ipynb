{
 "cells": [
  {
   "cell_type": "markdown",
   "id": "threaded-asbestos",
   "metadata": {},
   "source": [
    "# Challenge 2: Count Commits\n",
    "\n",
    "Count how many commits were made in the past week.\n",
    "\n",
    "Obtain all the commits made in the past week via API, which is a JSON array that contains multiple commit objects.\n",
    "\n",
    "Count how many commit objects are contained in the array."
   ]
  },
  {
   "cell_type": "markdown",
   "id": "norwegian-praise",
   "metadata": {},
   "source": [
    "⚠️ **Remember to limit your output before submission**."
   ]
  },
  {
   "cell_type": "code",
   "execution_count": 1,
   "id": "developing-printing",
   "metadata": {},
   "outputs": [],
   "source": [
    "#Your code"
   ]
  },
  {
   "cell_type": "code",
   "execution_count": 1,
   "id": "2b61f4b4",
   "metadata": {},
   "outputs": [],
   "source": [
    "import json\n",
    "import requests"
   ]
  },
  {
   "cell_type": "code",
   "execution_count": 2,
   "id": "a760ec94",
   "metadata": {},
   "outputs": [],
   "source": [
    "import os\n",
    "from dotenv import load_dotenv"
   ]
  },
  {
   "cell_type": "code",
   "execution_count": 3,
   "id": "b79c1967",
   "metadata": {},
   "outputs": [
    {
     "data": {
      "text/plain": [
       "True"
      ]
     },
     "execution_count": 3,
     "metadata": {},
     "output_type": "execute_result"
    }
   ],
   "source": [
    "load_dotenv()"
   ]
  },
  {
   "cell_type": "code",
   "execution_count": 4,
   "id": "72c5202c",
   "metadata": {},
   "outputs": [],
   "source": [
    "token = os.getenv(\"github\")"
   ]
  },
  {
   "cell_type": "markdown",
   "id": "1761fb77",
   "metadata": {},
   "source": [
    "# vamos con el chalench"
   ]
  },
  {
   "cell_type": "markdown",
   "id": "5bf65b22",
   "metadata": {},
   "source": [
    "## voy a contar los commits a \"apuntes de clase\" del 20 de oct al 3 de nov"
   ]
  },
  {
   "cell_type": "code",
   "execution_count": 34,
   "id": "2f72bdaf",
   "metadata": {},
   "outputs": [],
   "source": [
    "url=\"https://api.github.com/repos/Ironhack-Data-Madrid-Octubre-2021/apuntes_clase/commits\"\n",
    "parameters = {\"Authorization\": f\"token {token}\",\"since\":\"2021-10-20T00:00:00Z\",\"until\":\"2021-11-03T00:00:00Z\"}\n",
    "# voy a contar los commits a \"apuntes de clase\" del 20 de oct al 3 de nov"
   ]
  },
  {
   "cell_type": "code",
   "execution_count": 35,
   "id": "de0e6c97",
   "metadata": {},
   "outputs": [],
   "source": [
    "forks = requests.get(url, headers=parameters).json()"
   ]
  },
  {
   "cell_type": "code",
   "execution_count": 36,
   "id": "0a0be4e3",
   "metadata": {},
   "outputs": [
    {
     "data": {
      "text/plain": [
       "30"
      ]
     },
     "execution_count": 36,
     "metadata": {},
     "output_type": "execute_result"
    }
   ],
   "source": [
    "len(forks)"
   ]
  },
  {
   "cell_type": "markdown",
   "id": "45d117c8",
   "metadata": {},
   "source": [
    "## pero, sin embargo..."
   ]
  },
  {
   "cell_type": "code",
   "execution_count": 37,
   "id": "b1f58226",
   "metadata": {},
   "outputs": [
    {
     "data": {
      "text/plain": [
       "{'author': {'name': 'ras',\n",
       "  'email': 'agalvezcorell@gmail.com',\n",
       "  'date': '2021-11-04T12:56:31Z'},\n",
       " 'committer': {'name': 'ras',\n",
       "  'email': 'agalvezcorell@gmail.com',\n",
       "  'date': '2021-11-04T12:56:31Z'},\n",
       " 'message': 'NOS_PUTO_FLIPAN_LAS_APIS_🚀🔥',\n",
       " 'tree': {'sha': '1c42d93e72b3e0eff3dfbe1d0d2d787e88619153',\n",
       "  'url': 'https://api.github.com/repos/Ironhack-Data-Madrid-Octubre-2021/apuntes_clase/git/trees/1c42d93e72b3e0eff3dfbe1d0d2d787e88619153'},\n",
       " 'url': 'https://api.github.com/repos/Ironhack-Data-Madrid-Octubre-2021/apuntes_clase/git/commits/81bd58708709cd9ecc702b9a6da1e3c5fc43f1fd',\n",
       " 'comment_count': 0,\n",
       " 'verification': {'verified': False,\n",
       "  'reason': 'unsigned',\n",
       "  'signature': None,\n",
       "  'payload': None}}"
      ]
     },
     "execution_count": 37,
     "metadata": {},
     "output_type": "execute_result"
    }
   ],
   "source": [
    "forks[0][\"commit\"]"
   ]
  },
  {
   "cell_type": "code",
   "execution_count": 38,
   "id": "9ce8da36",
   "metadata": {},
   "outputs": [
    {
     "data": {
      "text/plain": [
       "{'name': 'ras',\n",
       " 'email': 'agalvezcorell@gmail.com',\n",
       " 'date': '2021-11-04T12:56:31Z'}"
      ]
     },
     "execution_count": 38,
     "metadata": {},
     "output_type": "execute_result"
    }
   ],
   "source": [
    "forks[0][\"commit\"][\"committer\"]"
   ]
  },
  {
   "cell_type": "code",
   "execution_count": 39,
   "id": "4c41a89e",
   "metadata": {
    "scrolled": true
   },
   "outputs": [
    {
     "data": {
      "text/plain": [
       "'2021-11-04T12:56:31Z'"
      ]
     },
     "execution_count": 39,
     "metadata": {},
     "output_type": "execute_result"
    }
   ],
   "source": [
    "forks[0][\"commit\"][\"committer\"][\"date\"]"
   ]
  },
  {
   "cell_type": "markdown",
   "id": "d25c5a28",
   "metadata": {},
   "source": [
    "## 4 de noviembre ??!?"
   ]
  },
  {
   "cell_type": "code",
   "execution_count": null,
   "id": "46add174",
   "metadata": {},
   "outputs": [],
   "source": []
  }
 ],
 "metadata": {
  "kernelspec": {
   "display_name": "Python 3",
   "language": "python",
   "name": "python3"
  },
  "language_info": {
   "codemirror_mode": {
    "name": "ipython",
    "version": 3
   },
   "file_extension": ".py",
   "mimetype": "text/x-python",
   "name": "python",
   "nbconvert_exporter": "python",
   "pygments_lexer": "ipython3",
   "version": "3.8.12"
  },
  "toc": {
   "base_numbering": 1,
   "nav_menu": {},
   "number_sections": true,
   "sideBar": true,
   "skip_h1_title": true,
   "title_cell": "Table of Contents",
   "title_sidebar": "Contents",
   "toc_cell": false,
   "toc_position": {
    "height": "calc(100% - 180px)",
    "left": "10px",
    "top": "150px",
    "width": "288px"
   },
   "toc_section_display": true,
   "toc_window_display": true
  }
 },
 "nbformat": 4,
 "nbformat_minor": 5
}
