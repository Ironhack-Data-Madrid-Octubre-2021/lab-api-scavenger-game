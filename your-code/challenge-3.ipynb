{
 "cells": [
  {
   "cell_type": "markdown",
   "id": "defensive-clock",
   "metadata": {},
   "source": [
    "# Challenge 3: Hidden Cold Joke\n",
    "\n",
    "Using Python, call Github API to find out the cold joke contained in the 24 secret files in the following repo:\n",
    "\n",
    "https://github.com/ironhack-datalabs/scavenger\n",
    "\n",
    "The filenames of the secret files contain .scavengerhunt and they are scattered in different directories of this repo. The secret files are named from .0001.scavengerhunt to .0024.scavengerhunt. They are scattered randomly throughout this repo. You need to search for these files by calling the Github API, not searching the local files on your computer.\n",
    "\n",
    "\n",
    "After you find out the secrete files:\n",
    "\n",
    "Sort the filenames ascendingly.\n",
    "\n",
    "Read the content of each secret files into an array of strings.\n",
    "\n",
    "Concatenate the strings in the array separating each two with a whitespace.\n",
    "\n",
    "Print out the joke."
   ]
  },
  {
   "cell_type": "markdown",
   "id": "universal-length",
   "metadata": {},
   "source": [
    "⚠️ **Remember to limit your output before submission**."
   ]
  },
  {
   "cell_type": "code",
   "execution_count": 1,
   "id": "toxic-trading",
   "metadata": {},
   "outputs": [],
   "source": [
    "import json\n",
    "import requests"
   ]
  },
  {
   "cell_type": "code",
   "execution_count": 2,
   "id": "fbadef8b",
   "metadata": {},
   "outputs": [],
   "source": [
    "import os\n",
    "from dotenv import load_dotenv"
   ]
  },
  {
   "cell_type": "code",
   "execution_count": 3,
   "id": "1d554b4e",
   "metadata": {},
   "outputs": [
    {
     "data": {
      "text/plain": [
       "True"
      ]
     },
     "execution_count": 3,
     "metadata": {},
     "output_type": "execute_result"
    }
   ],
   "source": [
    "load_dotenv()"
   ]
  },
  {
   "cell_type": "code",
   "execution_count": 4,
   "id": "d5890c9b",
   "metadata": {},
   "outputs": [],
   "source": [
    "token = os.getenv(\"github\")"
   ]
  },
  {
   "cell_type": "markdown",
   "id": "b05bffaa",
   "metadata": {},
   "source": [
    "### al tema:"
   ]
  },
  {
   "cell_type": "markdown",
   "id": "5eb78be9",
   "metadata": {},
   "source": [
    "#### vamos a meternos en el repo con el endpoint /contents"
   ]
  },
  {
   "cell_type": "code",
   "execution_count": 121,
   "id": "b9e909ba",
   "metadata": {},
   "outputs": [],
   "source": [
    "url=\"https://api.github.com/repos/ironhack-datalabs/scavenger/contents\"\n",
    "parameters = {\"Authorization\": f\"token {token}\"}"
   ]
  },
  {
   "cell_type": "code",
   "execution_count": 122,
   "id": "f54b8d48",
   "metadata": {},
   "outputs": [],
   "source": [
    "hid = requests.get(url, headers=parameters).json()"
   ]
  },
  {
   "cell_type": "code",
   "execution_count": 123,
   "id": "a60eeb24",
   "metadata": {},
   "outputs": [],
   "source": [
    "# hid"
   ]
  },
  {
   "cell_type": "markdown",
   "id": "0305975f",
   "metadata": {},
   "source": [
    "### y de cada elemento nos quedamos con el value correspondiente a \"url\""
   ]
  },
  {
   "cell_type": "code",
   "execution_count": 124,
   "id": "b2bbca55",
   "metadata": {},
   "outputs": [],
   "source": [
    "lista1=[i[\"url\"] for i in hid]"
   ]
  },
  {
   "cell_type": "code",
   "execution_count": 125,
   "id": "87eac11f",
   "metadata": {},
   "outputs": [],
   "source": [
    "# lista1"
   ]
  },
  {
   "cell_type": "markdown",
   "id": "51594368",
   "metadata": {},
   "source": [
    "#### (le quitamos el primer elemento a la lista porque es el .gitignore, que no me interesa)"
   ]
  },
  {
   "cell_type": "code",
   "execution_count": 126,
   "id": "cac9673f",
   "metadata": {},
   "outputs": [],
   "source": [
    "lista1=lista1[1:]"
   ]
  },
  {
   "cell_type": "markdown",
   "id": "6a8c6e31",
   "metadata": {},
   "source": [
    "## utlizamos la función de Rasm para hacer request"
   ]
  },
  {
   "cell_type": "code",
   "execution_count": 127,
   "id": "de6c6f18",
   "metadata": {},
   "outputs": [],
   "source": [
    "def ras(enlace):\n",
    "    tok = os.getenv(\"github\")\n",
    "    if not tok:\n",
    "        raise ValueError(\"OJOOO necesitas un token\")\n",
    "    parametros = {\"Authorization\": f\"token {tok}\"}\n",
    "    res = requests.get(enlace, headers=parametros).json()\n",
    "    return res"
   ]
  },
  {
   "cell_type": "markdown",
   "id": "dca32dd9",
   "metadata": {},
   "source": [
    "### y se la aplicamos a cada elemento de lista1, y de cada resultado, si el \"name\" es de los que me interesa, me quedo su url"
   ]
  },
  {
   "cell_type": "code",
   "execution_count": 128,
   "id": "3988c26f",
   "metadata": {},
   "outputs": [],
   "source": [
    "lista3=[]\n",
    "for i in range(len(lista1)):\n",
    "    lista2=ras(lista1[i])\n",
    "    for j in range(len(lista2)):\n",
    "        if lista2[j][\"name\"].endswith(\"hunt\"):\n",
    "            lista3.append(lista2[j][\"url\"])"
   ]
  },
  {
   "cell_type": "markdown",
   "id": "0555e1e1",
   "metadata": {},
   "source": [
    "### el resultado es lista3, aquí podemos verla:"
   ]
  },
  {
   "cell_type": "code",
   "execution_count": 129,
   "id": "52c08aaa",
   "metadata": {},
   "outputs": [],
   "source": [
    " # lista3"
   ]
  },
  {
   "cell_type": "markdown",
   "id": "97f4ff90",
   "metadata": {},
   "source": [
    "### ahora con esas URLs me hago un diccionario con el \"name\" y el \"content\""
   ]
  },
  {
   "cell_type": "code",
   "execution_count": 131,
   "id": "f2917f6f",
   "metadata": {},
   "outputs": [
    {
     "data": {
      "text/plain": [
       "{'.0006.scavengerhunt': 'b2YK\\n',\n",
       " '.0008.scavengerhunt': 'c3BlbnQK\\n',\n",
       " '.0012.scavengerhunt': 'MjAK\\n',\n",
       " '.0007.scavengerhunt': 'dGltZQo=\\n',\n",
       " '.0021.scavengerhunt': 'bmVlZAo=\\n',\n",
       " '.0022.scavengerhunt': 'dG8K\\n',\n",
       " '.0005.scavengerhunt': 'cGVyY2VudAo=\\n',\n",
       " '.0018.scavengerhunt': 'Y29tcGxhaW5pbmcK\\n',\n",
       " '.0016.scavengerhunt': 'aXMK\\n',\n",
       " '.0024.scavengerhunt': 'ZGF0YS4K\\n',\n",
       " '.0010.scavengerhunt': 'cHJlcGFyaW5nCg==\\n',\n",
       " '.0014.scavengerhunt': 'b2YK\\n',\n",
       " '.0011.scavengerhunt': 'ZGF0YSwK\\n',\n",
       " '.0023.scavengerhunt': 'cHJlcGFyZQo=\\n',\n",
       " '.0020.scavengerhunt': 'dGhlCg==\\n',\n",
       " '.0003.scavengerhunt': 'c2NpZW5jZSwK\\n',\n",
       " '.0004.scavengerhunt': 'ODAK\\n',\n",
       " '.0019.scavengerhunt': 'YWJvdXQK\\n',\n",
       " '.0017.scavengerhunt': 'c3BlbnQK\\n',\n",
       " '.0002.scavengerhunt': 'ZGF0YQo=\\n',\n",
       " '.0013.scavengerhunt': 'cGVyY2VudAo=\\n',\n",
       " '.0015.scavengerhunt': 'dGltZQo=\\n',\n",
       " '.0009.scavengerhunt': 'aXMK\\n',\n",
       " '.0001.scavengerhunt': 'SW4K\\n'}"
      ]
     },
     "execution_count": 131,
     "metadata": {},
     "output_type": "execute_result"
    }
   ],
   "source": [
    "dic_mio={}\n",
    "for i in lista3:\n",
    "    dic_mio[ras(i)[\"name\"]]=ras(i)[\"content\"]\n",
    "dic_mio"
   ]
  },
  {
   "cell_type": "markdown",
   "id": "a6b3131b",
   "metadata": {},
   "source": [
    "### ... y lo ordenamos por el nombre:"
   ]
  },
  {
   "cell_type": "code",
   "execution_count": 132,
   "id": "c17c053a",
   "metadata": {},
   "outputs": [],
   "source": [
    "orden=sorted(list(dic_mio.keys()))"
   ]
  },
  {
   "cell_type": "code",
   "execution_count": 133,
   "id": "4117aa6b",
   "metadata": {},
   "outputs": [],
   "source": [
    "bits=[dic_mio[i] for i in orden]"
   ]
  },
  {
   "cell_type": "code",
   "execution_count": 134,
   "id": "c2848894",
   "metadata": {},
   "outputs": [
    {
     "data": {
      "text/plain": [
       "['SW4K\\n',\n",
       " 'ZGF0YQo=\\n',\n",
       " 'c2NpZW5jZSwK\\n',\n",
       " 'ODAK\\n',\n",
       " 'cGVyY2VudAo=\\n',\n",
       " 'b2YK\\n',\n",
       " 'dGltZQo=\\n',\n",
       " 'c3BlbnQK\\n',\n",
       " 'aXMK\\n',\n",
       " 'cHJlcGFyaW5nCg==\\n',\n",
       " 'ZGF0YSwK\\n',\n",
       " 'MjAK\\n',\n",
       " 'cGVyY2VudAo=\\n',\n",
       " 'b2YK\\n',\n",
       " 'dGltZQo=\\n',\n",
       " 'aXMK\\n',\n",
       " 'c3BlbnQK\\n',\n",
       " 'Y29tcGxhaW5pbmcK\\n',\n",
       " 'YWJvdXQK\\n',\n",
       " 'dGhlCg==\\n',\n",
       " 'bmVlZAo=\\n',\n",
       " 'dG8K\\n',\n",
       " 'cHJlcGFyZQo=\\n',\n",
       " 'ZGF0YS4K\\n']"
      ]
     },
     "execution_count": 134,
     "metadata": {},
     "output_type": "execute_result"
    }
   ],
   "source": [
    "bits"
   ]
  },
  {
   "cell_type": "markdown",
   "id": "7d1e39e6",
   "metadata": {},
   "source": [
    "### vamos a poner esto en cristiano:"
   ]
  },
  {
   "cell_type": "code",
   "execution_count": 135,
   "id": "e430aa4f",
   "metadata": {},
   "outputs": [],
   "source": [
    "import base64"
   ]
  },
  {
   "cell_type": "code",
   "execution_count": 137,
   "id": "358b6d91",
   "metadata": {},
   "outputs": [
    {
     "data": {
      "text/plain": [
       "['In\\n',\n",
       " 'data\\n',\n",
       " 'science,\\n',\n",
       " '80\\n',\n",
       " 'percent\\n',\n",
       " 'of\\n',\n",
       " 'time\\n',\n",
       " 'spent\\n',\n",
       " 'is\\n',\n",
       " 'preparing\\n',\n",
       " 'data,\\n',\n",
       " '20\\n',\n",
       " 'percent\\n',\n",
       " 'of\\n',\n",
       " 'time\\n',\n",
       " 'is\\n',\n",
       " 'spent\\n',\n",
       " 'complaining\\n',\n",
       " 'about\\n',\n",
       " 'the\\n',\n",
       " 'need\\n',\n",
       " 'to\\n',\n",
       " 'prepare\\n',\n",
       " 'data.\\n']"
      ]
     },
     "execution_count": 137,
     "metadata": {},
     "output_type": "execute_result"
    }
   ],
   "source": [
    "cristiano = [base64.b64decode(i).decode(\"utf-8\")  for i in bits]\n",
    "cristiano"
   ]
  },
  {
   "cell_type": "markdown",
   "id": "38851196",
   "metadata": {},
   "source": [
    "#### (ya podemos entreleer el chiste...)"
   ]
  },
  {
   "cell_type": "code",
   "execution_count": 142,
   "id": "bca49286",
   "metadata": {},
   "outputs": [],
   "source": [
    "cristiano=[pal[:-1] for pal in cristiano]"
   ]
  },
  {
   "cell_type": "code",
   "execution_count": 145,
   "id": "5d587482",
   "metadata": {
    "scrolled": true
   },
   "outputs": [
    {
     "data": {
      "text/plain": [
       "'In data science, 80 percent of time spent is preparing data, 20 percent of time is spent complaining about the need to prepare data.'"
      ]
     },
     "execution_count": 145,
     "metadata": {},
     "output_type": "execute_result"
    }
   ],
   "source": [
    "joke=' '.join(cristiano)\n",
    "joke"
   ]
  },
  {
   "cell_type": "markdown",
   "id": "111c03dd",
   "metadata": {},
   "source": [
    "# ha-ha-ha"
   ]
  }
 ],
 "metadata": {
  "kernelspec": {
   "display_name": "Python 3",
   "language": "python",
   "name": "python3"
  },
  "language_info": {
   "codemirror_mode": {
    "name": "ipython",
    "version": 3
   },
   "file_extension": ".py",
   "mimetype": "text/x-python",
   "name": "python",
   "nbconvert_exporter": "python",
   "pygments_lexer": "ipython3",
   "version": "3.8.12"
  },
  "toc": {
   "base_numbering": 1,
   "nav_menu": {},
   "number_sections": true,
   "sideBar": true,
   "skip_h1_title": true,
   "title_cell": "Table of Contents",
   "title_sidebar": "Contents",
   "toc_cell": false,
   "toc_position": {},
   "toc_section_display": true,
   "toc_window_display": true
  }
 },
 "nbformat": 4,
 "nbformat_minor": 5
}
