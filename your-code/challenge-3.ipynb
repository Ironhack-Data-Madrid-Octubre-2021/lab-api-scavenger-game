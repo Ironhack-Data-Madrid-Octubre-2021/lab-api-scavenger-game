{
 "cells": [
  {
   "cell_type": "code",
   "execution_count": 1,
   "id": "88a070fa",
   "metadata": {},
   "outputs": [],
   "source": [
    "import json\n",
    "import requests\n",
    "import os\n",
    "from dotenv import load_dotenv\n",
    "import base64"
   ]
  },
  {
   "cell_type": "code",
   "execution_count": 2,
   "id": "c839c338",
   "metadata": {},
   "outputs": [
    {
     "data": {
      "text/plain": [
       "True"
      ]
     },
     "execution_count": 2,
     "metadata": {},
     "output_type": "execute_result"
    }
   ],
   "source": [
    "load_dotenv()"
   ]
  },
  {
   "cell_type": "code",
   "execution_count": 3,
   "id": "830f6582",
   "metadata": {},
   "outputs": [],
   "source": [
    "github = os.getenv(\"tok\")"
   ]
  },
  {
   "cell_type": "markdown",
   "id": "defensive-clock",
   "metadata": {},
   "source": [
    "# Challenge 3: Hidden Cold Joke\n",
    "\n",
    "Using Python, call Github API to find out the cold joke contained in the 24 secret files in the following repo:\n",
    "\n",
    "https://github.com/ironhack-datalabs/scavenger\n",
    "\n",
    "The filenames of the secret files contain .scavengerhunt and they are scattered in different directories of this repo. The secret files are named from .0001.scavengerhunt to .0024.scavengerhunt. They are scattered randomly throughout this repo. You need to search for these files by calling the Github API, not searching the local files on your computer.\n",
    "\n",
    "\n",
    "After you find out the secrete files:\n",
    "\n",
    "Sort the filenames ascendingly.\n",
    "\n",
    "Read the content of each secret files into an array of strings.\n",
    "\n",
    "Concatenate the strings in the array separating each two with a whitespace.\n",
    "\n",
    "Print out the joke."
   ]
  },
  {
   "cell_type": "markdown",
   "id": "universal-length",
   "metadata": {},
   "source": [
    "⚠️ **Remember to limit your output before submission**."
   ]
  },
  {
   "cell_type": "code",
   "execution_count": 4,
   "id": "00bcb7c3",
   "metadata": {},
   "outputs": [],
   "source": [
    "url_hid = \"https://api.github.com/repos/ironhack-datalabs/scavenger/contents\""
   ]
  },
  {
   "cell_type": "code",
   "execution_count": 5,
   "id": "0d88a7b1",
   "metadata": {},
   "outputs": [],
   "source": [
    "parameters = {\"Authorization\": f\"token {github}\"} "
   ]
  },
  {
   "cell_type": "code",
   "execution_count": 6,
   "id": "e26b9cdf",
   "metadata": {
    "scrolled": false
   },
   "outputs": [
    {
     "data": {
      "text/plain": [
       "'https://api.github.com/repos/ironhack-datalabs/scavenger/contents/.gitignore?ref=master'"
      ]
     },
     "execution_count": 6,
     "metadata": {},
     "output_type": "execute_result"
    }
   ],
   "source": [
    "hids = requests.get(url_hid, headers=parameters).json()\n",
    "hids\n",
    "\n",
    "primera = []\n",
    "\n",
    "for h in hids:\n",
    "    primera.append(h[\"url\"])\n",
    "\n",
    "primera\n",
    "\n",
    "primera.pop(0)\n"
   ]
  },
  {
   "cell_type": "code",
   "execution_count": 7,
   "id": "8b3d0f4b",
   "metadata": {},
   "outputs": [],
   "source": [
    "def rasfunction(lista):\n",
    "    tok = os.getenv(\"tok\")\n",
    "    if not tok:\n",
    "        raise ValueError(\"OJOOO necesitas un token\")\n",
    "    print(f\"Estoy haciendo request a {lista}\")\n",
    "    parametros = {\"Authorization\": f\"token {tok}\"}\n",
    "    res = requests.get(lista, headers=parametros).json()\n",
    "    return res"
   ]
  },
  {
   "cell_type": "code",
   "execution_count": 8,
   "id": "fd664f7d",
   "metadata": {},
   "outputs": [
    {
     "name": "stdout",
     "output_type": "stream",
     "text": [
      "Estoy haciendo request a https://api.github.com/repos/ironhack-datalabs/scavenger/contents/15024?ref=master\n",
      "Estoy haciendo request a https://api.github.com/repos/ironhack-datalabs/scavenger/contents/15534?ref=master\n",
      "Estoy haciendo request a https://api.github.com/repos/ironhack-datalabs/scavenger/contents/17020?ref=master\n",
      "Estoy haciendo request a https://api.github.com/repos/ironhack-datalabs/scavenger/contents/30351?ref=master\n",
      "Estoy haciendo request a https://api.github.com/repos/ironhack-datalabs/scavenger/contents/40303?ref=master\n",
      "Estoy haciendo request a https://api.github.com/repos/ironhack-datalabs/scavenger/contents/44639?ref=master\n",
      "Estoy haciendo request a https://api.github.com/repos/ironhack-datalabs/scavenger/contents/45525?ref=master\n",
      "Estoy haciendo request a https://api.github.com/repos/ironhack-datalabs/scavenger/contents/47222?ref=master\n",
      "Estoy haciendo request a https://api.github.com/repos/ironhack-datalabs/scavenger/contents/47830?ref=master\n",
      "Estoy haciendo request a https://api.github.com/repos/ironhack-datalabs/scavenger/contents/49418?ref=master\n",
      "Estoy haciendo request a https://api.github.com/repos/ironhack-datalabs/scavenger/contents/50896?ref=master\n",
      "Estoy haciendo request a https://api.github.com/repos/ironhack-datalabs/scavenger/contents/55417?ref=master\n",
      "Estoy haciendo request a https://api.github.com/repos/ironhack-datalabs/scavenger/contents/55685?ref=master\n",
      "Estoy haciendo request a https://api.github.com/repos/ironhack-datalabs/scavenger/contents/60224?ref=master\n",
      "Estoy haciendo request a https://api.github.com/repos/ironhack-datalabs/scavenger/contents/64880?ref=master\n",
      "Estoy haciendo request a https://api.github.com/repos/ironhack-datalabs/scavenger/contents/66032?ref=master\n",
      "Estoy haciendo request a https://api.github.com/repos/ironhack-datalabs/scavenger/contents/68848?ref=master\n",
      "Estoy haciendo request a https://api.github.com/repos/ironhack-datalabs/scavenger/contents/70751?ref=master\n",
      "Estoy haciendo request a https://api.github.com/repos/ironhack-datalabs/scavenger/contents/70985?ref=master\n",
      "Estoy haciendo request a https://api.github.com/repos/ironhack-datalabs/scavenger/contents/88596?ref=master\n",
      "Estoy haciendo request a https://api.github.com/repos/ironhack-datalabs/scavenger/contents/89046?ref=master\n",
      "Estoy haciendo request a https://api.github.com/repos/ironhack-datalabs/scavenger/contents/89338?ref=master\n",
      "Estoy haciendo request a https://api.github.com/repos/ironhack-datalabs/scavenger/contents/91701?ref=master\n",
      "Estoy haciendo request a https://api.github.com/repos/ironhack-datalabs/scavenger/contents/97881?ref=master\n",
      "Estoy haciendo request a https://api.github.com/repos/ironhack-datalabs/scavenger/contents/98750?ref=master\n"
     ]
    }
   ],
   "source": [
    "# mucha_info = [requestGithub(enlace) for enlace in enlaces]\n",
    "segunda = [rasfunction(p) for p in primera]"
   ]
  },
  {
   "cell_type": "code",
   "execution_count": 9,
   "id": "b822804b",
   "metadata": {},
   "outputs": [
    {
     "data": {
      "text/plain": [
       "'https://api.github.com/repos/ironhack-datalabs/scavenger/contents/15534/.0008.scavengerhunt?ref=master'"
      ]
     },
     "execution_count": 9,
     "metadata": {},
     "output_type": "execute_result"
    }
   ],
   "source": [
    "segunda[1][0][\"url\"]"
   ]
  },
  {
   "cell_type": "code",
   "execution_count": 10,
   "id": "3e169374",
   "metadata": {},
   "outputs": [
    {
     "data": {
      "text/plain": [
       "['https://api.github.com/repos/ironhack-datalabs/scavenger/contents/15024/.0006.scavengerhunt?ref=master',\n",
       " 'https://api.github.com/repos/ironhack-datalabs/scavenger/contents/15534/.0008.scavengerhunt?ref=master',\n",
       " 'https://api.github.com/repos/ironhack-datalabs/scavenger/contents/15534/.0012.scavengerhunt?ref=master',\n",
       " 'https://api.github.com/repos/ironhack-datalabs/scavenger/contents/17020/.0007.scavengerhunt?ref=master',\n",
       " 'https://api.github.com/repos/ironhack-datalabs/scavenger/contents/30351/.0021.scavengerhunt?ref=master',\n",
       " 'https://api.github.com/repos/ironhack-datalabs/scavenger/contents/40303/.0022.scavengerhunt?ref=master',\n",
       " 'https://api.github.com/repos/ironhack-datalabs/scavenger/contents/44639/.0005.scavengerhunt?ref=master',\n",
       " 'https://api.github.com/repos/ironhack-datalabs/scavenger/contents/45525/.0018.scavengerhunt?ref=master',\n",
       " 'https://api.github.com/repos/ironhack-datalabs/scavenger/contents/47222/.0016.scavengerhunt?ref=master',\n",
       " 'https://api.github.com/repos/ironhack-datalabs/scavenger/contents/47222/.0024.scavengerhunt?ref=master',\n",
       " 'https://api.github.com/repos/ironhack-datalabs/scavenger/contents/47830/.0010.scavengerhunt?ref=master',\n",
       " 'https://api.github.com/repos/ironhack-datalabs/scavenger/contents/49418/.0014.scavengerhunt?ref=master',\n",
       " 'https://api.github.com/repos/ironhack-datalabs/scavenger/contents/50896/.0011.scavengerhunt?ref=master',\n",
       " 'https://api.github.com/repos/ironhack-datalabs/scavenger/contents/55417/.0023.scavengerhunt?ref=master',\n",
       " 'https://api.github.com/repos/ironhack-datalabs/scavenger/contents/55685/.0020.scavengerhunt?ref=master',\n",
       " 'https://api.github.com/repos/ironhack-datalabs/scavenger/contents/60224/.0003.scavengerhunt?ref=master',\n",
       " 'https://api.github.com/repos/ironhack-datalabs/scavenger/contents/68848/.0004.scavengerhunt?ref=master',\n",
       " 'https://api.github.com/repos/ironhack-datalabs/scavenger/contents/70751/.0019.scavengerhunt?ref=master',\n",
       " 'https://api.github.com/repos/ironhack-datalabs/scavenger/contents/70985/.0017.scavengerhunt?ref=master',\n",
       " 'https://api.github.com/repos/ironhack-datalabs/scavenger/contents/88596/.0002.scavengerhunt?ref=master',\n",
       " 'https://api.github.com/repos/ironhack-datalabs/scavenger/contents/89338/.0013.scavengerhunt?ref=master',\n",
       " 'https://api.github.com/repos/ironhack-datalabs/scavenger/contents/91701/.0015.scavengerhunt?ref=master',\n",
       " 'https://api.github.com/repos/ironhack-datalabs/scavenger/contents/97881/.0009.scavengerhunt?ref=master',\n",
       " 'https://api.github.com/repos/ironhack-datalabs/scavenger/contents/98750/.0001.scavengerhunt?ref=master']"
      ]
     },
     "execution_count": 10,
     "metadata": {},
     "output_type": "execute_result"
    }
   ],
   "source": [
    "tercera = []\n",
    "for s in segunda:    \n",
    "    for dic in s:\n",
    "        if dic[\"url\"].endswith(\"scavengerhunt?ref=master\"):\n",
    "            tercera.append(dic[\"url\"])\n",
    "tercera"
   ]
  },
  {
   "cell_type": "code",
   "execution_count": 11,
   "id": "432dc40f",
   "metadata": {},
   "outputs": [
    {
     "name": "stdout",
     "output_type": "stream",
     "text": [
      "Estoy haciendo request a https://api.github.com/repos/ironhack-datalabs/scavenger/contents/15024/.0006.scavengerhunt?ref=master\n",
      "Estoy haciendo request a https://api.github.com/repos/ironhack-datalabs/scavenger/contents/15534/.0008.scavengerhunt?ref=master\n",
      "Estoy haciendo request a https://api.github.com/repos/ironhack-datalabs/scavenger/contents/15534/.0012.scavengerhunt?ref=master\n",
      "Estoy haciendo request a https://api.github.com/repos/ironhack-datalabs/scavenger/contents/17020/.0007.scavengerhunt?ref=master\n",
      "Estoy haciendo request a https://api.github.com/repos/ironhack-datalabs/scavenger/contents/30351/.0021.scavengerhunt?ref=master\n",
      "Estoy haciendo request a https://api.github.com/repos/ironhack-datalabs/scavenger/contents/40303/.0022.scavengerhunt?ref=master\n",
      "Estoy haciendo request a https://api.github.com/repos/ironhack-datalabs/scavenger/contents/44639/.0005.scavengerhunt?ref=master\n",
      "Estoy haciendo request a https://api.github.com/repos/ironhack-datalabs/scavenger/contents/45525/.0018.scavengerhunt?ref=master\n",
      "Estoy haciendo request a https://api.github.com/repos/ironhack-datalabs/scavenger/contents/47222/.0016.scavengerhunt?ref=master\n",
      "Estoy haciendo request a https://api.github.com/repos/ironhack-datalabs/scavenger/contents/47222/.0024.scavengerhunt?ref=master\n",
      "Estoy haciendo request a https://api.github.com/repos/ironhack-datalabs/scavenger/contents/47830/.0010.scavengerhunt?ref=master\n",
      "Estoy haciendo request a https://api.github.com/repos/ironhack-datalabs/scavenger/contents/49418/.0014.scavengerhunt?ref=master\n",
      "Estoy haciendo request a https://api.github.com/repos/ironhack-datalabs/scavenger/contents/50896/.0011.scavengerhunt?ref=master\n",
      "Estoy haciendo request a https://api.github.com/repos/ironhack-datalabs/scavenger/contents/55417/.0023.scavengerhunt?ref=master\n",
      "Estoy haciendo request a https://api.github.com/repos/ironhack-datalabs/scavenger/contents/55685/.0020.scavengerhunt?ref=master\n",
      "Estoy haciendo request a https://api.github.com/repos/ironhack-datalabs/scavenger/contents/60224/.0003.scavengerhunt?ref=master\n",
      "Estoy haciendo request a https://api.github.com/repos/ironhack-datalabs/scavenger/contents/68848/.0004.scavengerhunt?ref=master\n",
      "Estoy haciendo request a https://api.github.com/repos/ironhack-datalabs/scavenger/contents/70751/.0019.scavengerhunt?ref=master\n",
      "Estoy haciendo request a https://api.github.com/repos/ironhack-datalabs/scavenger/contents/70985/.0017.scavengerhunt?ref=master\n",
      "Estoy haciendo request a https://api.github.com/repos/ironhack-datalabs/scavenger/contents/88596/.0002.scavengerhunt?ref=master\n",
      "Estoy haciendo request a https://api.github.com/repos/ironhack-datalabs/scavenger/contents/89338/.0013.scavengerhunt?ref=master\n",
      "Estoy haciendo request a https://api.github.com/repos/ironhack-datalabs/scavenger/contents/91701/.0015.scavengerhunt?ref=master\n",
      "Estoy haciendo request a https://api.github.com/repos/ironhack-datalabs/scavenger/contents/97881/.0009.scavengerhunt?ref=master\n",
      "Estoy haciendo request a https://api.github.com/repos/ironhack-datalabs/scavenger/contents/98750/.0001.scavengerhunt?ref=master\n"
     ]
    }
   ],
   "source": [
    "cuarta = [rasfunction(t) for t in tercera]"
   ]
  },
  {
   "cell_type": "code",
   "execution_count": 12,
   "id": "b21ab9d4",
   "metadata": {
    "scrolled": false
   },
   "outputs": [
    {
     "data": {
      "text/plain": [
       "{'name': '.0008.scavengerhunt',\n",
       " 'path': '15534/.0008.scavengerhunt',\n",
       " 'sha': 'e351fb73264581ce26504b97ef07daea35116f32',\n",
       " 'size': 6,\n",
       " 'url': 'https://api.github.com/repos/ironhack-datalabs/scavenger/contents/15534/.0008.scavengerhunt?ref=master',\n",
       " 'html_url': 'https://github.com/ironhack-datalabs/scavenger/blob/master/15534/.0008.scavengerhunt',\n",
       " 'git_url': 'https://api.github.com/repos/ironhack-datalabs/scavenger/git/blobs/e351fb73264581ce26504b97ef07daea35116f32',\n",
       " 'download_url': 'https://raw.githubusercontent.com/ironhack-datalabs/scavenger/master/15534/.0008.scavengerhunt',\n",
       " 'type': 'file',\n",
       " 'content': 'c3BlbnQK\\n',\n",
       " 'encoding': 'base64',\n",
       " '_links': {'self': 'https://api.github.com/repos/ironhack-datalabs/scavenger/contents/15534/.0008.scavengerhunt?ref=master',\n",
       "  'git': 'https://api.github.com/repos/ironhack-datalabs/scavenger/git/blobs/e351fb73264581ce26504b97ef07daea35116f32',\n",
       "  'html': 'https://github.com/ironhack-datalabs/scavenger/blob/master/15534/.0008.scavengerhunt'}}"
      ]
     },
     "execution_count": 12,
     "metadata": {},
     "output_type": "execute_result"
    }
   ],
   "source": [
    "cuarta[1]"
   ]
  },
  {
   "cell_type": "code",
   "execution_count": 18,
   "id": "8b2d1a7b",
   "metadata": {},
   "outputs": [
    {
     "name": "stdout",
     "output_type": "stream",
     "text": [
      "['b2YK\\n', 'c3BlbnQK\\n', 'MjAK\\n', 'dGltZQo=\\n', 'bmVlZAo=\\n', 'dG8K\\n', 'cGVyY2VudAo=\\n', 'Y29tcGxhaW5pbmcK\\n', 'aXMK\\n', 'ZGF0YS4K\\n', 'cHJlcGFyaW5nCg==\\n', 'b2YK\\n', 'ZGF0YSwK\\n', 'cHJlcGFyZQo=\\n', 'dGhlCg==\\n', 'c2NpZW5jZSwK\\n', 'ODAK\\n', 'YWJvdXQK\\n', 'c3BlbnQK\\n', 'ZGF0YQo=\\n', 'cGVyY2VudAo=\\n', 'dGltZQo=\\n', 'aXMK\\n', 'SW4K\\n']\n"
     ]
    }
   ],
   "source": [
    "quinta = []\n",
    "for c in cuarta:\n",
    "    quinta.append(c[\"content\"])\n",
    "print(quinta)"
   ]
  },
  {
   "cell_type": "code",
   "execution_count": 19,
   "id": "362ab0be",
   "metadata": {},
   "outputs": [
    {
     "name": "stdout",
     "output_type": "stream",
     "text": [
      "{'.0006.scavengerhunt': 'b2YK\\n', '.0008.scavengerhunt': 'c3BlbnQK\\n', '.0012.scavengerhunt': 'MjAK\\n', '.0007.scavengerhunt': 'dGltZQo=\\n', '.0021.scavengerhunt': 'bmVlZAo=\\n', '.0022.scavengerhunt': 'dG8K\\n', '.0005.scavengerhunt': 'cGVyY2VudAo=\\n', '.0018.scavengerhunt': 'Y29tcGxhaW5pbmcK\\n', '.0016.scavengerhunt': 'aXMK\\n', '.0024.scavengerhunt': 'ZGF0YS4K\\n', '.0010.scavengerhunt': 'cHJlcGFyaW5nCg==\\n', '.0014.scavengerhunt': 'b2YK\\n', '.0011.scavengerhunt': 'ZGF0YSwK\\n', '.0023.scavengerhunt': 'cHJlcGFyZQo=\\n', '.0020.scavengerhunt': 'dGhlCg==\\n', '.0003.scavengerhunt': 'c2NpZW5jZSwK\\n', '.0004.scavengerhunt': 'ODAK\\n', '.0019.scavengerhunt': 'YWJvdXQK\\n', '.0017.scavengerhunt': 'c3BlbnQK\\n', '.0002.scavengerhunt': 'ZGF0YQo=\\n', '.0013.scavengerhunt': 'cGVyY2VudAo=\\n', '.0015.scavengerhunt': 'dGltZQo=\\n', '.0009.scavengerhunt': 'aXMK\\n', '.0001.scavengerhunt': 'SW4K\\n'}\n"
     ]
    }
   ],
   "source": [
    "name_content = {}\n",
    "for c in cuarta:\n",
    "    name_content[c[\"name\"]] = c[\"content\"]\n",
    "print(name_content)"
   ]
  },
  {
   "cell_type": "code",
   "execution_count": 15,
   "id": "21a6009d",
   "metadata": {},
   "outputs": [
    {
     "name": "stdout",
     "output_type": "stream",
     "text": [
      "['SW4K\\n', 'ZGF0YQo=\\n', 'c2NpZW5jZSwK\\n', 'ODAK\\n', 'cGVyY2VudAo=\\n', 'b2YK\\n', 'dGltZQo=\\n', 'c3BlbnQK\\n', 'aXMK\\n', 'cHJlcGFyaW5nCg==\\n', 'ZGF0YSwK\\n', 'MjAK\\n', 'cGVyY2VudAo=\\n', 'b2YK\\n', 'dGltZQo=\\n', 'aXMK\\n', 'c3BlbnQK\\n', 'Y29tcGxhaW5pbmcK\\n', 'YWJvdXQK\\n', 'dGhlCg==\\n', 'bmVlZAo=\\n', 'dG8K\\n', 'cHJlcGFyZQo=\\n', 'ZGF0YS4K\\n']\n"
     ]
    }
   ],
   "source": [
    "#sorted(dict.keys())\n",
    "\n",
    "claves = sorted(name_content.keys())\n",
    "\n",
    "\"\"\"\n",
    "for key in sorted(dict.keys()) :\n",
    "    print(key , \" :: \" , dict[key])\n",
    "\"\"\"\n",
    "content=[]\n",
    "for key in claves:\n",
    "    content.append(name_content[key])\n",
    "\n",
    "print(content)"
   ]
  },
  {
   "cell_type": "code",
   "execution_count": 16,
   "id": "c798c5a8",
   "metadata": {},
   "outputs": [],
   "source": [
    "translate = [base64.b64decode(c).decode(\"utf-8\")  for c in content]\n",
    "translate\n",
    "frasecita = \"\".join(translate)\n",
    "frasecismo = frasecita.replace(\"\\n\",\" \").strip()"
   ]
  },
  {
   "cell_type": "code",
   "execution_count": 17,
   "id": "057fb09c",
   "metadata": {},
   "outputs": [
    {
     "data": {
      "text/plain": [
       "'In data science, 80 percent of time spent is preparing data, 20 percent of time is spent complaining about the need to prepare data.'"
      ]
     },
     "execution_count": 17,
     "metadata": {},
     "output_type": "execute_result"
    }
   ],
   "source": [
    "frasecismo"
   ]
  }
 ],
 "metadata": {
  "kernelspec": {
   "display_name": "ironhack",
   "language": "python",
   "name": "ironhack"
  },
  "language_info": {
   "codemirror_mode": {
    "name": "ipython",
    "version": 3
   },
   "file_extension": ".py",
   "mimetype": "text/x-python",
   "name": "python",
   "nbconvert_exporter": "python",
   "pygments_lexer": "ipython3",
   "version": "3.8.5"
  },
  "toc": {
   "base_numbering": 1,
   "nav_menu": {},
   "number_sections": true,
   "sideBar": true,
   "skip_h1_title": true,
   "title_cell": "Table of Contents",
   "title_sidebar": "Contents",
   "toc_cell": false,
   "toc_position": {},
   "toc_section_display": true,
   "toc_window_display": true
  }
 },
 "nbformat": 4,
 "nbformat_minor": 5
}
