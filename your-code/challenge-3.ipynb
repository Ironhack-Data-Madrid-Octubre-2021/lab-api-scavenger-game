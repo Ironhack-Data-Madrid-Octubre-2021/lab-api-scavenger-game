{
 "cells": [
  {
   "cell_type": "markdown",
   "id": "defensive-clock",
   "metadata": {},
   "source": [
    "# Challenge 3: Hidden Cold Joke\n",
    "\n",
    "Using Python, call Github API to find out the cold joke contained in the 24 secret files in the following repo:\n",
    "\n",
    "https://github.com/ironhack-datalabs/scavenger\n",
    "\n",
    "The filenames of the secret files contain .scavengerhunt and they are scattered in different directories of this repo. The secret files are named from .0001.scavengerhunt to .0024.scavengerhunt. They are scattered randomly throughout this repo. You need to search for these files by calling the Github API, not searching the local files on your computer.\n",
    "\n",
    "\n",
    "After you find out the secrete files:\n",
    "\n",
    "Sort the filenames ascendingly.\n",
    "\n",
    "Read the content of each secret files into an array of strings.\n",
    "\n",
    "Concatenate the strings in the array separating each two with a whitespace.\n",
    "\n",
    "Print out the joke."
   ]
  },
  {
   "cell_type": "markdown",
   "id": "universal-length",
   "metadata": {},
   "source": [
    "⚠️ **Remember to limit your output before submission**."
   ]
  },
  {
   "cell_type": "code",
   "execution_count": 1,
   "id": "1cafcab9",
   "metadata": {},
   "outputs": [
    {
     "name": "stdout",
     "output_type": "stream",
     "text": [
      "Requirement already satisfied: PyGithub in /home/krujo/Anaconda3/lib/python3.8/site-packages (1.55)\n",
      "Requirement already satisfied: requests>=2.14.0 in /home/krujo/Anaconda3/lib/python3.8/site-packages (from PyGithub) (2.25.1)\n",
      "Requirement already satisfied: pyjwt>=2.0 in /home/krujo/Anaconda3/lib/python3.8/site-packages (from PyGithub) (2.3.0)\n",
      "Requirement already satisfied: pynacl>=1.4.0 in /home/krujo/Anaconda3/lib/python3.8/site-packages (from PyGithub) (1.4.0)\n",
      "Requirement already satisfied: deprecated in /home/krujo/Anaconda3/lib/python3.8/site-packages (from PyGithub) (1.2.13)\n",
      "Requirement already satisfied: cffi>=1.4.1 in /home/krujo/Anaconda3/lib/python3.8/site-packages (from pynacl>=1.4.0->PyGithub) (1.14.5)\n",
      "Requirement already satisfied: six in /home/krujo/Anaconda3/lib/python3.8/site-packages (from pynacl>=1.4.0->PyGithub) (1.15.0)\n",
      "Requirement already satisfied: pycparser in /home/krujo/Anaconda3/lib/python3.8/site-packages (from cffi>=1.4.1->pynacl>=1.4.0->PyGithub) (2.20)\n",
      "Requirement already satisfied: certifi>=2017.4.17 in /home/krujo/Anaconda3/lib/python3.8/site-packages (from requests>=2.14.0->PyGithub) (2020.12.5)\n",
      "Requirement already satisfied: idna<3,>=2.5 in /home/krujo/Anaconda3/lib/python3.8/site-packages (from requests>=2.14.0->PyGithub) (2.10)\n",
      "Requirement already satisfied: chardet<5,>=3.0.2 in /home/krujo/Anaconda3/lib/python3.8/site-packages (from requests>=2.14.0->PyGithub) (4.0.0)\n",
      "Requirement already satisfied: urllib3<1.27,>=1.21.1 in /home/krujo/Anaconda3/lib/python3.8/site-packages (from requests>=2.14.0->PyGithub) (1.26.4)\n",
      "Requirement already satisfied: wrapt<2,>=1.10 in /home/krujo/Anaconda3/lib/python3.8/site-packages (from deprecated->PyGithub) (1.12.1)\n",
      "Note: you may need to restart the kernel to use updated packages.\n"
     ]
    }
   ],
   "source": [
    "%pip install PyGithub"
   ]
  },
  {
   "cell_type": "code",
   "execution_count": 2,
   "id": "toxic-trading",
   "metadata": {},
   "outputs": [],
   "source": [
    "import json\n",
    "import requests\n",
    "import pandas as pd\n",
    "from github import Github\n"
   ]
  },
  {
   "cell_type": "code",
   "execution_count": 3,
   "id": "static-stopping",
   "metadata": {},
   "outputs": [],
   "source": [
    "import os\n",
    "from dotenv import load_dotenv"
   ]
  },
  {
   "cell_type": "code",
   "execution_count": 4,
   "id": "bd6de411",
   "metadata": {},
   "outputs": [
    {
     "data": {
      "text/plain": [
       "True"
      ]
     },
     "execution_count": 4,
     "metadata": {},
     "output_type": "execute_result"
    }
   ],
   "source": [
    "load_dotenv()"
   ]
  },
  {
   "cell_type": "code",
   "execution_count": 5,
   "id": "40d74f21",
   "metadata": {},
   "outputs": [],
   "source": [
    "code = os.getenv(\"token\")"
   ]
  },
  {
   "cell_type": "code",
   "execution_count": 6,
   "id": "69390397",
   "metadata": {},
   "outputs": [],
   "source": [
    "g1 = Github(code)\n",
    "g2 = g1"
   ]
  },
  {
   "cell_type": "code",
   "execution_count": 7,
   "id": "60ddcb6b",
   "metadata": {},
   "outputs": [
    {
     "ename": "NameError",
     "evalue": "name 'g' is not defined",
     "output_type": "error",
     "traceback": [
      "\u001b[0;31m---------------------------------------------------------------------------\u001b[0m",
      "\u001b[0;31mNameError\u001b[0m                                 Traceback (most recent call last)",
      "\u001b[0;32m<ipython-input-7-b9fb8c821ed4>\u001b[0m in \u001b[0;36m<module>\u001b[0;34m\u001b[0m\n\u001b[0;32m----> 1\u001b[0;31m \u001b[0mprint\u001b[0m\u001b[0;34m(\u001b[0m\u001b[0mg\u001b[0m\u001b[0;34m.\u001b[0m\u001b[0mget_user\u001b[0m\u001b[0;34m(\u001b[0m\u001b[0;34m)\u001b[0m\u001b[0;34m.\u001b[0m\u001b[0mget_repos\u001b[0m\u001b[0;34m(\u001b[0m\u001b[0;34m)\u001b[0m\u001b[0;34m)\u001b[0m\u001b[0;34m\u001b[0m\u001b[0;34m\u001b[0m\u001b[0m\n\u001b[0m",
      "\u001b[0;31mNameError\u001b[0m: name 'g' is not defined"
     ]
    }
   ],
   "source": [
    "print(g.get_user().get_repos())"
   ]
  },
  {
   "cell_type": "code",
   "execution_count": null,
   "id": "ffb0dbb3",
   "metadata": {},
   "outputs": [],
   "source": [
    "if __name__ == '__main__':\n",
    "    keywords = input('Enter keyword(s)[e.g python, flask, postgres]: ')"
   ]
  },
  {
   "cell_type": "code",
   "execution_count": null,
   "id": "2158719d",
   "metadata": {},
   "outputs": [],
   "source": [
    "keywords = [keyword.strip() for keyword in keywords.split(',')]"
   ]
  },
  {
   "cell_type": "code",
   "execution_count": null,
   "id": "54e1a681",
   "metadata": {},
   "outputs": [],
   "source": [
    "def search_github(keywords):\n",
    "    query = '+'.join(keywords) + '+in:readme+in:description'\n",
    "    result = g.search_repositories(query, 'stars', 'desc')\n",
    " \n",
    "    print(f'Found {result.totalCount} repo(s)')\n",
    " \n",
    "    for repo in result:\n",
    "        print(repo.clone_url)\n",
    "        \n",
    "    keywords = [keyword.strip() for keyword in keywords.split(',')]\n",
    "    search_github(keywords)\n",
    "    \n",
    "    for repo in result:\n",
    "        print(f'{repo.clone_url}, {repo.stargazers_count} stars')"
   ]
  },
  {
   "cell_type": "code",
   "execution_count": null,
   "id": "1c8159d8",
   "metadata": {},
   "outputs": [],
   "source": []
  },
  {
   "cell_type": "code",
   "execution_count": null,
   "id": "db17e5fc",
   "metadata": {},
   "outputs": [],
   "source": []
  },
  {
   "cell_type": "code",
   "execution_count": null,
   "id": "dc04c5ce",
   "metadata": {},
   "outputs": [],
   "source": []
  },
  {
   "cell_type": "code",
   "execution_count": null,
   "id": "bbd5b081",
   "metadata": {},
   "outputs": [],
   "source": []
  },
  {
   "cell_type": "code",
   "execution_count": null,
   "id": "625e0eff",
   "metadata": {},
   "outputs": [],
   "source": []
  },
  {
   "cell_type": "code",
   "execution_count": null,
   "id": "e0570af7",
   "metadata": {},
   "outputs": [],
   "source": []
  },
  {
   "cell_type": "code",
   "execution_count": null,
   "id": "24aa301d",
   "metadata": {},
   "outputs": [],
   "source": [
    "#user = ironhack-datalabs"
   ]
  },
  {
   "cell_type": "code",
   "execution_count": null,
   "id": "b6c33504",
   "metadata": {},
   "outputs": [],
   "source": [
    "!curl -i 'https://api.github.com/search/repositories?q=scavengerhunt?user=ironhack-datalabs'"
   ]
  },
  {
   "cell_type": "code",
   "execution_count": null,
   "id": "c546d575",
   "metadata": {},
   "outputs": [],
   "source": []
  },
  {
   "cell_type": "code",
   "execution_count": null,
   "id": "1c86f025",
   "metadata": {},
   "outputs": [],
   "source": []
  },
  {
   "cell_type": "code",
   "execution_count": null,
   "id": "9fd581bb",
   "metadata": {},
   "outputs": [],
   "source": [
    "challenge3"
   ]
  },
  {
   "cell_type": "code",
   "execution_count": null,
   "id": "06c73e42",
   "metadata": {},
   "outputs": [],
   "source": [
    "\n",
    "def requestGithub(enlace):\n",
    "    tok = os.getenv(\"github\")\n",
    "    if not tok:\n",
    "        raise ValueError(\"OJOOO necesitas un token\")\n",
    "    print(f\"Estoy haciendo request a {enlace}\")\n",
    "    parametros = {\"Authorization\": f\"token {tok}\"}\n",
    "    res = requests.get(enlace, params=parametros).json()\n",
    "    return res"
   ]
  },
  {
   "cell_type": "code",
   "execution_count": null,
   "id": "8bfb9e7b",
   "metadata": {},
   "outputs": [],
   "source": [
    "parametros = {\"Authorization\": f\"token {github}\"}"
   ]
  },
  {
   "cell_type": "code",
   "execution_count": null,
   "id": "3dadf8e6",
   "metadata": {},
   "outputs": [],
   "source": [
    "challenge3 = requests.get(, params=parametros).json()"
   ]
  },
  {
   "cell_type": "code",
   "execution_count": null,
   "id": "4b39bb6a",
   "metadata": {},
   "outputs": [],
   "source": [
    "url = 'https://api.github.com/search/repositories?q=scavengerhuntin:scavenger'"
   ]
  },
  {
   "cell_type": "code",
   "execution_count": null,
   "id": "27ee7e79",
   "metadata": {},
   "outputs": [],
   "source": [
    "response = request(\"GET\", url).json()"
   ]
  },
  {
   "cell_type": "code",
   "execution_count": null,
   "id": "d237bf16",
   "metadata": {},
   "outputs": [],
   "source": [
    "response"
   ]
  },
  {
   "cell_type": "code",
   "execution_count": null,
   "id": "89dfd0b7",
   "metadata": {},
   "outputs": [],
   "source": [
    "df=pd.DataFrame(response)"
   ]
  },
  {
   "cell_type": "code",
   "execution_count": null,
   "id": "ee9241e4",
   "metadata": {},
   "outputs": [],
   "source": []
  },
  {
   "cell_type": "code",
   "execution_count": null,
   "id": "50c1465e",
   "metadata": {},
   "outputs": [],
   "source": [
    "url = 'https://api.github.com/search/ironhack-datalabs/scavenger/contents?q=scavengerhunt'"
   ]
  },
  {
   "cell_type": "code",
   "execution_count": null,
   "id": "48e34be4",
   "metadata": {},
   "outputs": [],
   "source": [
    "response = requests.request(\"GET\", url).json()"
   ]
  },
  {
   "cell_type": "code",
   "execution_count": null,
   "id": "2276e6e7",
   "metadata": {},
   "outputs": [],
   "source": [
    "response"
   ]
  },
  {
   "cell_type": "code",
   "execution_count": null,
   "id": "031a2ecc",
   "metadata": {},
   "outputs": [],
   "source": [
    "for i in listx"
   ]
  }
 ],
 "metadata": {
  "kernelspec": {
   "display_name": "ironhack",
   "language": "python",
   "name": "ironhack"
  },
  "language_info": {
   "codemirror_mode": {
    "name": "ipython",
    "version": 3
   },
   "file_extension": ".py",
   "mimetype": "text/x-python",
   "name": "python",
   "nbconvert_exporter": "python",
   "pygments_lexer": "ipython3",
   "version": "3.8.8"
  },
  "toc": {
   "base_numbering": 1,
   "nav_menu": {},
   "number_sections": true,
   "sideBar": true,
   "skip_h1_title": true,
   "title_cell": "Table of Contents",
   "title_sidebar": "Contents",
   "toc_cell": false,
   "toc_position": {},
   "toc_section_display": true,
   "toc_window_display": true
  }
 },
 "nbformat": 4,
 "nbformat_minor": 5
}
