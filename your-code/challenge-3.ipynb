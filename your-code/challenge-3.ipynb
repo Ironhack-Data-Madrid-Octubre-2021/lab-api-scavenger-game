{
 "cells": [
  {
   "cell_type": "markdown",
   "id": "defensive-clock",
   "metadata": {},
   "source": [
    "# Challenge 3: Hidden Cold Joke\n",
    "\n",
    "Using Python, call Github API to find out the cold joke contained in the 24 secret files in the following repo:\n",
    "\n",
    "https://github.com/ironhack-datalabs/scavenger\n",
    "\n",
    "The filenames of the secret files contain .scavengerhunt and they are scattered in different directories of this repo. The secret files are named from .0001.scavengerhunt to .0024.scavengerhunt. They are scattered randomly throughout this repo. You need to search for these files by calling the Github API, not searching the local files on your computer.\n",
    "\n",
    "\n",
    "After you find out the secrete files:\n",
    "\n",
    "Sort the filenames ascendingly.\n",
    "\n",
    "Read the content of each secret files into an array of strings.\n",
    "\n",
    "Concatenate the strings in the array separating each two with a whitespace.\n",
    "\n",
    "Print out the joke."
   ]
  },
  {
   "cell_type": "markdown",
   "id": "universal-length",
   "metadata": {},
   "source": [
    "⚠️ **Remember to limit your output before submission**."
   ]
  },
  {
   "cell_type": "code",
   "execution_count": 1,
   "id": "toxic-trading",
   "metadata": {},
   "outputs": [],
   "source": [
    "# Your code\n",
    "\n",
    "import json\n",
    "import requests\n",
    "import pandas as pd\n",
    "import os\n",
    "from dotenv import load_dotenv"
   ]
  },
  {
   "cell_type": "code",
   "execution_count": 149,
   "id": "1381d900",
   "metadata": {},
   "outputs": [],
   "source": [
    "load_dotenv()\n",
    "github = os.getenv(\"token\")\n",
    "url_github = 'https://api.github.com/repos/ironhack-datalabs/scavenger/contents/17020/.0007.scavengerhunt'\n",
    "parameters = {\"Authorization\": f\"token {github}\"}\n",
    "hunt = requests.get(url_github, headers=parameters).json()"
   ]
  },
  {
   "cell_type": "code",
   "execution_count": 150,
   "id": "3ef6adc4",
   "metadata": {},
   "outputs": [
    {
     "data": {
      "text/plain": [
       "'dGltZQo=\\n'"
      ]
     },
     "execution_count": 150,
     "metadata": {},
     "output_type": "execute_result"
    }
   ],
   "source": [
    "hunt['content']"
   ]
  },
  {
   "cell_type": "code",
   "execution_count": 31,
   "id": "7c91dcca",
   "metadata": {},
   "outputs": [],
   "source": [
    "url_github = 'https://api.github.com/repos/ironhack-datalabs/scavenger/contents'\n",
    "hunt = requests.get(url_github, headers=parameters).json()"
   ]
  },
  {
   "cell_type": "code",
   "execution_count": 52,
   "id": "2248078e",
   "metadata": {},
   "outputs": [
    {
     "data": {
      "text/plain": [
       "'15534'"
      ]
     },
     "execution_count": 52,
     "metadata": {},
     "output_type": "execute_result"
    }
   ],
   "source": [
    "hunt[2]['name']"
   ]
  },
  {
   "cell_type": "code",
   "execution_count": 48,
   "id": "3fd84e18",
   "metadata": {},
   "outputs": [
    {
     "name": "stdout",
     "output_type": "stream",
     "text": [
      "['.gitignore', '15024', '15534', '17020', '30351', '40303', '44639', '45525', '47222', '47830', '49418', '50896', '55417', '55685', '60224', '64880', '66032', '68848', '70751', '70985', '88596', '89046', '89338', '91701', '97881', '98750']\n"
     ]
    }
   ],
   "source": [
    "listx = []\n",
    "\n",
    "for i in hunt:\n",
    "    listx.append(i['name'])\n",
    "\n",
    "print(listx)"
   ]
  },
  {
   "cell_type": "code",
   "execution_count": 131,
   "id": "0ce43e24",
   "metadata": {},
   "outputs": [
    {
     "data": {
      "text/plain": [
       "['https://api.github.com/repos/ironhack-datalabs/scavenger/contents/.gitignore',\n",
       " 'https://api.github.com/repos/ironhack-datalabs/scavenger/contents/15024',\n",
       " 'https://api.github.com/repos/ironhack-datalabs/scavenger/contents/15534',\n",
       " 'https://api.github.com/repos/ironhack-datalabs/scavenger/contents/17020',\n",
       " 'https://api.github.com/repos/ironhack-datalabs/scavenger/contents/30351',\n",
       " 'https://api.github.com/repos/ironhack-datalabs/scavenger/contents/40303',\n",
       " 'https://api.github.com/repos/ironhack-datalabs/scavenger/contents/44639',\n",
       " 'https://api.github.com/repos/ironhack-datalabs/scavenger/contents/45525',\n",
       " 'https://api.github.com/repos/ironhack-datalabs/scavenger/contents/47222',\n",
       " 'https://api.github.com/repos/ironhack-datalabs/scavenger/contents/47830',\n",
       " 'https://api.github.com/repos/ironhack-datalabs/scavenger/contents/49418',\n",
       " 'https://api.github.com/repos/ironhack-datalabs/scavenger/contents/50896',\n",
       " 'https://api.github.com/repos/ironhack-datalabs/scavenger/contents/55417',\n",
       " 'https://api.github.com/repos/ironhack-datalabs/scavenger/contents/55685',\n",
       " 'https://api.github.com/repos/ironhack-datalabs/scavenger/contents/60224',\n",
       " 'https://api.github.com/repos/ironhack-datalabs/scavenger/contents/64880',\n",
       " 'https://api.github.com/repos/ironhack-datalabs/scavenger/contents/66032',\n",
       " 'https://api.github.com/repos/ironhack-datalabs/scavenger/contents/68848',\n",
       " 'https://api.github.com/repos/ironhack-datalabs/scavenger/contents/70751',\n",
       " 'https://api.github.com/repos/ironhack-datalabs/scavenger/contents/70985',\n",
       " 'https://api.github.com/repos/ironhack-datalabs/scavenger/contents/88596',\n",
       " 'https://api.github.com/repos/ironhack-datalabs/scavenger/contents/89046',\n",
       " 'https://api.github.com/repos/ironhack-datalabs/scavenger/contents/89338',\n",
       " 'https://api.github.com/repos/ironhack-datalabs/scavenger/contents/91701',\n",
       " 'https://api.github.com/repos/ironhack-datalabs/scavenger/contents/97881',\n",
       " 'https://api.github.com/repos/ironhack-datalabs/scavenger/contents/98750']"
      ]
     },
     "execution_count": 131,
     "metadata": {},
     "output_type": "execute_result"
    }
   ],
   "source": [
    "lista_repos = []\n",
    "for i in listx:\n",
    "    url_hunt = f'https://api.github.com/repos/ironhack-datalabs/scavenger/contents/{i}'\n",
    "    lista_repos.append(url_hunt)\n",
    "    \n",
    "lista_repos"
   ]
  },
  {
   "cell_type": "code",
   "execution_count": 132,
   "id": "69d9f3a7",
   "metadata": {},
   "outputs": [],
   "source": [
    "import re"
   ]
  },
  {
   "cell_type": "code",
   "execution_count": 133,
   "id": "ca0a95ef",
   "metadata": {},
   "outputs": [],
   "source": [
    "#lista_hunts = []\n",
    "#for i in lista_repos:\n",
    "    #url_hunt = f\"https://api.github.com/repos/ironhack-datalabs/scavenger/contents/{repo}/r'{.*[a-z]}'\"\n",
    "    #lista.append(url_hunt)\n",
    "    \n",
    "#lista_hunts"
   ]
  },
  {
   "cell_type": "code",
   "execution_count": 146,
   "id": "c3188d5d",
   "metadata": {
    "scrolled": true
   },
   "outputs": [
    {
     "data": {
      "text/plain": [
       "0    .0007.scavengerhunt\n",
       "1                     46\n",
       "2                     97\n",
       "Name: name, dtype: object"
      ]
     },
     "execution_count": 146,
     "metadata": {},
     "output_type": "execute_result"
    }
   ],
   "source": [
    "x = 'https://api.github.com/repos/ironhack-datalabs/scavenger/contents/17020'\n",
    "y = requests.get(x, headers=parameters).json()\n",
    "df_xxx = pd.DataFrame(y)\n",
    "df_xxx.name"
   ]
  },
  {
   "cell_type": "code",
   "execution_count": 138,
   "id": "4784f538",
   "metadata": {},
   "outputs": [
    {
     "data": {
      "text/plain": [
       "[[{'name': '.0001.scavengerhunt',\n",
       "   'path': '98750/.0001.scavengerhunt',\n",
       "   'sha': '2add7632f1323136324efbf38ec66db1838b6173',\n",
       "   'size': 3,\n",
       "   'url': 'https://api.github.com/repos/ironhack-datalabs/scavenger/contents/98750/.0001.scavengerhunt?ref=master',\n",
       "   'html_url': 'https://github.com/ironhack-datalabs/scavenger/blob/master/98750/.0001.scavengerhunt',\n",
       "   'git_url': 'https://api.github.com/repos/ironhack-datalabs/scavenger/git/blobs/2add7632f1323136324efbf38ec66db1838b6173',\n",
       "   'download_url': 'https://raw.githubusercontent.com/ironhack-datalabs/scavenger/master/98750/.0001.scavengerhunt',\n",
       "   'type': 'file',\n",
       "   '_links': {'self': 'https://api.github.com/repos/ironhack-datalabs/scavenger/contents/98750/.0001.scavengerhunt?ref=master',\n",
       "    'git': 'https://api.github.com/repos/ironhack-datalabs/scavenger/git/blobs/2add7632f1323136324efbf38ec66db1838b6173',\n",
       "    'html': 'https://github.com/ironhack-datalabs/scavenger/blob/master/98750/.0001.scavengerhunt'}},\n",
       "  {'name': '20',\n",
       "   'path': '98750/20',\n",
       "   'sha': 'e69de29bb2d1d6434b8b29ae775ad8c2e48c5391',\n",
       "   'size': 0,\n",
       "   'url': 'https://api.github.com/repos/ironhack-datalabs/scavenger/contents/98750/20?ref=master',\n",
       "   'html_url': 'https://github.com/ironhack-datalabs/scavenger/blob/master/98750/20',\n",
       "   'git_url': 'https://api.github.com/repos/ironhack-datalabs/scavenger/git/blobs/e69de29bb2d1d6434b8b29ae775ad8c2e48c5391',\n",
       "   'download_url': 'https://raw.githubusercontent.com/ironhack-datalabs/scavenger/master/98750/20',\n",
       "   'type': 'file',\n",
       "   '_links': {'self': 'https://api.github.com/repos/ironhack-datalabs/scavenger/contents/98750/20?ref=master',\n",
       "    'git': 'https://api.github.com/repos/ironhack-datalabs/scavenger/git/blobs/e69de29bb2d1d6434b8b29ae775ad8c2e48c5391',\n",
       "    'html': 'https://github.com/ironhack-datalabs/scavenger/blob/master/98750/20'}},\n",
       "  {'name': '62',\n",
       "   'path': '98750/62',\n",
       "   'sha': 'e69de29bb2d1d6434b8b29ae775ad8c2e48c5391',\n",
       "   'size': 0,\n",
       "   'url': 'https://api.github.com/repos/ironhack-datalabs/scavenger/contents/98750/62?ref=master',\n",
       "   'html_url': 'https://github.com/ironhack-datalabs/scavenger/blob/master/98750/62',\n",
       "   'git_url': 'https://api.github.com/repos/ironhack-datalabs/scavenger/git/blobs/e69de29bb2d1d6434b8b29ae775ad8c2e48c5391',\n",
       "   'download_url': 'https://raw.githubusercontent.com/ironhack-datalabs/scavenger/master/98750/62',\n",
       "   'type': 'file',\n",
       "   '_links': {'self': 'https://api.github.com/repos/ironhack-datalabs/scavenger/contents/98750/62?ref=master',\n",
       "    'git': 'https://api.github.com/repos/ironhack-datalabs/scavenger/git/blobs/e69de29bb2d1d6434b8b29ae775ad8c2e48c5391',\n",
       "    'html': 'https://github.com/ironhack-datalabs/scavenger/blob/master/98750/62'}}]]"
      ]
     },
     "execution_count": 138,
     "metadata": {},
     "output_type": "execute_result"
    }
   ],
   "source": [
    "for i in lista_repos:\n",
    "    w = []\n",
    "    y = requests.get(i, headers=parameters).json()\n",
    "    w.append(y)"
   ]
  },
  {
   "cell_type": "code",
   "execution_count": 104,
   "id": "f9c25e40",
   "metadata": {},
   "outputs": [
    {
     "data": {
      "text/plain": [
       "True"
      ]
     },
     "execution_count": 104,
     "metadata": {},
     "output_type": "execute_result"
    }
   ],
   "source": [
    "load_dotenv()"
   ]
  },
  {
   "cell_type": "code",
   "execution_count": 109,
   "id": "1c9f3f91",
   "metadata": {},
   "outputs": [],
   "source": [
    "def requestGithub(enlace):\n",
    "    github = os.getenv(\"token\")\n",
    "    if not github:\n",
    "        raise ValueError(\"OJOOO necesitas un token\")\n",
    "    print(f\"Estoy haciendo request a {enlace}\")\n",
    "    parametros = {\"Authorization\": f\"token {github}\"}\n",
    "    res = requests.get(enlace, params=parametros).json()\n",
    "    return res"
   ]
  },
  {
   "cell_type": "code",
   "execution_count": 111,
   "id": "6bdeba81",
   "metadata": {},
   "outputs": [
    {
     "name": "stdout",
     "output_type": "stream",
     "text": [
      "Estoy haciendo request a https://api.github.com/repos/ironhack-datalabs/scavenger/contents/17020\n"
     ]
    },
    {
     "data": {
      "text/plain": [
       "[{'name': '.0007.scavengerhunt',\n",
       "  'path': '17020/.0007.scavengerhunt',\n",
       "  'sha': '6abb415e0ae3450be0f323113bcca2af195ebbff',\n",
       "  'size': 5,\n",
       "  'url': 'https://api.github.com/repos/ironhack-datalabs/scavenger/contents/17020/.0007.scavengerhunt?ref=master',\n",
       "  'html_url': 'https://github.com/ironhack-datalabs/scavenger/blob/master/17020/.0007.scavengerhunt',\n",
       "  'git_url': 'https://api.github.com/repos/ironhack-datalabs/scavenger/git/blobs/6abb415e0ae3450be0f323113bcca2af195ebbff',\n",
       "  'download_url': 'https://raw.githubusercontent.com/ironhack-datalabs/scavenger/master/17020/.0007.scavengerhunt',\n",
       "  'type': 'file',\n",
       "  '_links': {'self': 'https://api.github.com/repos/ironhack-datalabs/scavenger/contents/17020/.0007.scavengerhunt?ref=master',\n",
       "   'git': 'https://api.github.com/repos/ironhack-datalabs/scavenger/git/blobs/6abb415e0ae3450be0f323113bcca2af195ebbff',\n",
       "   'html': 'https://github.com/ironhack-datalabs/scavenger/blob/master/17020/.0007.scavengerhunt'}},\n",
       " {'name': '46',\n",
       "  'path': '17020/46',\n",
       "  'sha': 'e69de29bb2d1d6434b8b29ae775ad8c2e48c5391',\n",
       "  'size': 0,\n",
       "  'url': 'https://api.github.com/repos/ironhack-datalabs/scavenger/contents/17020/46?ref=master',\n",
       "  'html_url': 'https://github.com/ironhack-datalabs/scavenger/blob/master/17020/46',\n",
       "  'git_url': 'https://api.github.com/repos/ironhack-datalabs/scavenger/git/blobs/e69de29bb2d1d6434b8b29ae775ad8c2e48c5391',\n",
       "  'download_url': 'https://raw.githubusercontent.com/ironhack-datalabs/scavenger/master/17020/46',\n",
       "  'type': 'file',\n",
       "  '_links': {'self': 'https://api.github.com/repos/ironhack-datalabs/scavenger/contents/17020/46?ref=master',\n",
       "   'git': 'https://api.github.com/repos/ironhack-datalabs/scavenger/git/blobs/e69de29bb2d1d6434b8b29ae775ad8c2e48c5391',\n",
       "   'html': 'https://github.com/ironhack-datalabs/scavenger/blob/master/17020/46'}},\n",
       " {'name': '97',\n",
       "  'path': '17020/97',\n",
       "  'sha': 'e69de29bb2d1d6434b8b29ae775ad8c2e48c5391',\n",
       "  'size': 0,\n",
       "  'url': 'https://api.github.com/repos/ironhack-datalabs/scavenger/contents/17020/97?ref=master',\n",
       "  'html_url': 'https://github.com/ironhack-datalabs/scavenger/blob/master/17020/97',\n",
       "  'git_url': 'https://api.github.com/repos/ironhack-datalabs/scavenger/git/blobs/e69de29bb2d1d6434b8b29ae775ad8c2e48c5391',\n",
       "  'download_url': 'https://raw.githubusercontent.com/ironhack-datalabs/scavenger/master/17020/97',\n",
       "  'type': 'file',\n",
       "  '_links': {'self': 'https://api.github.com/repos/ironhack-datalabs/scavenger/contents/17020/97?ref=master',\n",
       "   'git': 'https://api.github.com/repos/ironhack-datalabs/scavenger/git/blobs/e69de29bb2d1d6434b8b29ae775ad8c2e48c5391',\n",
       "   'html': 'https://github.com/ironhack-datalabs/scavenger/blob/master/17020/97'}}]"
      ]
     },
     "execution_count": 111,
     "metadata": {},
     "output_type": "execute_result"
    }
   ],
   "source": [
    "scavenger = requestGithub('https://api.github.com/repos/ironhack-datalabs/scavenger/contents/17020')\n",
    "scavenger"
   ]
  },
  {
   "cell_type": "code",
   "execution_count": 113,
   "id": "099aa7ff",
   "metadata": {},
   "outputs": [
    {
     "data": {
      "text/plain": [
       "{'name': '.0007.scavengerhunt',\n",
       " 'path': '17020/.0007.scavengerhunt',\n",
       " 'sha': '6abb415e0ae3450be0f323113bcca2af195ebbff',\n",
       " 'size': 5,\n",
       " 'url': 'https://api.github.com/repos/ironhack-datalabs/scavenger/contents/17020/.0007.scavengerhunt?ref=master',\n",
       " 'html_url': 'https://github.com/ironhack-datalabs/scavenger/blob/master/17020/.0007.scavengerhunt',\n",
       " 'git_url': 'https://api.github.com/repos/ironhack-datalabs/scavenger/git/blobs/6abb415e0ae3450be0f323113bcca2af195ebbff',\n",
       " 'download_url': 'https://raw.githubusercontent.com/ironhack-datalabs/scavenger/master/17020/.0007.scavengerhunt',\n",
       " 'type': 'file',\n",
       " '_links': {'self': 'https://api.github.com/repos/ironhack-datalabs/scavenger/contents/17020/.0007.scavengerhunt?ref=master',\n",
       "  'git': 'https://api.github.com/repos/ironhack-datalabs/scavenger/git/blobs/6abb415e0ae3450be0f323113bcca2af195ebbff',\n",
       "  'html': 'https://github.com/ironhack-datalabs/scavenger/blob/master/17020/.0007.scavengerhunt'}}"
      ]
     },
     "execution_count": 113,
     "metadata": {},
     "output_type": "execute_result"
    }
   ],
   "source": [
    "scavenger[0]"
   ]
  },
  {
   "cell_type": "code",
   "execution_count": 114,
   "id": "15ff4aa2",
   "metadata": {},
   "outputs": [
    {
     "name": "stdout",
     "output_type": "stream",
     "text": [
      "Estoy haciendo request a https://api.github.com/repos/ironhack-datalabs/scavenger/contents/17020/.0007.scavengerhunt\n"
     ]
    },
    {
     "data": {
      "text/plain": [
       "{'name': '.0007.scavengerhunt',\n",
       " 'path': '17020/.0007.scavengerhunt',\n",
       " 'sha': '6abb415e0ae3450be0f323113bcca2af195ebbff',\n",
       " 'size': 5,\n",
       " 'url': 'https://api.github.com/repos/ironhack-datalabs/scavenger/contents/17020/.0007.scavengerhunt?ref=master',\n",
       " 'html_url': 'https://github.com/ironhack-datalabs/scavenger/blob/master/17020/.0007.scavengerhunt',\n",
       " 'git_url': 'https://api.github.com/repos/ironhack-datalabs/scavenger/git/blobs/6abb415e0ae3450be0f323113bcca2af195ebbff',\n",
       " 'download_url': 'https://raw.githubusercontent.com/ironhack-datalabs/scavenger/master/17020/.0007.scavengerhunt',\n",
       " 'type': 'file',\n",
       " 'content': 'dGltZQo=\\n',\n",
       " 'encoding': 'base64',\n",
       " '_links': {'self': 'https://api.github.com/repos/ironhack-datalabs/scavenger/contents/17020/.0007.scavengerhunt?ref=master',\n",
       "  'git': 'https://api.github.com/repos/ironhack-datalabs/scavenger/git/blobs/6abb415e0ae3450be0f323113bcca2af195ebbff',\n",
       "  'html': 'https://github.com/ironhack-datalabs/scavenger/blob/master/17020/.0007.scavengerhunt'}}"
      ]
     },
     "execution_count": 114,
     "metadata": {},
     "output_type": "execute_result"
    }
   ],
   "source": [
    "scavenger1 = requestGithub('https://api.github.com/repos/ironhack-datalabs/scavenger/contents/17020/.0007.scavengerhunt')\n",
    "scavenger1"
   ]
  },
  {
   "cell_type": "code",
   "execution_count": 115,
   "id": "3e6a2fed",
   "metadata": {},
   "outputs": [
    {
     "data": {
      "text/plain": [
       "'dGltZQo=\\n'"
      ]
     },
     "execution_count": 115,
     "metadata": {},
     "output_type": "execute_result"
    }
   ],
   "source": [
    "scavenger1['content']"
   ]
  }
 ],
 "metadata": {
  "kernelspec": {
   "display_name": "ironhack",
   "language": "python",
   "name": "ironhack"
  },
  "language_info": {
   "codemirror_mode": {
    "name": "ipython",
    "version": 3
   },
   "file_extension": ".py",
   "mimetype": "text/x-python",
   "name": "python",
   "nbconvert_exporter": "python",
   "pygments_lexer": "ipython3",
   "version": "3.9.7"
  },
  "toc": {
   "base_numbering": 1,
   "nav_menu": {},
   "number_sections": true,
   "sideBar": true,
   "skip_h1_title": true,
   "title_cell": "Table of Contents",
   "title_sidebar": "Contents",
   "toc_cell": false,
   "toc_position": {},
   "toc_section_display": true,
   "toc_window_display": true
  }
 },
 "nbformat": 4,
 "nbformat_minor": 5
}
